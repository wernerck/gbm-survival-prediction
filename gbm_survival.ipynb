{
 "cells": [
  {
   "cell_type": "markdown",
   "metadata": {},
   "source": [
    "# Predicting survival times in glioblastoma patients using gene expression and treatment data"
   ]
  },
  {
   "cell_type": "code",
   "execution_count": 1,
   "metadata": {},
   "outputs": [
    {
     "name": "stderr",
     "output_type": "stream",
     "text": [
      "C:\\Users\\chris\\anaconda3\\lib\\site-packages\\xenaPython\\__init__.py:110: FutureWarning: Possible nested set at position 7\n",
      "  re.sub(r\"^[^[]+[[]([^]]*)[]].*$\", r\"\\1\", query, flags=re.DOTALL))\n"
     ]
    }
   ],
   "source": [
    "# imports\n",
    "import xenaPython as xena\n",
    "import csv\n",
    "import pandas as pd\n",
    "import numpy as np\n",
    "import matplotlib.pyplot as plt\n",
    "%matplotlib inline\n",
    "matplotlib.rcParams['pdf.fonttype'] = 42\n",
    "matplotlib.rcParams['ps.fonttype'] = 42\n",
    "import seaborn as sns\n",
    "import dataframe_image as dfi\n",
    "\n",
    "# suppress all warnings\n",
    "import warnings\n",
    "warnings.filterwarnings(\"ignore\")"
   ]
  },
  {
   "cell_type": "code",
   "execution_count": 2,
   "metadata": {},
   "outputs": [],
   "source": [
    "# help(xena)"
   ]
  },
  {
   "cell_type": "markdown",
   "metadata": {},
   "source": [
    "# Data Loading & Transformation"
   ]
  },
  {
   "cell_type": "markdown",
   "metadata": {},
   "source": [
    "## List of Samples"
   ]
  },
  {
   "cell_type": "code",
   "execution_count": 3,
   "metadata": {},
   "outputs": [
    {
     "data": {
      "text/plain": [
       "629"
      ]
     },
     "execution_count": 3,
     "metadata": {},
     "output_type": "execute_result"
    }
   ],
   "source": [
    "# samples\n",
    "dataset = 'TCGA.GBM.sampleMap/GBM_clinicalMatrix'\n",
    "host = 'https://tcga.xenahubs.net'\n",
    "samples = xena.dataset_samples(host, dataset, None)\n",
    "len(samples)"
   ]
  },
  {
   "cell_type": "code",
   "execution_count": 4,
   "metadata": {},
   "outputs": [],
   "source": [
    "# samples"
   ]
  },
  {
   "cell_type": "markdown",
   "metadata": {},
   "source": [
    "### Survival"
   ]
  },
  {
   "cell_type": "code",
   "execution_count": 5,
   "metadata": {},
   "outputs": [
    {
     "data": {
      "text/html": [
       "<div>\n",
       "<style scoped>\n",
       "    .dataframe tbody tr th:only-of-type {\n",
       "        vertical-align: middle;\n",
       "    }\n",
       "\n",
       "    .dataframe tbody tr th {\n",
       "        vertical-align: top;\n",
       "    }\n",
       "\n",
       "    .dataframe thead th {\n",
       "        text-align: right;\n",
       "    }\n",
       "</style>\n",
       "<table border=\"1\" class=\"dataframe\">\n",
       "  <thead>\n",
       "    <tr style=\"text-align: right;\">\n",
       "      <th></th>\n",
       "      <th>0</th>\n",
       "      <th>1</th>\n",
       "      <th>2</th>\n",
       "      <th>3</th>\n",
       "      <th>4</th>\n",
       "      <th>5</th>\n",
       "      <th>6</th>\n",
       "      <th>7</th>\n",
       "      <th>8</th>\n",
       "      <th>9</th>\n",
       "      <th>10</th>\n",
       "    </tr>\n",
       "  </thead>\n",
       "  <tbody>\n",
       "    <tr>\n",
       "      <th>0</th>\n",
       "      <td>sample</td>\n",
       "      <td>_PATIENT</td>\n",
       "      <td>OS</td>\n",
       "      <td>OS.time</td>\n",
       "      <td>DSS</td>\n",
       "      <td>DSS.time</td>\n",
       "      <td>DFI</td>\n",
       "      <td>DFI.time</td>\n",
       "      <td>PFI</td>\n",
       "      <td>PFI.time</td>\n",
       "      <td>Redaction</td>\n",
       "    </tr>\n",
       "    <tr>\n",
       "      <th>1</th>\n",
       "      <td>TCGA-02-0001-01</td>\n",
       "      <td>TCGA-02-0001</td>\n",
       "      <td>1</td>\n",
       "      <td>358</td>\n",
       "      <td>1</td>\n",
       "      <td>358</td>\n",
       "      <td>NaN</td>\n",
       "      <td>NaN</td>\n",
       "      <td>1</td>\n",
       "      <td>137</td>\n",
       "      <td>NaN</td>\n",
       "    </tr>\n",
       "    <tr>\n",
       "      <th>2</th>\n",
       "      <td>TCGA-02-0003-01</td>\n",
       "      <td>TCGA-02-0003</td>\n",
       "      <td>1</td>\n",
       "      <td>144</td>\n",
       "      <td>1</td>\n",
       "      <td>144</td>\n",
       "      <td>NaN</td>\n",
       "      <td>NaN</td>\n",
       "      <td>1</td>\n",
       "      <td>40</td>\n",
       "      <td>NaN</td>\n",
       "    </tr>\n",
       "    <tr>\n",
       "      <th>3</th>\n",
       "      <td>TCGA-02-0006-01</td>\n",
       "      <td>TCGA-02-0006</td>\n",
       "      <td>1</td>\n",
       "      <td>558</td>\n",
       "      <td>1</td>\n",
       "      <td>558</td>\n",
       "      <td>NaN</td>\n",
       "      <td>NaN</td>\n",
       "      <td>1</td>\n",
       "      <td>302</td>\n",
       "      <td>NaN</td>\n",
       "    </tr>\n",
       "    <tr>\n",
       "      <th>4</th>\n",
       "      <td>TCGA-02-0007-01</td>\n",
       "      <td>TCGA-02-0007</td>\n",
       "      <td>1</td>\n",
       "      <td>705</td>\n",
       "      <td>1</td>\n",
       "      <td>705</td>\n",
       "      <td>NaN</td>\n",
       "      <td>NaN</td>\n",
       "      <td>1</td>\n",
       "      <td>518</td>\n",
       "      <td>NaN</td>\n",
       "    </tr>\n",
       "    <tr>\n",
       "      <th>...</th>\n",
       "      <td>...</td>\n",
       "      <td>...</td>\n",
       "      <td>...</td>\n",
       "      <td>...</td>\n",
       "      <td>...</td>\n",
       "      <td>...</td>\n",
       "      <td>...</td>\n",
       "      <td>...</td>\n",
       "      <td>...</td>\n",
       "      <td>...</td>\n",
       "      <td>...</td>\n",
       "    </tr>\n",
       "    <tr>\n",
       "      <th>598</th>\n",
       "      <td>TCGA-87-5896-01</td>\n",
       "      <td>TCGA-87-5896</td>\n",
       "      <td>0</td>\n",
       "      <td>800</td>\n",
       "      <td>0</td>\n",
       "      <td>800</td>\n",
       "      <td>0</td>\n",
       "      <td>800</td>\n",
       "      <td>0</td>\n",
       "      <td>800</td>\n",
       "      <td>NaN</td>\n",
       "    </tr>\n",
       "    <tr>\n",
       "      <th>599</th>\n",
       "      <td>TCGA-OX-A56R-01</td>\n",
       "      <td>TCGA-OX-A56R</td>\n",
       "      <td>1</td>\n",
       "      <td>180</td>\n",
       "      <td>1</td>\n",
       "      <td>180</td>\n",
       "      <td>NaN</td>\n",
       "      <td>NaN</td>\n",
       "      <td>1</td>\n",
       "      <td>180</td>\n",
       "      <td>NaN</td>\n",
       "    </tr>\n",
       "    <tr>\n",
       "      <th>600</th>\n",
       "      <td>TCGA-RR-A6KA-01</td>\n",
       "      <td>TCGA-RR-A6KA</td>\n",
       "      <td>1</td>\n",
       "      <td>191</td>\n",
       "      <td>1</td>\n",
       "      <td>191</td>\n",
       "      <td>NaN</td>\n",
       "      <td>NaN</td>\n",
       "      <td>1</td>\n",
       "      <td>191</td>\n",
       "      <td>NaN</td>\n",
       "    </tr>\n",
       "    <tr>\n",
       "      <th>601</th>\n",
       "      <td>TCGA-RR-A6KB-01</td>\n",
       "      <td>TCGA-RR-A6KB</td>\n",
       "      <td>0</td>\n",
       "      <td>0</td>\n",
       "      <td>0</td>\n",
       "      <td>0</td>\n",
       "      <td>NaN</td>\n",
       "      <td>NaN</td>\n",
       "      <td>0</td>\n",
       "      <td>0</td>\n",
       "      <td>NaN</td>\n",
       "    </tr>\n",
       "    <tr>\n",
       "      <th>602</th>\n",
       "      <td>TCGA-RR-A6KC-01</td>\n",
       "      <td>TCGA-RR-A6KC</td>\n",
       "      <td>1</td>\n",
       "      <td>625</td>\n",
       "      <td>NaN</td>\n",
       "      <td>625</td>\n",
       "      <td>1</td>\n",
       "      <td>369</td>\n",
       "      <td>1</td>\n",
       "      <td>369</td>\n",
       "      <td>NaN</td>\n",
       "    </tr>\n",
       "  </tbody>\n",
       "</table>\n",
       "<p>603 rows × 11 columns</p>\n",
       "</div>"
      ],
      "text/plain": [
       "                  0             1   2        3    4         5    6         7   \\\n",
       "0             sample      _PATIENT  OS  OS.time  DSS  DSS.time  DFI  DFI.time   \n",
       "1    TCGA-02-0001-01  TCGA-02-0001   1      358    1       358  NaN       NaN   \n",
       "2    TCGA-02-0003-01  TCGA-02-0003   1      144    1       144  NaN       NaN   \n",
       "3    TCGA-02-0006-01  TCGA-02-0006   1      558    1       558  NaN       NaN   \n",
       "4    TCGA-02-0007-01  TCGA-02-0007   1      705    1       705  NaN       NaN   \n",
       "..               ...           ...  ..      ...  ...       ...  ...       ...   \n",
       "598  TCGA-87-5896-01  TCGA-87-5896   0      800    0       800    0       800   \n",
       "599  TCGA-OX-A56R-01  TCGA-OX-A56R   1      180    1       180  NaN       NaN   \n",
       "600  TCGA-RR-A6KA-01  TCGA-RR-A6KA   1      191    1       191  NaN       NaN   \n",
       "601  TCGA-RR-A6KB-01  TCGA-RR-A6KB   0        0    0         0  NaN       NaN   \n",
       "602  TCGA-RR-A6KC-01  TCGA-RR-A6KC   1      625  NaN       625    1       369   \n",
       "\n",
       "      8         9          10  \n",
       "0    PFI  PFI.time  Redaction  \n",
       "1      1       137        NaN  \n",
       "2      1        40        NaN  \n",
       "3      1       302        NaN  \n",
       "4      1       518        NaN  \n",
       "..   ...       ...        ...  \n",
       "598    0       800        NaN  \n",
       "599    1       180        NaN  \n",
       "600    1       191        NaN  \n",
       "601    0         0        NaN  \n",
       "602    1       369        NaN  \n",
       "\n",
       "[603 rows x 11 columns]"
      ]
     },
     "execution_count": 5,
     "metadata": {},
     "output_type": "execute_result"
    }
   ],
   "source": [
    "# survival\n",
    "surv = pd.read_csv('survival_GBM_survival.txt', header = None, delimiter=\"\\t\")\n",
    "surv"
   ]
  },
  {
   "cell_type": "code",
   "execution_count": 6,
   "metadata": {},
   "outputs": [
    {
     "data": {
      "text/plain": [
       "False"
      ]
     },
     "execution_count": 6,
     "metadata": {},
     "output_type": "execute_result"
    }
   ],
   "source": [
    "# # make the first row the header\n",
    "surv.columns = surv.iloc[0]\n",
    "\n",
    "# # Get rid of the duplicate first row\n",
    "surv = surv.iloc[1:,:]\n",
    "\n",
    "# check for nans\n",
    "surv['OS.time'].isnull().values.any()"
   ]
  },
  {
   "cell_type": "markdown",
   "metadata": {},
   "source": [
    "#### Survival"
   ]
  },
  {
   "cell_type": "code",
   "execution_count": 7,
   "metadata": {},
   "outputs": [
    {
     "data": {
      "text/html": [
       "<div>\n",
       "<style scoped>\n",
       "    .dataframe tbody tr th:only-of-type {\n",
       "        vertical-align: middle;\n",
       "    }\n",
       "\n",
       "    .dataframe tbody tr th {\n",
       "        vertical-align: top;\n",
       "    }\n",
       "\n",
       "    .dataframe thead th {\n",
       "        text-align: right;\n",
       "    }\n",
       "</style>\n",
       "<table border=\"1\" class=\"dataframe\">\n",
       "  <thead>\n",
       "    <tr style=\"text-align: right;\">\n",
       "      <th></th>\n",
       "      <th>sample</th>\n",
       "      <th>OS.time</th>\n",
       "      <th>OS</th>\n",
       "      <th>OS.months</th>\n",
       "      <th>LHS</th>\n",
       "    </tr>\n",
       "  </thead>\n",
       "  <tbody>\n",
       "    <tr>\n",
       "      <th>1</th>\n",
       "      <td>TCGA-02-0001-01</td>\n",
       "      <td>358.0</td>\n",
       "      <td>1</td>\n",
       "      <td>11.933333</td>\n",
       "      <td>0</td>\n",
       "    </tr>\n",
       "    <tr>\n",
       "      <th>2</th>\n",
       "      <td>TCGA-02-0003-01</td>\n",
       "      <td>144.0</td>\n",
       "      <td>1</td>\n",
       "      <td>4.800000</td>\n",
       "      <td>0</td>\n",
       "    </tr>\n",
       "    <tr>\n",
       "      <th>3</th>\n",
       "      <td>TCGA-02-0006-01</td>\n",
       "      <td>558.0</td>\n",
       "      <td>1</td>\n",
       "      <td>18.600000</td>\n",
       "      <td>1</td>\n",
       "    </tr>\n",
       "    <tr>\n",
       "      <th>4</th>\n",
       "      <td>TCGA-02-0007-01</td>\n",
       "      <td>705.0</td>\n",
       "      <td>1</td>\n",
       "      <td>23.500000</td>\n",
       "      <td>1</td>\n",
       "    </tr>\n",
       "    <tr>\n",
       "      <th>5</th>\n",
       "      <td>TCGA-02-0009-01</td>\n",
       "      <td>322.0</td>\n",
       "      <td>1</td>\n",
       "      <td>10.733333</td>\n",
       "      <td>0</td>\n",
       "    </tr>\n",
       "    <tr>\n",
       "      <th>...</th>\n",
       "      <td>...</td>\n",
       "      <td>...</td>\n",
       "      <td>...</td>\n",
       "      <td>...</td>\n",
       "      <td>...</td>\n",
       "    </tr>\n",
       "    <tr>\n",
       "      <th>598</th>\n",
       "      <td>TCGA-87-5896-01</td>\n",
       "      <td>800.0</td>\n",
       "      <td>0</td>\n",
       "      <td>26.666667</td>\n",
       "      <td>1</td>\n",
       "    </tr>\n",
       "    <tr>\n",
       "      <th>599</th>\n",
       "      <td>TCGA-OX-A56R-01</td>\n",
       "      <td>180.0</td>\n",
       "      <td>1</td>\n",
       "      <td>6.000000</td>\n",
       "      <td>0</td>\n",
       "    </tr>\n",
       "    <tr>\n",
       "      <th>600</th>\n",
       "      <td>TCGA-RR-A6KA-01</td>\n",
       "      <td>191.0</td>\n",
       "      <td>1</td>\n",
       "      <td>6.366667</td>\n",
       "      <td>0</td>\n",
       "    </tr>\n",
       "    <tr>\n",
       "      <th>601</th>\n",
       "      <td>TCGA-RR-A6KB-01</td>\n",
       "      <td>0.0</td>\n",
       "      <td>0</td>\n",
       "      <td>0.000000</td>\n",
       "      <td>0</td>\n",
       "    </tr>\n",
       "    <tr>\n",
       "      <th>602</th>\n",
       "      <td>TCGA-RR-A6KC-01</td>\n",
       "      <td>625.0</td>\n",
       "      <td>1</td>\n",
       "      <td>20.833333</td>\n",
       "      <td>1</td>\n",
       "    </tr>\n",
       "  </tbody>\n",
       "</table>\n",
       "<p>602 rows × 5 columns</p>\n",
       "</div>"
      ],
      "text/plain": [
       "0             sample  OS.time OS  OS.months  LHS\n",
       "1    TCGA-02-0001-01    358.0  1  11.933333    0\n",
       "2    TCGA-02-0003-01    144.0  1   4.800000    0\n",
       "3    TCGA-02-0006-01    558.0  1  18.600000    1\n",
       "4    TCGA-02-0007-01    705.0  1  23.500000    1\n",
       "5    TCGA-02-0009-01    322.0  1  10.733333    0\n",
       "..               ...      ... ..        ...  ...\n",
       "598  TCGA-87-5896-01    800.0  0  26.666667    1\n",
       "599  TCGA-OX-A56R-01    180.0  1   6.000000    0\n",
       "600  TCGA-RR-A6KA-01    191.0  1   6.366667    0\n",
       "601  TCGA-RR-A6KB-01      0.0  0   0.000000    0\n",
       "602  TCGA-RR-A6KC-01    625.0  1  20.833333    1\n",
       "\n",
       "[602 rows x 5 columns]"
      ]
     },
     "execution_count": 7,
     "metadata": {},
     "output_type": "execute_result"
    }
   ],
   "source": [
    "# keep the sample index in case multiple samples belong to one patient\n",
    "# we should use OS time since it is available, instead of the binary OSS\n",
    "# including OS in the df will be helpful for plotting \n",
    "os = surv[['sample','OS.time', 'OS']]\n",
    "os['OS.time'] = os['OS.time'].astype(float)\n",
    "os['OS.months'] = (os['OS.time']/30)\n",
    "\n",
    "# Low/High survival binary\n",
    "os['LHS'] = np.where(os['OS.months']>=15, 1, 0)\n",
    "os"
   ]
  },
  {
   "cell_type": "code",
   "execution_count": 8,
   "metadata": {},
   "outputs": [
    {
     "name": "stdout",
     "output_type": "stream",
     "text": [
      "Median survival (months): 12.333333333333334\n"
     ]
    },
    {
     "data": {
      "text/plain": [
       "count     602.000000\n",
       "mean      500.642857\n",
       "std       536.364905\n",
       "min         0.000000\n",
       "25%       167.500000\n",
       "50%       370.000000\n",
       "75%       609.250000\n",
       "max      3881.000000\n",
       "Name: OS.time, dtype: float64"
      ]
     },
     "execution_count": 8,
     "metadata": {},
     "output_type": "execute_result"
    }
   ],
   "source": [
    "# Statistics\n",
    "original_med_months = os['OS.months'].median()\n",
    "print('Median survival (months):', original_med_months)\n",
    "\n",
    "# How many are low/high?\n",
    "original_low_high = os['LHS'].value_counts()\n",
    "original_low_high\n",
    "\n",
    "# summary for OS.time\n",
    "original_os_sum = os['OS.time'].describe()\n",
    "original_os_sum\n",
    "\n",
    "# The groups are still pretty well balanced"
   ]
  },
  {
   "cell_type": "markdown",
   "metadata": {},
   "source": [
    "### Plot of survival in the entire database"
   ]
  },
  {
   "cell_type": "code",
   "execution_count": 9,
   "metadata": {},
   "outputs": [
    {
     "data": {
      "image/png": "[encoded data removed]",
      "text/plain": [
       "<Figure size 432x288 with 1 Axes>"
      ]
     },
     "metadata": {
      "needs_background": "light"
     },
     "output_type": "display_data"
    }
   ],
   "source": [
    "from lifelines import KaplanMeierFitter\n",
    "kmf = KaplanMeierFitter() \n",
    "\n",
    "os['OS'] = os['OS'].astype(float)\n",
    "os['OS.time'] = os['OS.time'].astype(float)\n",
    "\n",
    "durations = os['OS.time'].tolist()\n",
    "event_observed = os['OS'].tolist()\n",
    "\n",
    "kmf.fit(durations, event_observed, label='Kaplan Meier Estimate for the Survival Function')\n",
    "kmf.plot()\n",
    "plt.title('Overall Survival in Original TCGA Database')\n",
    "plt.ylabel('Survival Probability')\n",
    "plt.xlabel('Days')\n",
    "plt.savefig('survival_original.pdf', transparent=True)\n",
    "plt.savefig('survival_original.png')"
   ]
  },
  {
   "cell_type": "markdown",
   "metadata": {},
   "source": [
    "## Clinical Data"
   ]
  },
  {
   "cell_type": "code",
   "execution_count": 10,
   "metadata": {},
   "outputs": [
    {
     "data": {
      "text/html": [
       "<div>\n",
       "<style scoped>\n",
       "    .dataframe tbody tr th:only-of-type {\n",
       "        vertical-align: middle;\n",
       "    }\n",
       "\n",
       "    .dataframe tbody tr th {\n",
       "        vertical-align: top;\n",
       "    }\n",
       "\n",
       "    .dataframe thead th {\n",
       "        text-align: right;\n",
       "    }\n",
       "</style>\n",
       "<table border=\"1\" class=\"dataframe\">\n",
       "  <thead>\n",
       "    <tr style=\"text-align: right;\">\n",
       "      <th></th>\n",
       "      <th>0</th>\n",
       "      <th>1</th>\n",
       "      <th>2</th>\n",
       "      <th>3</th>\n",
       "      <th>4</th>\n",
       "      <th>5</th>\n",
       "      <th>6</th>\n",
       "      <th>7</th>\n",
       "      <th>8</th>\n",
       "      <th>9</th>\n",
       "      <th>...</th>\n",
       "      <th>119</th>\n",
       "      <th>120</th>\n",
       "      <th>121</th>\n",
       "      <th>122</th>\n",
       "      <th>123</th>\n",
       "      <th>124</th>\n",
       "      <th>125</th>\n",
       "      <th>126</th>\n",
       "      <th>127</th>\n",
       "      <th>128</th>\n",
       "    </tr>\n",
       "  </thead>\n",
       "  <tbody>\n",
       "    <tr>\n",
       "      <th>0</th>\n",
       "      <td>sampleID</td>\n",
       "      <td>CDE_DxAge</td>\n",
       "      <td>CDE_alk_chemoradiation_standard</td>\n",
       "      <td>CDE_chemo_adjuvant_alk</td>\n",
       "      <td>CDE_chemo_adjuvant_tmz</td>\n",
       "      <td>CDE_chemo_alk</td>\n",
       "      <td>CDE_chemo_alk_days</td>\n",
       "      <td>CDE_chemo_alk_long</td>\n",
       "      <td>CDE_chemo_tmz</td>\n",
       "      <td>CDE_chemo_tmz_days</td>\n",
       "      <td>...</td>\n",
       "      <td>_GENOMIC_ID_TCGA_GBM_exp_u133a</td>\n",
       "      <td>_GENOMIC_ID_TCGA_GBM_exp_HiSeqV2_PANCAN</td>\n",
       "      <td>_GENOMIC_ID_TCGA_GBM_RPPA_RBN</td>\n",
       "      <td>_GENOMIC_ID_TCGA_GBM_gistic2thd</td>\n",
       "      <td>_GENOMIC_ID_TCGA_GBM_PDMRNAseqCNV</td>\n",
       "      <td>_GENOMIC_ID_TCGA_GBM_mutation</td>\n",
       "      <td>_GENOMIC_ID_TCGA_GBM_exp_HiSeqV2_percentile</td>\n",
       "      <td>_GENOMIC_ID_TCGA_GBM_exp_HiSeqV2_exon</td>\n",
       "      <td>_GENOMIC_ID_TCGA_GBM_gistic2</td>\n",
       "      <td>_GENOMIC_ID_TCGA_GBM_hMethyl450</td>\n",
       "    </tr>\n",
       "    <tr>\n",
       "      <th>1</th>\n",
       "      <td>TCGA-02-0001-01</td>\n",
       "      <td>44.3</td>\n",
       "      <td>FALSE</td>\n",
       "      <td>FALSE</td>\n",
       "      <td>FALSE</td>\n",
       "      <td>FALSE</td>\n",
       "      <td>0</td>\n",
       "      <td>FALSE</td>\n",
       "      <td>FALSE</td>\n",
       "      <td>0</td>\n",
       "      <td>...</td>\n",
       "      <td>03c14838-bbab-4487-80c3-c5fdf6ec83f9</td>\n",
       "      <td></td>\n",
       "      <td></td>\n",
       "      <td>TCGA-02-0001-01C-01D-0182-01</td>\n",
       "      <td></td>\n",
       "      <td></td>\n",
       "      <td></td>\n",
       "      <td></td>\n",
       "      <td>TCGA-02-0001-01C-01D-0182-01</td>\n",
       "      <td></td>\n",
       "    </tr>\n",
       "    <tr>\n",
       "      <th>2</th>\n",
       "      <td>TCGA-02-0002-01</td>\n",
       "      <td></td>\n",
       "      <td></td>\n",
       "      <td></td>\n",
       "      <td></td>\n",
       "      <td></td>\n",
       "      <td></td>\n",
       "      <td></td>\n",
       "      <td></td>\n",
       "      <td></td>\n",
       "      <td>...</td>\n",
       "      <td></td>\n",
       "      <td></td>\n",
       "      <td></td>\n",
       "      <td></td>\n",
       "      <td></td>\n",
       "      <td></td>\n",
       "      <td></td>\n",
       "      <td></td>\n",
       "      <td></td>\n",
       "      <td></td>\n",
       "    </tr>\n",
       "    <tr>\n",
       "      <th>3</th>\n",
       "      <td>TCGA-02-0003-01</td>\n",
       "      <td>50.21</td>\n",
       "      <td>FALSE</td>\n",
       "      <td>FALSE</td>\n",
       "      <td>FALSE</td>\n",
       "      <td>FALSE</td>\n",
       "      <td>0</td>\n",
       "      <td>FALSE</td>\n",
       "      <td>FALSE</td>\n",
       "      <td>0</td>\n",
       "      <td>...</td>\n",
       "      <td>4298ad72-e8eb-4749-95da-cce602107724</td>\n",
       "      <td></td>\n",
       "      <td>TCGA-02-0003-01A-21-1898-20</td>\n",
       "      <td>TCGA-02-0003-01A-01D-0182-01</td>\n",
       "      <td></td>\n",
       "      <td>TCGA-02-0003-01A-01D-1490-08</td>\n",
       "      <td></td>\n",
       "      <td></td>\n",
       "      <td>TCGA-02-0003-01A-01D-0182-01</td>\n",
       "      <td></td>\n",
       "    </tr>\n",
       "    <tr>\n",
       "      <th>4</th>\n",
       "      <td>TCGA-02-0004-01</td>\n",
       "      <td>59.18</td>\n",
       "      <td>TRUE</td>\n",
       "      <td>TRUE</td>\n",
       "      <td>TRUE</td>\n",
       "      <td>TRUE</td>\n",
       "      <td>110</td>\n",
       "      <td>TRUE</td>\n",
       "      <td>TRUE</td>\n",
       "      <td>110</td>\n",
       "      <td>...</td>\n",
       "      <td>1bc1d8d2-8c34-4b03-9275-38c68323816e</td>\n",
       "      <td></td>\n",
       "      <td>TCGA-02-0004-01A-21-1898-20</td>\n",
       "      <td></td>\n",
       "      <td></td>\n",
       "      <td></td>\n",
       "      <td></td>\n",
       "      <td></td>\n",
       "      <td></td>\n",
       "      <td></td>\n",
       "    </tr>\n",
       "    <tr>\n",
       "      <th>...</th>\n",
       "      <td>...</td>\n",
       "      <td>...</td>\n",
       "      <td>...</td>\n",
       "      <td>...</td>\n",
       "      <td>...</td>\n",
       "      <td>...</td>\n",
       "      <td>...</td>\n",
       "      <td>...</td>\n",
       "      <td>...</td>\n",
       "      <td>...</td>\n",
       "      <td>...</td>\n",
       "      <td>...</td>\n",
       "      <td>...</td>\n",
       "      <td>...</td>\n",
       "      <td>...</td>\n",
       "      <td>...</td>\n",
       "      <td>...</td>\n",
       "      <td>...</td>\n",
       "      <td>...</td>\n",
       "      <td>...</td>\n",
       "      <td>...</td>\n",
       "    </tr>\n",
       "    <tr>\n",
       "      <th>625</th>\n",
       "      <td>TCGA-87-5896-01</td>\n",
       "      <td>50.35</td>\n",
       "      <td>FALSE</td>\n",
       "      <td>FALSE</td>\n",
       "      <td>FALSE</td>\n",
       "      <td>FALSE</td>\n",
       "      <td>0</td>\n",
       "      <td>FALSE</td>\n",
       "      <td>FALSE</td>\n",
       "      <td>0</td>\n",
       "      <td>...</td>\n",
       "      <td>5d4b2115-054e-4026-b2e0-9c8ec0137b57</td>\n",
       "      <td></td>\n",
       "      <td></td>\n",
       "      <td>TCGA-87-5896-01A-01D-1694-01</td>\n",
       "      <td></td>\n",
       "      <td>TCGA-87-5896-01A-01D-1696-08</td>\n",
       "      <td></td>\n",
       "      <td></td>\n",
       "      <td>TCGA-87-5896-01A-01D-1694-01</td>\n",
       "      <td>TCGA-87-5896-01A-01D-1697-05</td>\n",
       "    </tr>\n",
       "    <tr>\n",
       "      <th>626</th>\n",
       "      <td>TCGA-OX-A56R-01</td>\n",
       "      <td></td>\n",
       "      <td></td>\n",
       "      <td></td>\n",
       "      <td></td>\n",
       "      <td></td>\n",
       "      <td></td>\n",
       "      <td></td>\n",
       "      <td></td>\n",
       "      <td></td>\n",
       "      <td>...</td>\n",
       "      <td></td>\n",
       "      <td></td>\n",
       "      <td></td>\n",
       "      <td>TCGA-OX-A56R-01A-11D-A33S-01</td>\n",
       "      <td></td>\n",
       "      <td></td>\n",
       "      <td></td>\n",
       "      <td></td>\n",
       "      <td>TCGA-OX-A56R-01A-11D-A33S-01</td>\n",
       "      <td>TCGA-OX-A56R-01A-11D-A33U-05</td>\n",
       "    </tr>\n",
       "    <tr>\n",
       "      <th>627</th>\n",
       "      <td>TCGA-RR-A6KA-01</td>\n",
       "      <td></td>\n",
       "      <td></td>\n",
       "      <td></td>\n",
       "      <td></td>\n",
       "      <td></td>\n",
       "      <td></td>\n",
       "      <td></td>\n",
       "      <td></td>\n",
       "      <td></td>\n",
       "      <td>...</td>\n",
       "      <td></td>\n",
       "      <td></td>\n",
       "      <td></td>\n",
       "      <td>TCGA-RR-A6KA-01A-21D-A33S-01</td>\n",
       "      <td></td>\n",
       "      <td></td>\n",
       "      <td></td>\n",
       "      <td></td>\n",
       "      <td>TCGA-RR-A6KA-01A-21D-A33S-01</td>\n",
       "      <td>TCGA-RR-A6KA-01A-21D-A33U-05</td>\n",
       "    </tr>\n",
       "    <tr>\n",
       "      <th>628</th>\n",
       "      <td>TCGA-RR-A6KB-01</td>\n",
       "      <td></td>\n",
       "      <td></td>\n",
       "      <td></td>\n",
       "      <td></td>\n",
       "      <td></td>\n",
       "      <td></td>\n",
       "      <td></td>\n",
       "      <td></td>\n",
       "      <td></td>\n",
       "      <td>...</td>\n",
       "      <td></td>\n",
       "      <td></td>\n",
       "      <td></td>\n",
       "      <td>TCGA-RR-A6KB-01A-12D-A33S-01</td>\n",
       "      <td></td>\n",
       "      <td></td>\n",
       "      <td></td>\n",
       "      <td></td>\n",
       "      <td>TCGA-RR-A6KB-01A-12D-A33S-01</td>\n",
       "      <td>TCGA-RR-A6KB-01A-12D-A33U-05</td>\n",
       "    </tr>\n",
       "    <tr>\n",
       "      <th>629</th>\n",
       "      <td>TCGA-RR-A6KC-01</td>\n",
       "      <td></td>\n",
       "      <td></td>\n",
       "      <td></td>\n",
       "      <td></td>\n",
       "      <td></td>\n",
       "      <td></td>\n",
       "      <td></td>\n",
       "      <td></td>\n",
       "      <td></td>\n",
       "      <td>...</td>\n",
       "      <td></td>\n",
       "      <td></td>\n",
       "      <td></td>\n",
       "      <td>TCGA-RR-A6KC-01A-31D-A33S-01</td>\n",
       "      <td></td>\n",
       "      <td></td>\n",
       "      <td></td>\n",
       "      <td></td>\n",
       "      <td>TCGA-RR-A6KC-01A-31D-A33S-01</td>\n",
       "      <td>TCGA-RR-A6KC-01A-31D-A33U-05</td>\n",
       "    </tr>\n",
       "  </tbody>\n",
       "</table>\n",
       "<p>630 rows × 129 columns</p>\n",
       "</div>"
      ],
      "text/plain": [
       "                 0          1                                2    \\\n",
       "0           sampleID  CDE_DxAge  CDE_alk_chemoradiation_standard   \n",
       "1    TCGA-02-0001-01       44.3                            FALSE   \n",
       "2    TCGA-02-0002-01                                               \n",
       "3    TCGA-02-0003-01      50.21                            FALSE   \n",
       "4    TCGA-02-0004-01      59.18                             TRUE   \n",
       "..               ...        ...                              ...   \n",
       "625  TCGA-87-5896-01      50.35                            FALSE   \n",
       "626  TCGA-OX-A56R-01                                               \n",
       "627  TCGA-RR-A6KA-01                                               \n",
       "628  TCGA-RR-A6KB-01                                               \n",
       "629  TCGA-RR-A6KC-01                                               \n",
       "\n",
       "                        3                       4              5    \\\n",
       "0    CDE_chemo_adjuvant_alk  CDE_chemo_adjuvant_tmz  CDE_chemo_alk   \n",
       "1                     FALSE                   FALSE          FALSE   \n",
       "2                                                                    \n",
       "3                     FALSE                   FALSE          FALSE   \n",
       "4                      TRUE                    TRUE           TRUE   \n",
       "..                      ...                     ...            ...   \n",
       "625                   FALSE                   FALSE          FALSE   \n",
       "626                                                                  \n",
       "627                                                                  \n",
       "628                                                                  \n",
       "629                                                                  \n",
       "\n",
       "                    6                   7              8    \\\n",
       "0    CDE_chemo_alk_days  CDE_chemo_alk_long  CDE_chemo_tmz   \n",
       "1                     0               FALSE          FALSE   \n",
       "2                                                            \n",
       "3                     0               FALSE          FALSE   \n",
       "4                   110                TRUE           TRUE   \n",
       "..                  ...                 ...            ...   \n",
       "625                   0               FALSE          FALSE   \n",
       "626                                                          \n",
       "627                                                          \n",
       "628                                                          \n",
       "629                                                          \n",
       "\n",
       "                    9    ...                                   119  \\\n",
       "0    CDE_chemo_tmz_days  ...        _GENOMIC_ID_TCGA_GBM_exp_u133a   \n",
       "1                     0  ...  03c14838-bbab-4487-80c3-c5fdf6ec83f9   \n",
       "2                        ...                                         \n",
       "3                     0  ...  4298ad72-e8eb-4749-95da-cce602107724   \n",
       "4                   110  ...  1bc1d8d2-8c34-4b03-9275-38c68323816e   \n",
       "..                  ...  ...                                   ...   \n",
       "625                   0  ...  5d4b2115-054e-4026-b2e0-9c8ec0137b57   \n",
       "626                      ...                                         \n",
       "627                      ...                                         \n",
       "628                      ...                                         \n",
       "629                      ...                                         \n",
       "\n",
       "                                         120                            121  \\\n",
       "0    _GENOMIC_ID_TCGA_GBM_exp_HiSeqV2_PANCAN  _GENOMIC_ID_TCGA_GBM_RPPA_RBN   \n",
       "1                                                                             \n",
       "2                                                                             \n",
       "3                                               TCGA-02-0003-01A-21-1898-20   \n",
       "4                                               TCGA-02-0004-01A-21-1898-20   \n",
       "..                                       ...                            ...   \n",
       "625                                                                           \n",
       "626                                                                           \n",
       "627                                                                           \n",
       "628                                                                           \n",
       "629                                                                           \n",
       "\n",
       "                                 122                                123  \\\n",
       "0    _GENOMIC_ID_TCGA_GBM_gistic2thd  _GENOMIC_ID_TCGA_GBM_PDMRNAseqCNV   \n",
       "1       TCGA-02-0001-01C-01D-0182-01                                      \n",
       "2                                                                         \n",
       "3       TCGA-02-0003-01A-01D-0182-01                                      \n",
       "4                                                                         \n",
       "..                               ...                                ...   \n",
       "625     TCGA-87-5896-01A-01D-1694-01                                      \n",
       "626     TCGA-OX-A56R-01A-11D-A33S-01                                      \n",
       "627     TCGA-RR-A6KA-01A-21D-A33S-01                                      \n",
       "628     TCGA-RR-A6KB-01A-12D-A33S-01                                      \n",
       "629     TCGA-RR-A6KC-01A-31D-A33S-01                                      \n",
       "\n",
       "                               124  \\\n",
       "0    _GENOMIC_ID_TCGA_GBM_mutation   \n",
       "1                                    \n",
       "2                                    \n",
       "3     TCGA-02-0003-01A-01D-1490-08   \n",
       "4                                    \n",
       "..                             ...   \n",
       "625   TCGA-87-5896-01A-01D-1696-08   \n",
       "626                                  \n",
       "627                                  \n",
       "628                                  \n",
       "629                                  \n",
       "\n",
       "                                             125  \\\n",
       "0    _GENOMIC_ID_TCGA_GBM_exp_HiSeqV2_percentile   \n",
       "1                                                  \n",
       "2                                                  \n",
       "3                                                  \n",
       "4                                                  \n",
       "..                                           ...   \n",
       "625                                                \n",
       "626                                                \n",
       "627                                                \n",
       "628                                                \n",
       "629                                                \n",
       "\n",
       "                                       126                           127  \\\n",
       "0    _GENOMIC_ID_TCGA_GBM_exp_HiSeqV2_exon  _GENOMIC_ID_TCGA_GBM_gistic2   \n",
       "1                                           TCGA-02-0001-01C-01D-0182-01   \n",
       "2                                                                          \n",
       "3                                           TCGA-02-0003-01A-01D-0182-01   \n",
       "4                                                                          \n",
       "..                                     ...                           ...   \n",
       "625                                         TCGA-87-5896-01A-01D-1694-01   \n",
       "626                                         TCGA-OX-A56R-01A-11D-A33S-01   \n",
       "627                                         TCGA-RR-A6KA-01A-21D-A33S-01   \n",
       "628                                         TCGA-RR-A6KB-01A-12D-A33S-01   \n",
       "629                                         TCGA-RR-A6KC-01A-31D-A33S-01   \n",
       "\n",
       "                                 128  \n",
       "0    _GENOMIC_ID_TCGA_GBM_hMethyl450  \n",
       "1                                     \n",
       "2                                     \n",
       "3                                     \n",
       "4                                     \n",
       "..                               ...  \n",
       "625     TCGA-87-5896-01A-01D-1697-05  \n",
       "626     TCGA-OX-A56R-01A-11D-A33U-05  \n",
       "627     TCGA-RR-A6KA-01A-21D-A33U-05  \n",
       "628     TCGA-RR-A6KB-01A-12D-A33U-05  \n",
       "629     TCGA-RR-A6KC-01A-31D-A33U-05  \n",
       "\n",
       "[630 rows x 129 columns]"
      ]
     },
     "execution_count": 10,
     "metadata": {},
     "output_type": "execute_result"
    }
   ],
   "source": [
    "tsv_file = open(\"TCGA.GBM.sampleMap_GBM_clinicalMatrix\")\n",
    "read_tsv = csv.reader(tsv_file, delimiter=\"\\t\")\n",
    "clin = pd.DataFrame(read_tsv)\n",
    "clin"
   ]
  },
  {
   "cell_type": "code",
   "execution_count": 11,
   "metadata": {},
   "outputs": [
    {
     "name": "stdout",
     "output_type": "stream",
     "text": [
      "['sampleID' 'CDE_DxAge' 'CDE_alk_chemoradiation_standard'\n",
      " 'CDE_chemo_adjuvant_alk' 'CDE_chemo_adjuvant_tmz' 'CDE_chemo_alk'\n",
      " 'CDE_chemo_alk_days' 'CDE_chemo_alk_long' 'CDE_chemo_tmz'\n",
      " 'CDE_chemo_tmz_days' 'CDE_chemo_tmz_long' 'CDE_missing' 'CDE_missingflag'\n",
      " 'CDE_previously_treated' 'CDE_radiation_adjuvant'\n",
      " 'CDE_radiation_adjuvant_standard'\n",
      " 'CDE_radiation_adjuvant_standard_probable' 'CDE_radiation_any'\n",
      " 'CDE_radiation_standard' 'CDE_radiation_standard_probable'\n",
      " 'CDE_sourcesite' 'CDE_survival_time' 'CDE_suspect' 'CDE_therapy'\n",
      " 'CDE_tmz_chemoradiation_standard' 'CDE_vital_status' 'G_CIMP_STATUS'\n",
      " 'GeneExp_Subtype' 'In_Cancer_Cell_Paper' '_INTEGRATION'\n",
      " '_PANCAN_CNA_PANCAN_K8' '_PANCAN_Cluster_Cluster_PANCAN'\n",
      " '_PANCAN_DNAMethyl_GBM' '_PANCAN_DNAMethyl_PANCAN'\n",
      " '_PANCAN_RPPA_PANCAN_K8' '_PANCAN_UNC_RNAseq_PANCAN_K16'\n",
      " '_PANCAN_mutation_PANCAN' '_PATIENT' '_cohort' '_primary_disease'\n",
      " '_primary_site' 'additional_chemo_therapy' 'additional_drug_therapy'\n",
      " 'additional_immuno_therapy' 'additional_pharmaceutical_therapy'\n",
      " 'additional_radiation_therapy' 'age_at_initial_pathologic_diagnosis'\n",
      " 'anatomic_organ_subdivision' 'bcr_followup_barcode' 'bcr_patient_barcode'\n",
      " 'bcr_patient_uuid' 'bcr_sample_barcode' 'chemo_therapy' 'days_to_birth'\n",
      " 'days_to_collection' 'days_to_death'\n",
      " 'days_to_initial_pathologic_diagnosis' 'days_to_last_followup'\n",
      " 'days_to_new_tumor_event_additional_surgery_procedure'\n",
      " 'days_to_new_tumor_event_after_initial_treatment'\n",
      " 'days_to_tumor_progression' 'days_to_tumor_recurrence'\n",
      " 'eastern_cancer_oncology_group'\n",
      " 'followup_case_report_form_submission_reason'\n",
      " 'followup_treatment_success' 'form_completion_date' 'gender'\n",
      " 'histological_type' 'history_of_neoadjuvant_treatment' 'hormonal_therapy'\n",
      " 'icd_10' 'icd_o_3_histology' 'icd_o_3_site' 'immuno_therapy'\n",
      " 'informed_consent_verified' 'initial_pathologic_diagnosis_method'\n",
      " 'initial_weight' 'intermediate_dimension' 'is_ffpe'\n",
      " 'karnofsky_performance_score' 'longest_dimension' 'lost_follow_up'\n",
      " 'new_neoplasm_event_type' 'new_tumor_event_additional_surgery_procedure'\n",
      " 'new_tumor_event_after_initial_treatment' 'oct_embedded' 'other_dx'\n",
      " 'pathology_report_file_name' 'patient_id'\n",
      " 'performance_status_scale_timing' 'person_neoplasm_cancer_status'\n",
      " 'postoperative_rx_tx' 'pretreatment_history'\n",
      " 'primary_therapy_outcome_success' 'prior_glioma' 'radiation_therapy'\n",
      " 'sample_type' 'sample_type_id' 'shortest_dimension'\n",
      " 'targeted_molecular_therapy' 'tissue_prospective_collection_indicator'\n",
      " 'tissue_retrospective_collection_indicator' 'tissue_source_site'\n",
      " 'tumor_tissue_site' 'vial_number' 'vital_status'\n",
      " 'year_of_initial_pathologic_diagnosis'\n",
      " '_GENOMIC_ID_data/public/TCGA/GBM/miRNA_HiSeq_gene'\n",
      " '_GENOMIC_ID_TCGA_GBM_miRNA_HiSeq' '_GENOMIC_ID_TCGA_GBM_G4502A_07_1'\n",
      " '_GENOMIC_ID_TCGA_GBM_PDMRNAseq' '_GENOMIC_ID_TCGA_GBM_G4502A_07_2'\n",
      " '_GENOMIC_ID_TCGA_GBM_PDMarray' '_GENOMIC_ID_TCGA_GBM_RPPA'\n",
      " '_GENOMIC_ID_TCGA_GBM_hMethyl27' '_GENOMIC_ID_TCGA_GBM_exp_HiSeqV2'\n",
      " '_GENOMIC_ID_TCGA_GBM_mutation_ucsc_maf_gene'\n",
      " '_GENOMIC_ID_TCGA_GBM_PDMarrayCNV'\n",
      " '_GENOMIC_ID_TCGA_GBM_mutation_broad_gene'\n",
      " '_GENOMIC_ID_TCGA_GBM_exp_u133a'\n",
      " '_GENOMIC_ID_TCGA_GBM_exp_HiSeqV2_PANCAN' '_GENOMIC_ID_TCGA_GBM_RPPA_RBN'\n",
      " '_GENOMIC_ID_TCGA_GBM_gistic2thd' '_GENOMIC_ID_TCGA_GBM_PDMRNAseqCNV'\n",
      " '_GENOMIC_ID_TCGA_GBM_mutation'\n",
      " '_GENOMIC_ID_TCGA_GBM_exp_HiSeqV2_percentile'\n",
      " '_GENOMIC_ID_TCGA_GBM_exp_HiSeqV2_exon' '_GENOMIC_ID_TCGA_GBM_gistic2'\n",
      " '_GENOMIC_ID_TCGA_GBM_hMethyl450']\n"
     ]
    }
   ],
   "source": [
    "# only include radiation \n",
    "print(clin.iloc[0].values)\n",
    "\n",
    "# radiation: 'CDE_radiation_standard', 'CDE_radiation_adjuvant_standard', 'CDE_radiation_adjuvant'\n",
    "# chemo: 'CDE_chemo_adjuvant_alk', 'CDE_chemo_adjuvant_tmz', 'CDE_chemo_alk', 'CDE_chemo_tmz'\n",
    "# combo: 'CDE_alk_chemoradiation_standard', 'CDE_tmz_chemoradiation_standard'\n"
   ]
  },
  {
   "cell_type": "code",
   "execution_count": 12,
   "metadata": {},
   "outputs": [
    {
     "data": {
      "text/html": [
       "<div>\n",
       "<style scoped>\n",
       "    .dataframe tbody tr th:only-of-type {\n",
       "        vertical-align: middle;\n",
       "    }\n",
       "\n",
       "    .dataframe tbody tr th {\n",
       "        vertical-align: top;\n",
       "    }\n",
       "\n",
       "    .dataframe thead th {\n",
       "        text-align: right;\n",
       "    }\n",
       "</style>\n",
       "<table border=\"1\" class=\"dataframe\">\n",
       "  <thead>\n",
       "    <tr style=\"text-align: right;\">\n",
       "      <th></th>\n",
       "      <th>sampleID</th>\n",
       "      <th>CDE_DxAge</th>\n",
       "      <th>CDE_alk_chemoradiation_standard</th>\n",
       "      <th>CDE_chemo_adjuvant_alk</th>\n",
       "      <th>CDE_chemo_adjuvant_tmz</th>\n",
       "      <th>CDE_chemo_alk</th>\n",
       "      <th>CDE_chemo_alk_days</th>\n",
       "      <th>CDE_chemo_alk_long</th>\n",
       "      <th>CDE_chemo_tmz</th>\n",
       "      <th>CDE_chemo_tmz_days</th>\n",
       "      <th>...</th>\n",
       "      <th>_GENOMIC_ID_TCGA_GBM_exp_u133a</th>\n",
       "      <th>_GENOMIC_ID_TCGA_GBM_exp_HiSeqV2_PANCAN</th>\n",
       "      <th>_GENOMIC_ID_TCGA_GBM_RPPA_RBN</th>\n",
       "      <th>_GENOMIC_ID_TCGA_GBM_gistic2thd</th>\n",
       "      <th>_GENOMIC_ID_TCGA_GBM_PDMRNAseqCNV</th>\n",
       "      <th>_GENOMIC_ID_TCGA_GBM_mutation</th>\n",
       "      <th>_GENOMIC_ID_TCGA_GBM_exp_HiSeqV2_percentile</th>\n",
       "      <th>_GENOMIC_ID_TCGA_GBM_exp_HiSeqV2_exon</th>\n",
       "      <th>_GENOMIC_ID_TCGA_GBM_gistic2</th>\n",
       "      <th>_GENOMIC_ID_TCGA_GBM_hMethyl450</th>\n",
       "    </tr>\n",
       "  </thead>\n",
       "  <tbody>\n",
       "    <tr>\n",
       "      <th>1</th>\n",
       "      <td>TCGA-02-0001-01</td>\n",
       "      <td>44.3</td>\n",
       "      <td>FALSE</td>\n",
       "      <td>FALSE</td>\n",
       "      <td>FALSE</td>\n",
       "      <td>FALSE</td>\n",
       "      <td>0</td>\n",
       "      <td>FALSE</td>\n",
       "      <td>FALSE</td>\n",
       "      <td>0</td>\n",
       "      <td>...</td>\n",
       "      <td>03c14838-bbab-4487-80c3-c5fdf6ec83f9</td>\n",
       "      <td></td>\n",
       "      <td></td>\n",
       "      <td>TCGA-02-0001-01C-01D-0182-01</td>\n",
       "      <td></td>\n",
       "      <td></td>\n",
       "      <td></td>\n",
       "      <td></td>\n",
       "      <td>TCGA-02-0001-01C-01D-0182-01</td>\n",
       "      <td></td>\n",
       "    </tr>\n",
       "    <tr>\n",
       "      <th>2</th>\n",
       "      <td>TCGA-02-0002-01</td>\n",
       "      <td></td>\n",
       "      <td></td>\n",
       "      <td></td>\n",
       "      <td></td>\n",
       "      <td></td>\n",
       "      <td></td>\n",
       "      <td></td>\n",
       "      <td></td>\n",
       "      <td></td>\n",
       "      <td>...</td>\n",
       "      <td></td>\n",
       "      <td></td>\n",
       "      <td></td>\n",
       "      <td></td>\n",
       "      <td></td>\n",
       "      <td></td>\n",
       "      <td></td>\n",
       "      <td></td>\n",
       "      <td></td>\n",
       "      <td></td>\n",
       "    </tr>\n",
       "    <tr>\n",
       "      <th>3</th>\n",
       "      <td>TCGA-02-0003-01</td>\n",
       "      <td>50.21</td>\n",
       "      <td>FALSE</td>\n",
       "      <td>FALSE</td>\n",
       "      <td>FALSE</td>\n",
       "      <td>FALSE</td>\n",
       "      <td>0</td>\n",
       "      <td>FALSE</td>\n",
       "      <td>FALSE</td>\n",
       "      <td>0</td>\n",
       "      <td>...</td>\n",
       "      <td>4298ad72-e8eb-4749-95da-cce602107724</td>\n",
       "      <td></td>\n",
       "      <td>TCGA-02-0003-01A-21-1898-20</td>\n",
       "      <td>TCGA-02-0003-01A-01D-0182-01</td>\n",
       "      <td></td>\n",
       "      <td>TCGA-02-0003-01A-01D-1490-08</td>\n",
       "      <td></td>\n",
       "      <td></td>\n",
       "      <td>TCGA-02-0003-01A-01D-0182-01</td>\n",
       "      <td></td>\n",
       "    </tr>\n",
       "    <tr>\n",
       "      <th>4</th>\n",
       "      <td>TCGA-02-0004-01</td>\n",
       "      <td>59.18</td>\n",
       "      <td>TRUE</td>\n",
       "      <td>TRUE</td>\n",
       "      <td>TRUE</td>\n",
       "      <td>TRUE</td>\n",
       "      <td>110</td>\n",
       "      <td>TRUE</td>\n",
       "      <td>TRUE</td>\n",
       "      <td>110</td>\n",
       "      <td>...</td>\n",
       "      <td>1bc1d8d2-8c34-4b03-9275-38c68323816e</td>\n",
       "      <td></td>\n",
       "      <td>TCGA-02-0004-01A-21-1898-20</td>\n",
       "      <td></td>\n",
       "      <td></td>\n",
       "      <td></td>\n",
       "      <td></td>\n",
       "      <td></td>\n",
       "      <td></td>\n",
       "      <td></td>\n",
       "    </tr>\n",
       "    <tr>\n",
       "      <th>5</th>\n",
       "      <td>TCGA-02-0006-01</td>\n",
       "      <td>56.17</td>\n",
       "      <td>FALSE</td>\n",
       "      <td>TRUE</td>\n",
       "      <td>TRUE</td>\n",
       "      <td>TRUE</td>\n",
       "      <td>61</td>\n",
       "      <td>TRUE</td>\n",
       "      <td>TRUE</td>\n",
       "      <td>61</td>\n",
       "      <td>...</td>\n",
       "      <td></td>\n",
       "      <td></td>\n",
       "      <td></td>\n",
       "      <td>TCGA-02-0006-01B-01D-0182-01</td>\n",
       "      <td></td>\n",
       "      <td></td>\n",
       "      <td></td>\n",
       "      <td></td>\n",
       "      <td>TCGA-02-0006-01B-01D-0182-01</td>\n",
       "      <td></td>\n",
       "    </tr>\n",
       "    <tr>\n",
       "      <th>...</th>\n",
       "      <td>...</td>\n",
       "      <td>...</td>\n",
       "      <td>...</td>\n",
       "      <td>...</td>\n",
       "      <td>...</td>\n",
       "      <td>...</td>\n",
       "      <td>...</td>\n",
       "      <td>...</td>\n",
       "      <td>...</td>\n",
       "      <td>...</td>\n",
       "      <td>...</td>\n",
       "      <td>...</td>\n",
       "      <td>...</td>\n",
       "      <td>...</td>\n",
       "      <td>...</td>\n",
       "      <td>...</td>\n",
       "      <td>...</td>\n",
       "      <td>...</td>\n",
       "      <td>...</td>\n",
       "      <td>...</td>\n",
       "      <td>...</td>\n",
       "    </tr>\n",
       "    <tr>\n",
       "      <th>625</th>\n",
       "      <td>TCGA-87-5896-01</td>\n",
       "      <td>50.35</td>\n",
       "      <td>FALSE</td>\n",
       "      <td>FALSE</td>\n",
       "      <td>FALSE</td>\n",
       "      <td>FALSE</td>\n",
       "      <td>0</td>\n",
       "      <td>FALSE</td>\n",
       "      <td>FALSE</td>\n",
       "      <td>0</td>\n",
       "      <td>...</td>\n",
       "      <td>5d4b2115-054e-4026-b2e0-9c8ec0137b57</td>\n",
       "      <td></td>\n",
       "      <td></td>\n",
       "      <td>TCGA-87-5896-01A-01D-1694-01</td>\n",
       "      <td></td>\n",
       "      <td>TCGA-87-5896-01A-01D-1696-08</td>\n",
       "      <td></td>\n",
       "      <td></td>\n",
       "      <td>TCGA-87-5896-01A-01D-1694-01</td>\n",
       "      <td>TCGA-87-5896-01A-01D-1697-05</td>\n",
       "    </tr>\n",
       "    <tr>\n",
       "      <th>626</th>\n",
       "      <td>TCGA-OX-A56R-01</td>\n",
       "      <td></td>\n",
       "      <td></td>\n",
       "      <td></td>\n",
       "      <td></td>\n",
       "      <td></td>\n",
       "      <td></td>\n",
       "      <td></td>\n",
       "      <td></td>\n",
       "      <td></td>\n",
       "      <td>...</td>\n",
       "      <td></td>\n",
       "      <td></td>\n",
       "      <td></td>\n",
       "      <td>TCGA-OX-A56R-01A-11D-A33S-01</td>\n",
       "      <td></td>\n",
       "      <td></td>\n",
       "      <td></td>\n",
       "      <td></td>\n",
       "      <td>TCGA-OX-A56R-01A-11D-A33S-01</td>\n",
       "      <td>TCGA-OX-A56R-01A-11D-A33U-05</td>\n",
       "    </tr>\n",
       "    <tr>\n",
       "      <th>627</th>\n",
       "      <td>TCGA-RR-A6KA-01</td>\n",
       "      <td></td>\n",
       "      <td></td>\n",
       "      <td></td>\n",
       "      <td></td>\n",
       "      <td></td>\n",
       "      <td></td>\n",
       "      <td></td>\n",
       "      <td></td>\n",
       "      <td></td>\n",
       "      <td>...</td>\n",
       "      <td></td>\n",
       "      <td></td>\n",
       "      <td></td>\n",
       "      <td>TCGA-RR-A6KA-01A-21D-A33S-01</td>\n",
       "      <td></td>\n",
       "      <td></td>\n",
       "      <td></td>\n",
       "      <td></td>\n",
       "      <td>TCGA-RR-A6KA-01A-21D-A33S-01</td>\n",
       "      <td>TCGA-RR-A6KA-01A-21D-A33U-05</td>\n",
       "    </tr>\n",
       "    <tr>\n",
       "      <th>628</th>\n",
       "      <td>TCGA-RR-A6KB-01</td>\n",
       "      <td></td>\n",
       "      <td></td>\n",
       "      <td></td>\n",
       "      <td></td>\n",
       "      <td></td>\n",
       "      <td></td>\n",
       "      <td></td>\n",
       "      <td></td>\n",
       "      <td></td>\n",
       "      <td>...</td>\n",
       "      <td></td>\n",
       "      <td></td>\n",
       "      <td></td>\n",
       "      <td>TCGA-RR-A6KB-01A-12D-A33S-01</td>\n",
       "      <td></td>\n",
       "      <td></td>\n",
       "      <td></td>\n",
       "      <td></td>\n",
       "      <td>TCGA-RR-A6KB-01A-12D-A33S-01</td>\n",
       "      <td>TCGA-RR-A6KB-01A-12D-A33U-05</td>\n",
       "    </tr>\n",
       "    <tr>\n",
       "      <th>629</th>\n",
       "      <td>TCGA-RR-A6KC-01</td>\n",
       "      <td></td>\n",
       "      <td></td>\n",
       "      <td></td>\n",
       "      <td></td>\n",
       "      <td></td>\n",
       "      <td></td>\n",
       "      <td></td>\n",
       "      <td></td>\n",
       "      <td></td>\n",
       "      <td>...</td>\n",
       "      <td></td>\n",
       "      <td></td>\n",
       "      <td></td>\n",
       "      <td>TCGA-RR-A6KC-01A-31D-A33S-01</td>\n",
       "      <td></td>\n",
       "      <td></td>\n",
       "      <td></td>\n",
       "      <td></td>\n",
       "      <td>TCGA-RR-A6KC-01A-31D-A33S-01</td>\n",
       "      <td>TCGA-RR-A6KC-01A-31D-A33U-05</td>\n",
       "    </tr>\n",
       "  </tbody>\n",
       "</table>\n",
       "<p>629 rows × 129 columns</p>\n",
       "</div>"
      ],
      "text/plain": [
       "0           sampleID CDE_DxAge CDE_alk_chemoradiation_standard  \\\n",
       "1    TCGA-02-0001-01      44.3                           FALSE   \n",
       "2    TCGA-02-0002-01                                             \n",
       "3    TCGA-02-0003-01     50.21                           FALSE   \n",
       "4    TCGA-02-0004-01     59.18                            TRUE   \n",
       "5    TCGA-02-0006-01     56.17                           FALSE   \n",
       "..               ...       ...                             ...   \n",
       "625  TCGA-87-5896-01     50.35                           FALSE   \n",
       "626  TCGA-OX-A56R-01                                             \n",
       "627  TCGA-RR-A6KA-01                                             \n",
       "628  TCGA-RR-A6KB-01                                             \n",
       "629  TCGA-RR-A6KC-01                                             \n",
       "\n",
       "0   CDE_chemo_adjuvant_alk CDE_chemo_adjuvant_tmz CDE_chemo_alk  \\\n",
       "1                    FALSE                  FALSE         FALSE   \n",
       "2                                                                 \n",
       "3                    FALSE                  FALSE         FALSE   \n",
       "4                     TRUE                   TRUE          TRUE   \n",
       "5                     TRUE                   TRUE          TRUE   \n",
       "..                     ...                    ...           ...   \n",
       "625                  FALSE                  FALSE         FALSE   \n",
       "626                                                               \n",
       "627                                                               \n",
       "628                                                               \n",
       "629                                                               \n",
       "\n",
       "0   CDE_chemo_alk_days CDE_chemo_alk_long CDE_chemo_tmz CDE_chemo_tmz_days  \\\n",
       "1                    0              FALSE         FALSE                  0   \n",
       "2                                                                            \n",
       "3                    0              FALSE         FALSE                  0   \n",
       "4                  110               TRUE          TRUE                110   \n",
       "5                   61               TRUE          TRUE                 61   \n",
       "..                 ...                ...           ...                ...   \n",
       "625                  0              FALSE         FALSE                  0   \n",
       "626                                                                          \n",
       "627                                                                          \n",
       "628                                                                          \n",
       "629                                                                          \n",
       "\n",
       "0    ...        _GENOMIC_ID_TCGA_GBM_exp_u133a  \\\n",
       "1    ...  03c14838-bbab-4487-80c3-c5fdf6ec83f9   \n",
       "2    ...                                         \n",
       "3    ...  4298ad72-e8eb-4749-95da-cce602107724   \n",
       "4    ...  1bc1d8d2-8c34-4b03-9275-38c68323816e   \n",
       "5    ...                                         \n",
       "..   ...                                   ...   \n",
       "625  ...  5d4b2115-054e-4026-b2e0-9c8ec0137b57   \n",
       "626  ...                                         \n",
       "627  ...                                         \n",
       "628  ...                                         \n",
       "629  ...                                         \n",
       "\n",
       "0   _GENOMIC_ID_TCGA_GBM_exp_HiSeqV2_PANCAN _GENOMIC_ID_TCGA_GBM_RPPA_RBN  \\\n",
       "1                                                                           \n",
       "2                                                                           \n",
       "3                                             TCGA-02-0003-01A-21-1898-20   \n",
       "4                                             TCGA-02-0004-01A-21-1898-20   \n",
       "5                                                                           \n",
       "..                                      ...                           ...   \n",
       "625                                                                         \n",
       "626                                                                         \n",
       "627                                                                         \n",
       "628                                                                         \n",
       "629                                                                         \n",
       "\n",
       "0   _GENOMIC_ID_TCGA_GBM_gistic2thd _GENOMIC_ID_TCGA_GBM_PDMRNAseqCNV  \\\n",
       "1      TCGA-02-0001-01C-01D-0182-01                                     \n",
       "2                                                                       \n",
       "3      TCGA-02-0003-01A-01D-0182-01                                     \n",
       "4                                                                       \n",
       "5      TCGA-02-0006-01B-01D-0182-01                                     \n",
       "..                              ...                               ...   \n",
       "625    TCGA-87-5896-01A-01D-1694-01                                     \n",
       "626    TCGA-OX-A56R-01A-11D-A33S-01                                     \n",
       "627    TCGA-RR-A6KA-01A-21D-A33S-01                                     \n",
       "628    TCGA-RR-A6KB-01A-12D-A33S-01                                     \n",
       "629    TCGA-RR-A6KC-01A-31D-A33S-01                                     \n",
       "\n",
       "0   _GENOMIC_ID_TCGA_GBM_mutation _GENOMIC_ID_TCGA_GBM_exp_HiSeqV2_percentile  \\\n",
       "1                                                                               \n",
       "2                                                                               \n",
       "3    TCGA-02-0003-01A-01D-1490-08                                               \n",
       "4                                                                               \n",
       "5                                                                               \n",
       "..                            ...                                         ...   \n",
       "625  TCGA-87-5896-01A-01D-1696-08                                               \n",
       "626                                                                             \n",
       "627                                                                             \n",
       "628                                                                             \n",
       "629                                                                             \n",
       "\n",
       "0   _GENOMIC_ID_TCGA_GBM_exp_HiSeqV2_exon  _GENOMIC_ID_TCGA_GBM_gistic2  \\\n",
       "1                                          TCGA-02-0001-01C-01D-0182-01   \n",
       "2                                                                         \n",
       "3                                          TCGA-02-0003-01A-01D-0182-01   \n",
       "4                                                                         \n",
       "5                                          TCGA-02-0006-01B-01D-0182-01   \n",
       "..                                    ...                           ...   \n",
       "625                                        TCGA-87-5896-01A-01D-1694-01   \n",
       "626                                        TCGA-OX-A56R-01A-11D-A33S-01   \n",
       "627                                        TCGA-RR-A6KA-01A-21D-A33S-01   \n",
       "628                                        TCGA-RR-A6KB-01A-12D-A33S-01   \n",
       "629                                        TCGA-RR-A6KC-01A-31D-A33S-01   \n",
       "\n",
       "0   _GENOMIC_ID_TCGA_GBM_hMethyl450  \n",
       "1                                    \n",
       "2                                    \n",
       "3                                    \n",
       "4                                    \n",
       "5                                    \n",
       "..                              ...  \n",
       "625    TCGA-87-5896-01A-01D-1697-05  \n",
       "626    TCGA-OX-A56R-01A-11D-A33U-05  \n",
       "627    TCGA-RR-A6KA-01A-21D-A33U-05  \n",
       "628    TCGA-RR-A6KB-01A-12D-A33U-05  \n",
       "629    TCGA-RR-A6KC-01A-31D-A33U-05  \n",
       "\n",
       "[629 rows x 129 columns]"
      ]
     },
     "execution_count": 12,
     "metadata": {},
     "output_type": "execute_result"
    }
   ],
   "source": [
    "# make the first row the header\n",
    "clin.columns = clin.iloc[0]\n",
    "\n",
    "# Get rid of the duplicate first row\n",
    "clin = clin.iloc[1:,:]\n",
    "clin"
   ]
  },
  {
   "cell_type": "code",
   "execution_count": 13,
   "metadata": {},
   "outputs": [],
   "source": [
    "##### Radiation #####\n",
    "rt = clin[['sampleID', \n",
    "              'CDE_radiation_adjuvant',\n",
    "              'CDE_radiation_adjuvant_standard',\n",
    "              'CDE_radiation_standard']].copy()\n",
    "\n",
    "# convert to bool\n",
    "rt['CDE_radiation_adjuvant'] = rt['CDE_radiation_adjuvant'].replace({'TRUE':True, 'FALSE':False})\n",
    "rt['CDE_radiation_adjuvant_standard'] = rt['CDE_radiation_adjuvant_standard'].replace({'TRUE':True, 'FALSE':False})\n",
    "rt['CDE_radiation_standard'] = rt[ 'CDE_radiation_standard'].replace({'TRUE':True, 'FALSE':False})\n",
    "\n",
    "# figure out which samples have received any sort of radiation\n",
    "rt['received_rt'] = rt[['CDE_radiation_adjuvant',\n",
    "                          'CDE_radiation_adjuvant_standard',\n",
    "                          'CDE_radiation_standard']].any(axis='columns') # took out 'sampleID, , bool_only=True\n",
    "\n",
    "rts = rt[['sampleID', 'received_rt']]\n",
    "\n",
    "##### ChemoRadiation #####\n",
    "chemrt = clin[['sampleID', \n",
    "              'CDE_alk_chemoradiation_standard', \n",
    "              'CDE_tmz_chemoradiation_standard']].copy()\n",
    "\n",
    "# convert to bool\n",
    "chemrt['CDE_alk_chemoradiation_standard'] = chemrt['CDE_alk_chemoradiation_standard'].replace({'TRUE':True, 'FALSE':False})\n",
    "chemrt['CDE_tmz_chemoradiation_standard'] = chemrt['CDE_tmz_chemoradiation_standard'].replace({'TRUE':True, 'FALSE':False})\n",
    "\n",
    "# figure out which samples have received any sort of chemotherapy\n",
    "chemrt['received_chemrt'] = chemrt[['CDE_alk_chemoradiation_standard',  \n",
    "                                  'CDE_tmz_chemoradiation_standard']].any(axis='columns')\n",
    "\n",
    "chemrts = chemrt[['sampleID', 'received_chemrt']]\n",
    "\n",
    "##### Chemo #####\n",
    "chem = clin[['sampleID', \n",
    "              'CDE_chemo_adjuvant_alk', \n",
    "              'CDE_chemo_adjuvant_tmz']].copy()\n",
    "\n",
    "# convert to bool\n",
    "chem['CDE_chemo_adjuvant_alk'] = chem['CDE_chemo_adjuvant_alk'].replace({'TRUE':True, 'FALSE':False})\n",
    "chem['CDE_chemo_adjuvant_tmz'] = chem['CDE_chemo_adjuvant_tmz'].replace({'TRUE':True, 'FALSE':False})\n",
    "\n",
    "# figure out which samples have received any sort of chemotherapy\n",
    "chem['received_chem'] = chem[['CDE_chemo_adjuvant_alk', \n",
    "                                      'CDE_chemo_adjuvant_tmz']].any(axis='columns')\n",
    "\n",
    "chems = chem[['sampleID', 'received_chem']]\n",
    "\n",
    "##### No treatment #####\n",
    "\n",
    "# merge\n",
    "treats1 = rts.merge(chemrts, how='inner', left_on='sampleID', right_on='sampleID')\n",
    "treatments = treats1.merge(chems, how='inner', left_on='sampleID', right_on='sampleID')\n",
    "\n",
    "# convert to bool\n",
    "treatments['received_rt'] = treatments['received_rt'].replace({'True':True, 'False':False})\n",
    "treatments['received_chem'] = treatments['received_chem'].replace({'True':True, 'False':False})\n",
    "treatments['received_chemrt'] = treatments['received_chemrt'].replace({'True':True, 'False':False})\n",
    "\n",
    "# figure out which samples have not been treated\n",
    "treatments['treated'] = treatments[['received_rt', \n",
    "                            'received_chem',\n",
    "                            'received_chemrt']].any(axis='columns')\n",
    "\n",
    "treated = treatments[['sampleID', 'treated']]"
   ]
  },
  {
   "cell_type": "code",
   "execution_count": 119,
   "metadata": {},
   "outputs": [
    {
     "data": {
      "text/html": [
       "<div>\n",
       "<style scoped>\n",
       "    .dataframe tbody tr th:only-of-type {\n",
       "        vertical-align: middle;\n",
       "    }\n",
       "\n",
       "    .dataframe tbody tr th {\n",
       "        vertical-align: top;\n",
       "    }\n",
       "\n",
       "    .dataframe thead th {\n",
       "        text-align: right;\n",
       "    }\n",
       "</style>\n",
       "<table border=\"1\" class=\"dataframe\">\n",
       "  <thead>\n",
       "    <tr style=\"text-align: right;\">\n",
       "      <th></th>\n",
       "      <th>sampleID</th>\n",
       "      <th>days_to_tumor_recurrence</th>\n",
       "    </tr>\n",
       "  </thead>\n",
       "  <tbody>\n",
       "    <tr>\n",
       "      <th>1</th>\n",
       "      <td>TCGA-02-0001-01</td>\n",
       "      <td>137</td>\n",
       "    </tr>\n",
       "    <tr>\n",
       "      <th>2</th>\n",
       "      <td>TCGA-02-0002-01</td>\n",
       "      <td></td>\n",
       "    </tr>\n",
       "    <tr>\n",
       "      <th>3</th>\n",
       "      <td>TCGA-02-0003-01</td>\n",
       "      <td>40</td>\n",
       "    </tr>\n",
       "    <tr>\n",
       "      <th>4</th>\n",
       "      <td>TCGA-02-0004-01</td>\n",
       "      <td></td>\n",
       "    </tr>\n",
       "    <tr>\n",
       "      <th>5</th>\n",
       "      <td>TCGA-02-0006-01</td>\n",
       "      <td>302</td>\n",
       "    </tr>\n",
       "    <tr>\n",
       "      <th>...</th>\n",
       "      <td>...</td>\n",
       "      <td>...</td>\n",
       "    </tr>\n",
       "    <tr>\n",
       "      <th>625</th>\n",
       "      <td>TCGA-87-5896-01</td>\n",
       "      <td></td>\n",
       "    </tr>\n",
       "    <tr>\n",
       "      <th>626</th>\n",
       "      <td>TCGA-OX-A56R-01</td>\n",
       "      <td></td>\n",
       "    </tr>\n",
       "    <tr>\n",
       "      <th>627</th>\n",
       "      <td>TCGA-RR-A6KA-01</td>\n",
       "      <td></td>\n",
       "    </tr>\n",
       "    <tr>\n",
       "      <th>628</th>\n",
       "      <td>TCGA-RR-A6KB-01</td>\n",
       "      <td></td>\n",
       "    </tr>\n",
       "    <tr>\n",
       "      <th>629</th>\n",
       "      <td>TCGA-RR-A6KC-01</td>\n",
       "      <td></td>\n",
       "    </tr>\n",
       "  </tbody>\n",
       "</table>\n",
       "<p>629 rows × 2 columns</p>\n",
       "</div>"
      ],
      "text/plain": [
       "0           sampleID days_to_tumor_recurrence\n",
       "1    TCGA-02-0001-01                      137\n",
       "2    TCGA-02-0002-01                         \n",
       "3    TCGA-02-0003-01                       40\n",
       "4    TCGA-02-0004-01                         \n",
       "5    TCGA-02-0006-01                      302\n",
       "..               ...                      ...\n",
       "625  TCGA-87-5896-01                         \n",
       "626  TCGA-OX-A56R-01                         \n",
       "627  TCGA-RR-A6KA-01                         \n",
       "628  TCGA-RR-A6KB-01                         \n",
       "629  TCGA-RR-A6KC-01                         \n",
       "\n",
       "[629 rows x 2 columns]"
      ]
     },
     "execution_count": 119,
     "metadata": {},
     "output_type": "execute_result"
    }
   ],
   "source": [
    "rec = clin[['sampleID', \n",
    "              'days_to_tumor_recurrence']].copy()\n",
    "\n",
    "rec"
   ]
  },
  {
   "cell_type": "markdown",
   "metadata": {},
   "source": [
    "## Genetic Profiling"
   ]
  },
  {
   "cell_type": "code",
   "execution_count": 14,
   "metadata": {},
   "outputs": [],
   "source": [
    "# gene/probe names\n",
    "dataset = 'TCGA.GBM.sampleMap/HT_HG-U133A'\n",
    "host = 'https://tcga.xenahubs.net'\n",
    "probes = xena.dataset_field(host, dataset)"
   ]
  },
  {
   "cell_type": "code",
   "execution_count": 15,
   "metadata": {},
   "outputs": [],
   "source": [
    "# gene/probe values \n",
    "dataset = 'TCGA.GBM.sampleMap/HT_HG-U133A'\n",
    "host = 'https://tcga.xenahubs.net'\n",
    "values = xena.dataset_fetch(host, dataset, samples, probes)"
   ]
  },
  {
   "cell_type": "code",
   "execution_count": 16,
   "metadata": {},
   "outputs": [
    {
     "data": {
      "text/plain": [
       "12043"
      ]
     },
     "execution_count": 16,
     "metadata": {},
     "output_type": "execute_result"
    }
   ],
   "source": [
    "len(probes)"
   ]
  },
  {
   "cell_type": "code",
   "execution_count": 17,
   "metadata": {},
   "outputs": [
    {
     "data": {
      "text/html": [
       "<div>\n",
       "<style scoped>\n",
       "    .dataframe tbody tr th:only-of-type {\n",
       "        vertical-align: middle;\n",
       "    }\n",
       "\n",
       "    .dataframe tbody tr th {\n",
       "        vertical-align: top;\n",
       "    }\n",
       "\n",
       "    .dataframe thead th {\n",
       "        text-align: right;\n",
       "    }\n",
       "</style>\n",
       "<table border=\"1\" class=\"dataframe\">\n",
       "  <thead>\n",
       "    <tr style=\"text-align: right;\">\n",
       "      <th></th>\n",
       "      <th>A2BP1</th>\n",
       "      <th>A2M</th>\n",
       "      <th>A4GALT</th>\n",
       "      <th>A4GNT</th>\n",
       "      <th>AAAS</th>\n",
       "      <th>AACS</th>\n",
       "      <th>AADAC</th>\n",
       "      <th>AAK1</th>\n",
       "      <th>AAMP</th>\n",
       "      <th>AANAT</th>\n",
       "      <th>...</th>\n",
       "      <th>ZSCAN5</th>\n",
       "      <th>ZW10</th>\n",
       "      <th>ZWILCH</th>\n",
       "      <th>ZWINT</th>\n",
       "      <th>ZXDA</th>\n",
       "      <th>ZXDB</th>\n",
       "      <th>ZXDC</th>\n",
       "      <th>ZYX</th>\n",
       "      <th>ZZEF1</th>\n",
       "      <th>ZZZ3</th>\n",
       "    </tr>\n",
       "  </thead>\n",
       "  <tbody>\n",
       "    <tr>\n",
       "      <th>TCGA-02-0001-01</th>\n",
       "      <td>5.409</td>\n",
       "      <td>10.28</td>\n",
       "      <td>5.639</td>\n",
       "      <td>5.108</td>\n",
       "      <td>5.508</td>\n",
       "      <td>6.501</td>\n",
       "      <td>4.752</td>\n",
       "      <td>4.901</td>\n",
       "      <td>7.236</td>\n",
       "      <td>3.474</td>\n",
       "      <td>...</td>\n",
       "      <td>4.968</td>\n",
       "      <td>5.606</td>\n",
       "      <td>5.417</td>\n",
       "      <td>7.745</td>\n",
       "      <td>4.218</td>\n",
       "      <td>4.643</td>\n",
       "      <td>5.537</td>\n",
       "      <td>7.115</td>\n",
       "      <td>5.700</td>\n",
       "      <td>6.360</td>\n",
       "    </tr>\n",
       "    <tr>\n",
       "      <th>TCGA-02-0002-01</th>\n",
       "      <td>NaN</td>\n",
       "      <td>NaN</td>\n",
       "      <td>NaN</td>\n",
       "      <td>NaN</td>\n",
       "      <td>NaN</td>\n",
       "      <td>NaN</td>\n",
       "      <td>NaN</td>\n",
       "      <td>NaN</td>\n",
       "      <td>NaN</td>\n",
       "      <td>NaN</td>\n",
       "      <td>...</td>\n",
       "      <td>NaN</td>\n",
       "      <td>NaN</td>\n",
       "      <td>NaN</td>\n",
       "      <td>NaN</td>\n",
       "      <td>NaN</td>\n",
       "      <td>NaN</td>\n",
       "      <td>NaN</td>\n",
       "      <td>NaN</td>\n",
       "      <td>NaN</td>\n",
       "      <td>NaN</td>\n",
       "    </tr>\n",
       "    <tr>\n",
       "      <th>TCGA-02-0003-01</th>\n",
       "      <td>4.972</td>\n",
       "      <td>11.47</td>\n",
       "      <td>5.276</td>\n",
       "      <td>4.349</td>\n",
       "      <td>5.478</td>\n",
       "      <td>6.539</td>\n",
       "      <td>5.885</td>\n",
       "      <td>4.564</td>\n",
       "      <td>7.311</td>\n",
       "      <td>3.321</td>\n",
       "      <td>...</td>\n",
       "      <td>4.821</td>\n",
       "      <td>6.438</td>\n",
       "      <td>6.536</td>\n",
       "      <td>8.212</td>\n",
       "      <td>3.777</td>\n",
       "      <td>4.008</td>\n",
       "      <td>6.327</td>\n",
       "      <td>6.888</td>\n",
       "      <td>5.446</td>\n",
       "      <td>7.456</td>\n",
       "    </tr>\n",
       "    <tr>\n",
       "      <th>TCGA-02-0004-01</th>\n",
       "      <td>4.963</td>\n",
       "      <td>12.38</td>\n",
       "      <td>5.440</td>\n",
       "      <td>4.052</td>\n",
       "      <td>5.812</td>\n",
       "      <td>7.378</td>\n",
       "      <td>3.988</td>\n",
       "      <td>4.542</td>\n",
       "      <td>7.824</td>\n",
       "      <td>3.463</td>\n",
       "      <td>...</td>\n",
       "      <td>4.608</td>\n",
       "      <td>6.651</td>\n",
       "      <td>6.465</td>\n",
       "      <td>7.795</td>\n",
       "      <td>3.967</td>\n",
       "      <td>3.819</td>\n",
       "      <td>5.700</td>\n",
       "      <td>8.996</td>\n",
       "      <td>5.473</td>\n",
       "      <td>8.092</td>\n",
       "    </tr>\n",
       "    <tr>\n",
       "      <th>TCGA-02-0006-01</th>\n",
       "      <td>NaN</td>\n",
       "      <td>NaN</td>\n",
       "      <td>NaN</td>\n",
       "      <td>NaN</td>\n",
       "      <td>NaN</td>\n",
       "      <td>NaN</td>\n",
       "      <td>NaN</td>\n",
       "      <td>NaN</td>\n",
       "      <td>NaN</td>\n",
       "      <td>NaN</td>\n",
       "      <td>...</td>\n",
       "      <td>NaN</td>\n",
       "      <td>NaN</td>\n",
       "      <td>NaN</td>\n",
       "      <td>NaN</td>\n",
       "      <td>NaN</td>\n",
       "      <td>NaN</td>\n",
       "      <td>NaN</td>\n",
       "      <td>NaN</td>\n",
       "      <td>NaN</td>\n",
       "      <td>NaN</td>\n",
       "    </tr>\n",
       "    <tr>\n",
       "      <th>...</th>\n",
       "      <td>...</td>\n",
       "      <td>...</td>\n",
       "      <td>...</td>\n",
       "      <td>...</td>\n",
       "      <td>...</td>\n",
       "      <td>...</td>\n",
       "      <td>...</td>\n",
       "      <td>...</td>\n",
       "      <td>...</td>\n",
       "      <td>...</td>\n",
       "      <td>...</td>\n",
       "      <td>...</td>\n",
       "      <td>...</td>\n",
       "      <td>...</td>\n",
       "      <td>...</td>\n",
       "      <td>...</td>\n",
       "      <td>...</td>\n",
       "      <td>...</td>\n",
       "      <td>...</td>\n",
       "      <td>...</td>\n",
       "      <td>...</td>\n",
       "    </tr>\n",
       "    <tr>\n",
       "      <th>TCGA-87-5896-01</th>\n",
       "      <td>6.623</td>\n",
       "      <td>11.70</td>\n",
       "      <td>5.113</td>\n",
       "      <td>4.052</td>\n",
       "      <td>6.954</td>\n",
       "      <td>7.230</td>\n",
       "      <td>4.173</td>\n",
       "      <td>4.996</td>\n",
       "      <td>8.609</td>\n",
       "      <td>3.263</td>\n",
       "      <td>...</td>\n",
       "      <td>5.488</td>\n",
       "      <td>7.256</td>\n",
       "      <td>7.417</td>\n",
       "      <td>8.740</td>\n",
       "      <td>4.256</td>\n",
       "      <td>4.327</td>\n",
       "      <td>6.053</td>\n",
       "      <td>10.780</td>\n",
       "      <td>5.934</td>\n",
       "      <td>8.328</td>\n",
       "    </tr>\n",
       "    <tr>\n",
       "      <th>TCGA-OX-A56R-01</th>\n",
       "      <td>NaN</td>\n",
       "      <td>NaN</td>\n",
       "      <td>NaN</td>\n",
       "      <td>NaN</td>\n",
       "      <td>NaN</td>\n",
       "      <td>NaN</td>\n",
       "      <td>NaN</td>\n",
       "      <td>NaN</td>\n",
       "      <td>NaN</td>\n",
       "      <td>NaN</td>\n",
       "      <td>...</td>\n",
       "      <td>NaN</td>\n",
       "      <td>NaN</td>\n",
       "      <td>NaN</td>\n",
       "      <td>NaN</td>\n",
       "      <td>NaN</td>\n",
       "      <td>NaN</td>\n",
       "      <td>NaN</td>\n",
       "      <td>NaN</td>\n",
       "      <td>NaN</td>\n",
       "      <td>NaN</td>\n",
       "    </tr>\n",
       "    <tr>\n",
       "      <th>TCGA-RR-A6KA-01</th>\n",
       "      <td>NaN</td>\n",
       "      <td>NaN</td>\n",
       "      <td>NaN</td>\n",
       "      <td>NaN</td>\n",
       "      <td>NaN</td>\n",
       "      <td>NaN</td>\n",
       "      <td>NaN</td>\n",
       "      <td>NaN</td>\n",
       "      <td>NaN</td>\n",
       "      <td>NaN</td>\n",
       "      <td>...</td>\n",
       "      <td>NaN</td>\n",
       "      <td>NaN</td>\n",
       "      <td>NaN</td>\n",
       "      <td>NaN</td>\n",
       "      <td>NaN</td>\n",
       "      <td>NaN</td>\n",
       "      <td>NaN</td>\n",
       "      <td>NaN</td>\n",
       "      <td>NaN</td>\n",
       "      <td>NaN</td>\n",
       "    </tr>\n",
       "    <tr>\n",
       "      <th>TCGA-RR-A6KB-01</th>\n",
       "      <td>NaN</td>\n",
       "      <td>NaN</td>\n",
       "      <td>NaN</td>\n",
       "      <td>NaN</td>\n",
       "      <td>NaN</td>\n",
       "      <td>NaN</td>\n",
       "      <td>NaN</td>\n",
       "      <td>NaN</td>\n",
       "      <td>NaN</td>\n",
       "      <td>NaN</td>\n",
       "      <td>...</td>\n",
       "      <td>NaN</td>\n",
       "      <td>NaN</td>\n",
       "      <td>NaN</td>\n",
       "      <td>NaN</td>\n",
       "      <td>NaN</td>\n",
       "      <td>NaN</td>\n",
       "      <td>NaN</td>\n",
       "      <td>NaN</td>\n",
       "      <td>NaN</td>\n",
       "      <td>NaN</td>\n",
       "    </tr>\n",
       "    <tr>\n",
       "      <th>TCGA-RR-A6KC-01</th>\n",
       "      <td>NaN</td>\n",
       "      <td>NaN</td>\n",
       "      <td>NaN</td>\n",
       "      <td>NaN</td>\n",
       "      <td>NaN</td>\n",
       "      <td>NaN</td>\n",
       "      <td>NaN</td>\n",
       "      <td>NaN</td>\n",
       "      <td>NaN</td>\n",
       "      <td>NaN</td>\n",
       "      <td>...</td>\n",
       "      <td>NaN</td>\n",
       "      <td>NaN</td>\n",
       "      <td>NaN</td>\n",
       "      <td>NaN</td>\n",
       "      <td>NaN</td>\n",
       "      <td>NaN</td>\n",
       "      <td>NaN</td>\n",
       "      <td>NaN</td>\n",
       "      <td>NaN</td>\n",
       "      <td>NaN</td>\n",
       "    </tr>\n",
       "  </tbody>\n",
       "</table>\n",
       "<p>629 rows × 12040 columns</p>\n",
       "</div>"
      ],
      "text/plain": [
       "                 A2BP1    A2M  A4GALT  A4GNT   AAAS   AACS  AADAC   AAK1  \\\n",
       "TCGA-02-0001-01  5.409  10.28   5.639  5.108  5.508  6.501  4.752  4.901   \n",
       "TCGA-02-0002-01    NaN    NaN     NaN    NaN    NaN    NaN    NaN    NaN   \n",
       "TCGA-02-0003-01  4.972  11.47   5.276  4.349  5.478  6.539  5.885  4.564   \n",
       "TCGA-02-0004-01  4.963  12.38   5.440  4.052  5.812  7.378  3.988  4.542   \n",
       "TCGA-02-0006-01    NaN    NaN     NaN    NaN    NaN    NaN    NaN    NaN   \n",
       "...                ...    ...     ...    ...    ...    ...    ...    ...   \n",
       "TCGA-87-5896-01  6.623  11.70   5.113  4.052  6.954  7.230  4.173  4.996   \n",
       "TCGA-OX-A56R-01    NaN    NaN     NaN    NaN    NaN    NaN    NaN    NaN   \n",
       "TCGA-RR-A6KA-01    NaN    NaN     NaN    NaN    NaN    NaN    NaN    NaN   \n",
       "TCGA-RR-A6KB-01    NaN    NaN     NaN    NaN    NaN    NaN    NaN    NaN   \n",
       "TCGA-RR-A6KC-01    NaN    NaN     NaN    NaN    NaN    NaN    NaN    NaN   \n",
       "\n",
       "                  AAMP  AANAT  ...  ZSCAN5   ZW10  ZWILCH  ZWINT   ZXDA  \\\n",
       "TCGA-02-0001-01  7.236  3.474  ...   4.968  5.606   5.417  7.745  4.218   \n",
       "TCGA-02-0002-01    NaN    NaN  ...     NaN    NaN     NaN    NaN    NaN   \n",
       "TCGA-02-0003-01  7.311  3.321  ...   4.821  6.438   6.536  8.212  3.777   \n",
       "TCGA-02-0004-01  7.824  3.463  ...   4.608  6.651   6.465  7.795  3.967   \n",
       "TCGA-02-0006-01    NaN    NaN  ...     NaN    NaN     NaN    NaN    NaN   \n",
       "...                ...    ...  ...     ...    ...     ...    ...    ...   \n",
       "TCGA-87-5896-01  8.609  3.263  ...   5.488  7.256   7.417  8.740  4.256   \n",
       "TCGA-OX-A56R-01    NaN    NaN  ...     NaN    NaN     NaN    NaN    NaN   \n",
       "TCGA-RR-A6KA-01    NaN    NaN  ...     NaN    NaN     NaN    NaN    NaN   \n",
       "TCGA-RR-A6KB-01    NaN    NaN  ...     NaN    NaN     NaN    NaN    NaN   \n",
       "TCGA-RR-A6KC-01    NaN    NaN  ...     NaN    NaN     NaN    NaN    NaN   \n",
       "\n",
       "                  ZXDB   ZXDC     ZYX  ZZEF1   ZZZ3  \n",
       "TCGA-02-0001-01  4.643  5.537   7.115  5.700  6.360  \n",
       "TCGA-02-0002-01    NaN    NaN     NaN    NaN    NaN  \n",
       "TCGA-02-0003-01  4.008  6.327   6.888  5.446  7.456  \n",
       "TCGA-02-0004-01  3.819  5.700   8.996  5.473  8.092  \n",
       "TCGA-02-0006-01    NaN    NaN     NaN    NaN    NaN  \n",
       "...                ...    ...     ...    ...    ...  \n",
       "TCGA-87-5896-01  4.327  6.053  10.780  5.934  8.328  \n",
       "TCGA-OX-A56R-01    NaN    NaN     NaN    NaN    NaN  \n",
       "TCGA-RR-A6KA-01    NaN    NaN     NaN    NaN    NaN  \n",
       "TCGA-RR-A6KB-01    NaN    NaN     NaN    NaN    NaN  \n",
       "TCGA-RR-A6KC-01    NaN    NaN     NaN    NaN    NaN  \n",
       "\n",
       "[629 rows x 12040 columns]"
      ]
     },
     "execution_count": 17,
     "metadata": {},
     "output_type": "execute_result"
    }
   ],
   "source": [
    "genes = pd.DataFrame(values)\n",
    "\n",
    "# replace the blank column names with the sample names from above\n",
    "genes.columns = samples\n",
    "\n",
    "# transpose\n",
    "genes = genes.transpose()\n",
    "\n",
    "# replace the column names, again, with the gene names\n",
    "genes.columns = probes\n",
    "\n",
    "# The final three columns are not genes\n",
    "genes = genes.drop(columns=['hCG_40738', 'sampleID', 'tcag7.1314'])\n",
    "\n",
    "# fix type\n",
    "genes = genes.astype(float)\n",
    "genes\n",
    "\n",
    "# The nans will be fixed below after the df is joined with treatments and os"
   ]
  },
  {
   "cell_type": "markdown",
   "metadata": {},
   "source": [
    "## Create X and y"
   ]
  },
  {
   "cell_type": "markdown",
   "metadata": {},
   "source": [
    "### V1 with all of the treatments as features"
   ]
  },
  {
   "cell_type": "code",
   "execution_count": 18,
   "metadata": {},
   "outputs": [
    {
     "data": {
      "text/html": [
       "<div>\n",
       "<style scoped>\n",
       "    .dataframe tbody tr th:only-of-type {\n",
       "        vertical-align: middle;\n",
       "    }\n",
       "\n",
       "    .dataframe tbody tr th {\n",
       "        vertical-align: top;\n",
       "    }\n",
       "\n",
       "    .dataframe thead th {\n",
       "        text-align: right;\n",
       "    }\n",
       "</style>\n",
       "<table border=\"1\" class=\"dataframe\">\n",
       "  <thead>\n",
       "    <tr style=\"text-align: right;\">\n",
       "      <th></th>\n",
       "      <th>A2BP1</th>\n",
       "      <th>A2M</th>\n",
       "      <th>A4GALT</th>\n",
       "      <th>A4GNT</th>\n",
       "      <th>AAAS</th>\n",
       "      <th>AACS</th>\n",
       "      <th>AADAC</th>\n",
       "      <th>AAK1</th>\n",
       "      <th>AAMP</th>\n",
       "      <th>AANAT</th>\n",
       "      <th>...</th>\n",
       "      <th>ZZEF1</th>\n",
       "      <th>ZZZ3</th>\n",
       "      <th>received_rt</th>\n",
       "      <th>received_chem</th>\n",
       "      <th>received_chemrt</th>\n",
       "      <th>treated</th>\n",
       "      <th>OS.time</th>\n",
       "      <th>OS</th>\n",
       "      <th>LHS</th>\n",
       "      <th>OS.months</th>\n",
       "    </tr>\n",
       "  </thead>\n",
       "  <tbody>\n",
       "    <tr>\n",
       "      <th>TCGA-02-0001-01</th>\n",
       "      <td>5.409</td>\n",
       "      <td>10.280</td>\n",
       "      <td>5.639</td>\n",
       "      <td>5.108</td>\n",
       "      <td>5.508</td>\n",
       "      <td>6.501</td>\n",
       "      <td>4.752</td>\n",
       "      <td>4.901</td>\n",
       "      <td>7.236</td>\n",
       "      <td>3.474</td>\n",
       "      <td>...</td>\n",
       "      <td>5.700</td>\n",
       "      <td>6.360</td>\n",
       "      <td>1.0</td>\n",
       "      <td>0.0</td>\n",
       "      <td>0.0</td>\n",
       "      <td>1.0</td>\n",
       "      <td>358.0</td>\n",
       "      <td>1.0</td>\n",
       "      <td>0</td>\n",
       "      <td>11.933333</td>\n",
       "    </tr>\n",
       "    <tr>\n",
       "      <th>TCGA-02-0003-01</th>\n",
       "      <td>4.972</td>\n",
       "      <td>11.470</td>\n",
       "      <td>5.276</td>\n",
       "      <td>4.349</td>\n",
       "      <td>5.478</td>\n",
       "      <td>6.539</td>\n",
       "      <td>5.885</td>\n",
       "      <td>4.564</td>\n",
       "      <td>7.311</td>\n",
       "      <td>3.321</td>\n",
       "      <td>...</td>\n",
       "      <td>5.446</td>\n",
       "      <td>7.456</td>\n",
       "      <td>1.0</td>\n",
       "      <td>0.0</td>\n",
       "      <td>0.0</td>\n",
       "      <td>1.0</td>\n",
       "      <td>144.0</td>\n",
       "      <td>1.0</td>\n",
       "      <td>0</td>\n",
       "      <td>4.800000</td>\n",
       "    </tr>\n",
       "    <tr>\n",
       "      <th>TCGA-02-0007-01</th>\n",
       "      <td>5.335</td>\n",
       "      <td>4.291</td>\n",
       "      <td>5.281</td>\n",
       "      <td>4.824</td>\n",
       "      <td>6.352</td>\n",
       "      <td>7.187</td>\n",
       "      <td>4.653</td>\n",
       "      <td>4.673</td>\n",
       "      <td>7.424</td>\n",
       "      <td>3.719</td>\n",
       "      <td>...</td>\n",
       "      <td>5.351</td>\n",
       "      <td>6.918</td>\n",
       "      <td>1.0</td>\n",
       "      <td>1.0</td>\n",
       "      <td>1.0</td>\n",
       "      <td>1.0</td>\n",
       "      <td>705.0</td>\n",
       "      <td>1.0</td>\n",
       "      <td>1</td>\n",
       "      <td>23.500000</td>\n",
       "    </tr>\n",
       "    <tr>\n",
       "      <th>TCGA-02-0009-01</th>\n",
       "      <td>5.055</td>\n",
       "      <td>10.350</td>\n",
       "      <td>5.124</td>\n",
       "      <td>4.205</td>\n",
       "      <td>5.496</td>\n",
       "      <td>7.675</td>\n",
       "      <td>4.759</td>\n",
       "      <td>4.405</td>\n",
       "      <td>8.052</td>\n",
       "      <td>3.426</td>\n",
       "      <td>...</td>\n",
       "      <td>5.152</td>\n",
       "      <td>7.114</td>\n",
       "      <td>1.0</td>\n",
       "      <td>0.0</td>\n",
       "      <td>0.0</td>\n",
       "      <td>1.0</td>\n",
       "      <td>322.0</td>\n",
       "      <td>1.0</td>\n",
       "      <td>0</td>\n",
       "      <td>10.733333</td>\n",
       "    </tr>\n",
       "    <tr>\n",
       "      <th>TCGA-02-0010-01</th>\n",
       "      <td>5.331</td>\n",
       "      <td>8.550</td>\n",
       "      <td>5.351</td>\n",
       "      <td>4.730</td>\n",
       "      <td>5.762</td>\n",
       "      <td>7.996</td>\n",
       "      <td>7.704</td>\n",
       "      <td>4.709</td>\n",
       "      <td>8.435</td>\n",
       "      <td>3.472</td>\n",
       "      <td>...</td>\n",
       "      <td>5.045</td>\n",
       "      <td>6.421</td>\n",
       "      <td>1.0</td>\n",
       "      <td>1.0</td>\n",
       "      <td>0.0</td>\n",
       "      <td>1.0</td>\n",
       "      <td>1077.0</td>\n",
       "      <td>1.0</td>\n",
       "      <td>1</td>\n",
       "      <td>35.900000</td>\n",
       "    </tr>\n",
       "    <tr>\n",
       "      <th>...</th>\n",
       "      <td>...</td>\n",
       "      <td>...</td>\n",
       "      <td>...</td>\n",
       "      <td>...</td>\n",
       "      <td>...</td>\n",
       "      <td>...</td>\n",
       "      <td>...</td>\n",
       "      <td>...</td>\n",
       "      <td>...</td>\n",
       "      <td>...</td>\n",
       "      <td>...</td>\n",
       "      <td>...</td>\n",
       "      <td>...</td>\n",
       "      <td>...</td>\n",
       "      <td>...</td>\n",
       "      <td>...</td>\n",
       "      <td>...</td>\n",
       "      <td>...</td>\n",
       "      <td>...</td>\n",
       "      <td>...</td>\n",
       "      <td>...</td>\n",
       "    </tr>\n",
       "    <tr>\n",
       "      <th>TCGA-76-6193-01</th>\n",
       "      <td>6.451</td>\n",
       "      <td>13.400</td>\n",
       "      <td>5.233</td>\n",
       "      <td>4.058</td>\n",
       "      <td>5.836</td>\n",
       "      <td>6.908</td>\n",
       "      <td>4.171</td>\n",
       "      <td>4.646</td>\n",
       "      <td>8.206</td>\n",
       "      <td>3.362</td>\n",
       "      <td>...</td>\n",
       "      <td>5.987</td>\n",
       "      <td>8.211</td>\n",
       "      <td>0.0</td>\n",
       "      <td>0.0</td>\n",
       "      <td>0.0</td>\n",
       "      <td>0.0</td>\n",
       "      <td>82.0</td>\n",
       "      <td>1.0</td>\n",
       "      <td>0</td>\n",
       "      <td>2.733333</td>\n",
       "    </tr>\n",
       "    <tr>\n",
       "      <th>TCGA-76-6282-01</th>\n",
       "      <td>5.337</td>\n",
       "      <td>12.560</td>\n",
       "      <td>5.367</td>\n",
       "      <td>4.252</td>\n",
       "      <td>6.287</td>\n",
       "      <td>7.008</td>\n",
       "      <td>4.259</td>\n",
       "      <td>4.742</td>\n",
       "      <td>8.261</td>\n",
       "      <td>3.343</td>\n",
       "      <td>...</td>\n",
       "      <td>6.040</td>\n",
       "      <td>8.142</td>\n",
       "      <td>0.0</td>\n",
       "      <td>0.0</td>\n",
       "      <td>0.0</td>\n",
       "      <td>0.0</td>\n",
       "      <td>519.0</td>\n",
       "      <td>1.0</td>\n",
       "      <td>1</td>\n",
       "      <td>17.300000</td>\n",
       "    </tr>\n",
       "    <tr>\n",
       "      <th>TCGA-76-6285-01</th>\n",
       "      <td>5.020</td>\n",
       "      <td>12.160</td>\n",
       "      <td>5.131</td>\n",
       "      <td>4.149</td>\n",
       "      <td>6.741</td>\n",
       "      <td>7.676</td>\n",
       "      <td>4.040</td>\n",
       "      <td>4.534</td>\n",
       "      <td>8.568</td>\n",
       "      <td>3.316</td>\n",
       "      <td>...</td>\n",
       "      <td>5.736</td>\n",
       "      <td>8.595</td>\n",
       "      <td>0.0</td>\n",
       "      <td>0.0</td>\n",
       "      <td>0.0</td>\n",
       "      <td>0.0</td>\n",
       "      <td>254.0</td>\n",
       "      <td>1.0</td>\n",
       "      <td>0</td>\n",
       "      <td>8.466667</td>\n",
       "    </tr>\n",
       "    <tr>\n",
       "      <th>TCGA-81-5910-01</th>\n",
       "      <td>4.871</td>\n",
       "      <td>10.840</td>\n",
       "      <td>5.007</td>\n",
       "      <td>4.366</td>\n",
       "      <td>6.643</td>\n",
       "      <td>7.105</td>\n",
       "      <td>4.135</td>\n",
       "      <td>4.563</td>\n",
       "      <td>8.328</td>\n",
       "      <td>3.439</td>\n",
       "      <td>...</td>\n",
       "      <td>6.135</td>\n",
       "      <td>8.243</td>\n",
       "      <td>0.0</td>\n",
       "      <td>0.0</td>\n",
       "      <td>0.0</td>\n",
       "      <td>0.0</td>\n",
       "      <td>49.0</td>\n",
       "      <td>1.0</td>\n",
       "      <td>0</td>\n",
       "      <td>1.633333</td>\n",
       "    </tr>\n",
       "    <tr>\n",
       "      <th>TCGA-87-5896-01</th>\n",
       "      <td>6.623</td>\n",
       "      <td>11.700</td>\n",
       "      <td>5.113</td>\n",
       "      <td>4.052</td>\n",
       "      <td>6.954</td>\n",
       "      <td>7.230</td>\n",
       "      <td>4.173</td>\n",
       "      <td>4.996</td>\n",
       "      <td>8.609</td>\n",
       "      <td>3.263</td>\n",
       "      <td>...</td>\n",
       "      <td>5.934</td>\n",
       "      <td>8.328</td>\n",
       "      <td>0.0</td>\n",
       "      <td>0.0</td>\n",
       "      <td>0.0</td>\n",
       "      <td>0.0</td>\n",
       "      <td>800.0</td>\n",
       "      <td>0.0</td>\n",
       "      <td>1</td>\n",
       "      <td>26.666667</td>\n",
       "    </tr>\n",
       "  </tbody>\n",
       "</table>\n",
       "<p>518 rows × 12048 columns</p>\n",
       "</div>"
      ],
      "text/plain": [
       "                 A2BP1     A2M  A4GALT  A4GNT   AAAS   AACS  AADAC   AAK1  \\\n",
       "TCGA-02-0001-01  5.409  10.280   5.639  5.108  5.508  6.501  4.752  4.901   \n",
       "TCGA-02-0003-01  4.972  11.470   5.276  4.349  5.478  6.539  5.885  4.564   \n",
       "TCGA-02-0007-01  5.335   4.291   5.281  4.824  6.352  7.187  4.653  4.673   \n",
       "TCGA-02-0009-01  5.055  10.350   5.124  4.205  5.496  7.675  4.759  4.405   \n",
       "TCGA-02-0010-01  5.331   8.550   5.351  4.730  5.762  7.996  7.704  4.709   \n",
       "...                ...     ...     ...    ...    ...    ...    ...    ...   \n",
       "TCGA-76-6193-01  6.451  13.400   5.233  4.058  5.836  6.908  4.171  4.646   \n",
       "TCGA-76-6282-01  5.337  12.560   5.367  4.252  6.287  7.008  4.259  4.742   \n",
       "TCGA-76-6285-01  5.020  12.160   5.131  4.149  6.741  7.676  4.040  4.534   \n",
       "TCGA-81-5910-01  4.871  10.840   5.007  4.366  6.643  7.105  4.135  4.563   \n",
       "TCGA-87-5896-01  6.623  11.700   5.113  4.052  6.954  7.230  4.173  4.996   \n",
       "\n",
       "                  AAMP  AANAT  ...  ZZEF1   ZZZ3  received_rt  received_chem  \\\n",
       "TCGA-02-0001-01  7.236  3.474  ...  5.700  6.360          1.0            0.0   \n",
       "TCGA-02-0003-01  7.311  3.321  ...  5.446  7.456          1.0            0.0   \n",
       "TCGA-02-0007-01  7.424  3.719  ...  5.351  6.918          1.0            1.0   \n",
       "TCGA-02-0009-01  8.052  3.426  ...  5.152  7.114          1.0            0.0   \n",
       "TCGA-02-0010-01  8.435  3.472  ...  5.045  6.421          1.0            1.0   \n",
       "...                ...    ...  ...    ...    ...          ...            ...   \n",
       "TCGA-76-6193-01  8.206  3.362  ...  5.987  8.211          0.0            0.0   \n",
       "TCGA-76-6282-01  8.261  3.343  ...  6.040  8.142          0.0            0.0   \n",
       "TCGA-76-6285-01  8.568  3.316  ...  5.736  8.595          0.0            0.0   \n",
       "TCGA-81-5910-01  8.328  3.439  ...  6.135  8.243          0.0            0.0   \n",
       "TCGA-87-5896-01  8.609  3.263  ...  5.934  8.328          0.0            0.0   \n",
       "\n",
       "                 received_chemrt  treated  OS.time   OS  LHS  OS.months  \n",
       "TCGA-02-0001-01              0.0      1.0    358.0  1.0    0  11.933333  \n",
       "TCGA-02-0003-01              0.0      1.0    144.0  1.0    0   4.800000  \n",
       "TCGA-02-0007-01              1.0      1.0    705.0  1.0    1  23.500000  \n",
       "TCGA-02-0009-01              0.0      1.0    322.0  1.0    0  10.733333  \n",
       "TCGA-02-0010-01              0.0      1.0   1077.0  1.0    1  35.900000  \n",
       "...                          ...      ...      ...  ...  ...        ...  \n",
       "TCGA-76-6193-01              0.0      0.0     82.0  1.0    0   2.733333  \n",
       "TCGA-76-6282-01              0.0      0.0    519.0  1.0    1  17.300000  \n",
       "TCGA-76-6285-01              0.0      0.0    254.0  1.0    0   8.466667  \n",
       "TCGA-81-5910-01              0.0      0.0     49.0  1.0    0   1.633333  \n",
       "TCGA-87-5896-01              0.0      0.0    800.0  0.0    1  26.666667  \n",
       "\n",
       "[518 rows x 12048 columns]"
      ]
     },
     "execution_count": 18,
     "metadata": {},
     "output_type": "execute_result"
    }
   ],
   "source": [
    "# Add rt to features so samples line up\n",
    "rt_binary = rts[['received_rt']]\n",
    "rt_binary['received_rt'] = rts['received_rt'].astype(float).astype(object)\n",
    "rt_binary.index = rts['sampleID']\n",
    "\n",
    "# Add chemo to features so samples line up\n",
    "chem_binary = chems[['received_chem']]\n",
    "chem_binary['received_chem'] = chems['received_chem'].astype(float).astype(object)\n",
    "chem_binary.index = chems['sampleID']\n",
    "\n",
    "# add chemrt to features so samples line up\n",
    "chemrt_binary = chemrts[['received_chemrt']]\n",
    "chemrt_binary['received_chemrt'] = chemrts['received_chemrt'].astype(float).astype(object)\n",
    "chemrt_binary.index = chemrts['sampleID']\n",
    "\n",
    "# add no_treat to features for plotting\n",
    "treat_binary = treated[['treated']]\n",
    "treat_binary['treated'] = treated['treated'].astype(float).astype(object)\n",
    "treat_binary.index = treated['sampleID']\n",
    "\n",
    "merge1 = genes.merge(rt_binary, how='inner', left_index=True, right_index=True)\n",
    "merge2 = merge1.merge(chem_binary, how='inner', left_index=True, right_index=True)\n",
    "merge3 = merge2.merge(chemrt_binary, how='inner', left_index=True, right_index=True)\n",
    "features_all = merge3.merge(treat_binary, how='inner', left_index=True, right_index=True)\n",
    "\n",
    "# fix the os dataframe for joining\n",
    "os2 = os[['OS.time', 'OS', 'LHS', 'OS.months']].copy()\n",
    "os2.index = os['sample']\n",
    "\n",
    "# # make a dataframe with os, rt, and genes\n",
    "# # filter out nans in os and genes\n",
    "full_df = features_all.merge(os2, how='inner', left_index=True, right_index=True)\n",
    "full_df = full_df.dropna()\n",
    "full_df"
   ]
  },
  {
   "cell_type": "markdown",
   "metadata": {},
   "source": [
    "#### Survival statistics in the entire database (minus patients missing data)"
   ]
  },
  {
   "cell_type": "code",
   "execution_count": 19,
   "metadata": {},
   "outputs": [
    {
     "name": "stdout",
     "output_type": "stream",
     "text": [
      "Median survival (months): 12.583333333333332\n"
     ]
    },
    {
     "data": {
      "text/plain": [
       "count     518.000000\n",
       "mean      512.088803\n",
       "std       541.852136\n",
       "min         3.000000\n",
       "25%       181.000000\n",
       "50%       377.500000\n",
       "75%       619.500000\n",
       "max      3881.000000\n",
       "Name: OS.time, dtype: float64"
      ]
     },
     "execution_count": 19,
     "metadata": {},
     "output_type": "execute_result"
    }
   ],
   "source": [
    "# Statistics\n",
    "full_med_months = full_df['OS.months'].median()\n",
    "print('Median survival (months):', full_med_months)\n",
    "\n",
    "# How many are low/high?\n",
    "full_low_high = full_df['LHS'].value_counts()\n",
    "full_low_high\n",
    "\n",
    "# summary for OS.time\n",
    "full_os_sum = full_df['OS.time'].describe()\n",
    "full_os_sum\n",
    "\n",
    "# The groups are still pretty well balanced"
   ]
  },
  {
   "cell_type": "markdown",
   "metadata": {},
   "source": [
    "#### Plot of survival in the entire database (minus patients missing data)"
   ]
  },
  {
   "cell_type": "markdown",
   "metadata": {},
   "source": [
    "We don't plot Low/High survival because it doesn't truly represent survival in the tradiational way. It would be confusing to say that after 300 days, Patient X was classified as low survival, or after 1500 days, Patient Y was classified as high survival. This isn't a true \"event.\""
   ]
  },
  {
   "cell_type": "code",
   "execution_count": 20,
   "metadata": {},
   "outputs": [
    {
     "data": {
      "image/png": "[encoded data removed]",
      "text/plain": [
       "<Figure size 432x288 with 1 Axes>"
      ]
     },
     "metadata": {
      "needs_background": "light"
     },
     "output_type": "display_data"
    }
   ],
   "source": [
    "from lifelines import KaplanMeierFitter\n",
    "kmf = KaplanMeierFitter() \n",
    "\n",
    "full_df['OS'] = full_df['OS'].astype(float)\n",
    "full_df['OS.time'] = full_df['OS.time'].astype(float)\n",
    "\n",
    "durations = full_df['OS.time'].tolist()\n",
    "event_observed = full_df['OS'].tolist()\n",
    "\n",
    "kmf.fit(durations, event_observed,label='Kaplan Meier Estimate for the Survival Function')\n",
    "kmf.plot()\n",
    "plt.title('Overall Survival for All Patients')\n",
    "plt.ylabel('Survival Probability')\n",
    "plt.xlabel('Days')\n",
    "plt.savefig('survival_allpts_trts.pdf', transparent=True)\n",
    "plt.savefig('survival_allpts_trts.png')"
   ]
  },
  {
   "cell_type": "markdown",
   "metadata": {},
   "source": [
    "#### Distribution and Survival Plots by Treatment in the entire database (minus patients missing data)"
   ]
  },
  {
   "cell_type": "code",
   "execution_count": 21,
   "metadata": {},
   "outputs": [],
   "source": [
    "# For graphs\n",
    "rt_surv_pres = full_df[full_df['received_rt'] == 1]\n",
    "rt_surv_neg = full_df[full_df['received_rt'] == 0]\n",
    "\n",
    "chemrt_surv_pres = full_df[full_df['received_chemrt'] == 1]\n",
    "chemrt_surv_neg = full_df[full_df['received_chemrt'] == 0]\n",
    "\n",
    "chem_surv_pres = full_df[full_df['received_chem'] == 1]\n",
    "chem_surv_neg = full_df[full_df['received_chem'] == 0]\n",
    "\n",
    "treat_surv_neg = full_df[full_df['treated'] == 0]"
   ]
  },
  {
   "cell_type": "code",
   "execution_count": 22,
   "metadata": {},
   "outputs": [
    {
     "data": {
      "text/plain": [
       "Text(0.5, 0, 'Survival Days')"
      ]
     },
     "execution_count": 22,
     "metadata": {},
     "output_type": "execute_result"
    },
    {
     "data": {
      "image/png": "[encoded data removed]",
      "text/plain": [
       "<Figure size 432x288 with 1 Axes>"
      ]
     },
     "metadata": {
      "needs_background": "light"
     },
     "output_type": "display_data"
    },
    {
     "data": {
      "image/png": "[encoded data removed]",
      "text/plain": [
       "<Figure size 432x288 with 1 Axes>"
      ]
     },
     "metadata": {
      "needs_background": "light"
     },
     "output_type": "display_data"
    },
    {
     "data": {
      "image/png": "[encoded data removed]",
      "text/plain": [
       "<Figure size 432x288 with 1 Axes>"
      ]
     },
     "metadata": {
      "needs_background": "light"
     },
     "output_type": "display_data"
    },
    {
     "data": {
      "image/png": "[encoded data removed]",
      "text/plain": [
       "<Figure size 432x288 with 1 Axes>"
      ]
     },
     "metadata": {
      "needs_background": "light"
     },
     "output_type": "display_data"
    }
   ],
   "source": [
    "# Distribution of survival data\n",
    "hist_rt = rt_surv_pres[['OS.time']].copy()\n",
    "ax = hist_rt.plot.hist(bins=12, alpha=0.5)\n",
    "ax.set_title('+ Radiation')\n",
    "ax.set_xlabel('Survival Days')\n",
    "\n",
    "hist_chemrt = chemrt_surv_pres[['OS.time']].copy()\n",
    "ax = hist_chemrt.plot.hist(bins=12, alpha=0.5)\n",
    "ax.set_title('+ ChemoRadiation')\n",
    "ax.set_xlabel('Survival Days')\n",
    "\n",
    "hist_chem = chem_surv_pres[['OS.time']].copy()\n",
    "ax = hist_chem.plot.hist(bins=12, alpha=0.5)\n",
    "ax.set_title('+ Chemotherapy')\n",
    "ax.set_xlabel('Survival Days')\n",
    "\n",
    "hist_notreat = treat_surv_neg[['OS.time']].copy()\n",
    "ax = hist_notreat.plot.hist(bins=12, alpha=0.5)\n",
    "ax.set_title('No Treatment')\n",
    "ax.set_xlabel('Survival Days')"
   ]
  },
  {
   "cell_type": "code",
   "execution_count": 23,
   "metadata": {},
   "outputs": [
    {
     "data": {
      "image/png": "[encoded data removed]",
      "text/plain": [
       "<Figure size 432x288 with 1 Axes>"
      ]
     },
     "metadata": {
      "needs_background": "light"
     },
     "output_type": "display_data"
    }
   ],
   "source": [
    "# Kaplan Meier\n",
    "kmf_rt = KaplanMeierFitter() \n",
    "kmf_chemrt = KaplanMeierFitter() \n",
    "kmf_chem = KaplanMeierFitter() \n",
    "kmf_0treat = KaplanMeierFitter()\n",
    "\n",
    "durations1 = rt_surv_pres['OS.time'].astype(float).tolist()\n",
    "event1 = rt_surv_pres['OS'].astype(float).tolist()\n",
    "durations2 = chemrt_surv_pres['OS.time'].astype(float).tolist()\n",
    "event2 = chemrt_surv_pres['OS'].astype(float).tolist()\n",
    "durations3 = chem_surv_pres['OS.time'].astype(float).tolist()\n",
    "event3 = chem_surv_pres['OS'].astype(float).tolist()\n",
    "durations4 = treat_surv_neg['OS.time'].astype(float).tolist()\n",
    "event4 = treat_surv_neg['OS'].astype(float).tolist()\n",
    "\n",
    "kmf_rt.fit(durations=durations1, event_observed=event1, label='+ Radiation')\n",
    "kmf_chemrt.fit(durations=durations2, event_observed=event2, label='+ ChemoRadiation')\n",
    "kmf_chem.fit(durations=durations3, event_observed=event3, label='+ Chemotherapy')\n",
    "kmf_0treat.fit(durations=durations4, event_observed=event4, label='No Treatment')\n",
    "\n",
    "kmf_rt.plot(ci_show = False)\n",
    "kmf_chemrt.plot(ci_show = False)\n",
    "kmf_chem.plot(ci_show = False)\n",
    "kmf_0treat.plot(ci_show = False)\n",
    "\n",
    "plt.title('Overall Survival by Treatment')\n",
    "plt.ylabel('Survival Probability')\n",
    "plt.xlabel('Days')\n",
    "plt.savefig('survival_diff_trts.pdf', transparent=True)\n",
    "plt.savefig('survival_diff_trts.png')"
   ]
  },
  {
   "cell_type": "markdown",
   "metadata": {},
   "source": [
    "#### Check distribution of genes"
   ]
  },
  {
   "cell_type": "code",
   "execution_count": 24,
   "metadata": {},
   "outputs": [
    {
     "data": {
      "image/png": "[encoded data removed]",
      "text/plain": [
       "<Figure size 432x288 with 1 Axes>"
      ]
     },
     "metadata": {
      "needs_background": "light"
     },
     "output_type": "display_data"
    }
   ],
   "source": [
    "# Histogram of three important genes in full set\n",
    "histplot = full_df[['PTEN', 'IDH1', 'KRAS']].copy()\n",
    "ax = histplot.plot.hist(bins=12, alpha=0.5, color=['c', 'y', 'm'])\n",
    "ax.set_title('Distribution of Cancer-Related Genes (All Patients)')\n",
    "ax.set_xlabel('Log2_RMA')\n",
    "plt.savefig('genedist_allpts.pdf', transparent=True)\n",
    "plt.savefig('genedist_allpts.png', transparent=True)"
   ]
  },
  {
   "cell_type": "markdown",
   "metadata": {},
   "source": [
    "#### X and y"
   ]
  },
  {
   "cell_type": "code",
   "execution_count": 25,
   "metadata": {},
   "outputs": [],
   "source": [
    "# Create new filtered y dataframe for OS time\n",
    "# Regression\n",
    "y_df = [full_df['OS.time']]\n",
    "y_df = pd.DataFrame(y_df)\n",
    "y_df = y_df.transpose()\n",
    "\n",
    "# create matrix for OS time\n",
    "y = np.matrix(y_df.to_numpy(dtype=float))"
   ]
  },
  {
   "cell_type": "code",
   "execution_count": 26,
   "metadata": {},
   "outputs": [],
   "source": [
    "# Create new filtered y dataframe for LHS\n",
    "# Classification\n",
    "yc_df = [full_df['LHS']]\n",
    "yc_df = pd.DataFrame(yc_df)\n",
    "yc_df = yc_df.transpose()\n",
    "\n",
    "# create matrix for OS time\n",
    "yc = np.matrix(yc_df.to_numpy(dtype=float))"
   ]
  },
  {
   "cell_type": "code",
   "execution_count": 27,
   "metadata": {},
   "outputs": [
    {
     "data": {
      "text/plain": [
       "matrix([[ 5.409, 10.28 ,  5.639, ...,  1.   ,  0.   ,  0.   ],\n",
       "        [ 4.972, 11.47 ,  5.276, ...,  1.   ,  0.   ,  0.   ],\n",
       "        [ 5.335,  4.291,  5.281, ...,  1.   ,  1.   ,  1.   ],\n",
       "        ...,\n",
       "        [ 5.02 , 12.16 ,  5.131, ...,  0.   ,  0.   ,  0.   ],\n",
       "        [ 4.871, 10.84 ,  5.007, ...,  0.   ,  0.   ,  0.   ],\n",
       "        [ 6.623, 11.7  ,  5.113, ...,  0.   ,  0.   ,  0.   ]])"
      ]
     },
     "execution_count": 27,
     "metadata": {},
     "output_type": "execute_result"
    }
   ],
   "source": [
    "# Create new filtered X dataframe\n",
    "# Drop OS, OS.time, treated\n",
    "X_df = full_df.drop(['OS.time', 'OS', 'treated', 'LHS', 'OS.months'], axis=1)\n",
    "\n",
    "# create matrix\n",
    "X = np.matrix(X_df.to_numpy(dtype=float))\n",
    "X"
   ]
  },
  {
   "cell_type": "code",
   "execution_count": 28,
   "metadata": {},
   "outputs": [
    {
     "data": {
      "text/plain": [
       "matrix([[5.7 , 6.36, 1.  , 0.  , 0.  ]])"
      ]
     },
     "execution_count": 28,
     "metadata": {},
     "output_type": "execute_result"
    }
   ],
   "source": [
    "X[0,-5:]"
   ]
  },
  {
   "cell_type": "markdown",
   "metadata": {},
   "source": [
    "#### Split for validation (V1 treatments)"
   ]
  },
  {
   "cell_type": "markdown",
   "metadata": {},
   "source": [
    "##### Regression"
   ]
  },
  {
   "cell_type": "code",
   "execution_count": 29,
   "metadata": {},
   "outputs": [],
   "source": [
    "# Split training values for validation\n",
    "from sklearn.model_selection import train_test_split\n",
    "\n",
    "seed = 17\n",
    "test_size = 0.2\n",
    "X_train, X_test, y_train, y_test = train_test_split(X, y, test_size=test_size, random_state=seed)"
   ]
  },
  {
   "cell_type": "markdown",
   "metadata": {},
   "source": [
    "##### Classification"
   ]
  },
  {
   "cell_type": "code",
   "execution_count": 30,
   "metadata": {},
   "outputs": [],
   "source": [
    "# Split training values for validation\n",
    "from sklearn.model_selection import train_test_split\n",
    "\n",
    "seed = 171\n",
    "test_size = 0.2\n",
    "Xc_train, Xc_test, yc_train, yc_test = train_test_split(X, yc, test_size=test_size, random_state=seed)"
   ]
  },
  {
   "cell_type": "markdown",
   "metadata": {},
   "source": [
    "#### Feature Selection (V1 treatments)"
   ]
  },
  {
   "cell_type": "markdown",
   "metadata": {},
   "source": [
    "##### Regression"
   ]
  },
  {
   "cell_type": "code",
   "execution_count": 31,
   "metadata": {},
   "outputs": [
    {
     "name": "stdout",
     "output_type": "stream",
     "text": [
      "['ABBA-1', 'ATP5C1', 'CBR1', 'CHI3L1', 'CHL1', 'DCTD', 'DHRS2', 'DIRAS3', 'DYNLT3', 'EFEMP2', 'GPRASP1', 'HCRTR2', 'IQCG', 'KIAA0495', 'MLNR', 'MSN', 'NSUN5', 'PDPN', 'PRM2', 'RAC3', 'SHANK1', 'SLC25A20', 'SLC4A3', 'TPPP3', 'received_rt']\n",
      "(414, 25)\n"
     ]
    }
   ],
   "source": [
    "from sklearn.feature_selection import SelectKBest, f_regression\n",
    "X_news = SelectKBest(f_regression, k=25).fit(X_train, y_train)\n",
    "X_train2 = X_news.transform(X_train)\n",
    "\n",
    "kbest = list(full_df.columns[:-5][X_news._get_support_mask()])\n",
    "kbest_scores = list(X_news.scores_)\n",
    "print(kbest)\n",
    "print(np.shape(X_train2))"
   ]
  },
  {
   "cell_type": "markdown",
   "metadata": {},
   "source": [
    "##### Classification"
   ]
  },
  {
   "cell_type": "code",
   "execution_count": 32,
   "metadata": {},
   "outputs": [
    {
     "name": "stdout",
     "output_type": "stream",
     "text": [
      "['BDH1', 'CCNF', 'CLEC5A', 'EFEMP2', 'EIF3E', 'FAM60A', 'FBXO17', 'G0S2', 'H2AFY2', 'IQCG', 'LDB1', 'MAPK8', 'MOSC2', 'NELL1', 'NSUN5', 'PCBP3', 'PHF16', 'RANBP17', 'SLC25A20', 'SUSD5', 'TMEM22', 'TXNRD2', 'ZNF208', 'received_rt', 'received_chem']\n",
      "(414, 25)\n"
     ]
    }
   ],
   "source": [
    "from sklearn.feature_selection import SelectKBest, f_classif\n",
    "Xc_news = SelectKBest(f_classif, k=25).fit(Xc_train, yc_train)\n",
    "Xc_train2 = Xc_news.transform(Xc_train)\n",
    "\n",
    "kbestc = list(full_df.columns[:-5][Xc_news._get_support_mask()])\n",
    "kbestc_scores = list(Xc_news.scores_)\n",
    "print(kbestc)\n",
    "print(np.shape(Xc_train2))"
   ]
  },
  {
   "cell_type": "markdown",
   "metadata": {},
   "source": [
    "### V2 with rt treatment used to split the database"
   ]
  },
  {
   "cell_type": "markdown",
   "metadata": {},
   "source": [
    "This is because our central question is about radiation, and we want to see how the prediction looks in patients that we know receive radiation."
   ]
  },
  {
   "cell_type": "code",
   "execution_count": 33,
   "metadata": {},
   "outputs": [
    {
     "data": {
      "text/html": [
       "<div>\n",
       "<style scoped>\n",
       "    .dataframe tbody tr th:only-of-type {\n",
       "        vertical-align: middle;\n",
       "    }\n",
       "\n",
       "    .dataframe tbody tr th {\n",
       "        vertical-align: top;\n",
       "    }\n",
       "\n",
       "    .dataframe thead th {\n",
       "        text-align: right;\n",
       "    }\n",
       "</style>\n",
       "<table border=\"1\" class=\"dataframe\">\n",
       "  <thead>\n",
       "    <tr style=\"text-align: right;\">\n",
       "      <th></th>\n",
       "      <th>A2BP1</th>\n",
       "      <th>A2M</th>\n",
       "      <th>A4GALT</th>\n",
       "      <th>A4GNT</th>\n",
       "      <th>AAAS</th>\n",
       "      <th>AACS</th>\n",
       "      <th>AADAC</th>\n",
       "      <th>AAK1</th>\n",
       "      <th>AAMP</th>\n",
       "      <th>AANAT</th>\n",
       "      <th>...</th>\n",
       "      <th>ZXDA</th>\n",
       "      <th>ZXDB</th>\n",
       "      <th>ZXDC</th>\n",
       "      <th>ZYX</th>\n",
       "      <th>ZZEF1</th>\n",
       "      <th>ZZZ3</th>\n",
       "      <th>OS.time</th>\n",
       "      <th>OS</th>\n",
       "      <th>LHS</th>\n",
       "      <th>OS.months</th>\n",
       "    </tr>\n",
       "  </thead>\n",
       "  <tbody>\n",
       "    <tr>\n",
       "      <th>TCGA-02-0001-01</th>\n",
       "      <td>5.409</td>\n",
       "      <td>10.280</td>\n",
       "      <td>5.639</td>\n",
       "      <td>5.108</td>\n",
       "      <td>5.508</td>\n",
       "      <td>6.501</td>\n",
       "      <td>4.752</td>\n",
       "      <td>4.901</td>\n",
       "      <td>7.236</td>\n",
       "      <td>3.474</td>\n",
       "      <td>...</td>\n",
       "      <td>4.218</td>\n",
       "      <td>4.643</td>\n",
       "      <td>5.537</td>\n",
       "      <td>7.115</td>\n",
       "      <td>5.700</td>\n",
       "      <td>6.360</td>\n",
       "      <td>358.0</td>\n",
       "      <td>1.0</td>\n",
       "      <td>0</td>\n",
       "      <td>11.933333</td>\n",
       "    </tr>\n",
       "    <tr>\n",
       "      <th>TCGA-02-0003-01</th>\n",
       "      <td>4.972</td>\n",
       "      <td>11.470</td>\n",
       "      <td>5.276</td>\n",
       "      <td>4.349</td>\n",
       "      <td>5.478</td>\n",
       "      <td>6.539</td>\n",
       "      <td>5.885</td>\n",
       "      <td>4.564</td>\n",
       "      <td>7.311</td>\n",
       "      <td>3.321</td>\n",
       "      <td>...</td>\n",
       "      <td>3.777</td>\n",
       "      <td>4.008</td>\n",
       "      <td>6.327</td>\n",
       "      <td>6.888</td>\n",
       "      <td>5.446</td>\n",
       "      <td>7.456</td>\n",
       "      <td>144.0</td>\n",
       "      <td>1.0</td>\n",
       "      <td>0</td>\n",
       "      <td>4.800000</td>\n",
       "    </tr>\n",
       "    <tr>\n",
       "      <th>TCGA-02-0007-01</th>\n",
       "      <td>5.335</td>\n",
       "      <td>4.291</td>\n",
       "      <td>5.281</td>\n",
       "      <td>4.824</td>\n",
       "      <td>6.352</td>\n",
       "      <td>7.187</td>\n",
       "      <td>4.653</td>\n",
       "      <td>4.673</td>\n",
       "      <td>7.424</td>\n",
       "      <td>3.719</td>\n",
       "      <td>...</td>\n",
       "      <td>3.932</td>\n",
       "      <td>3.981</td>\n",
       "      <td>5.428</td>\n",
       "      <td>6.765</td>\n",
       "      <td>5.351</td>\n",
       "      <td>6.918</td>\n",
       "      <td>705.0</td>\n",
       "      <td>1.0</td>\n",
       "      <td>1</td>\n",
       "      <td>23.500000</td>\n",
       "    </tr>\n",
       "    <tr>\n",
       "      <th>TCGA-02-0009-01</th>\n",
       "      <td>5.055</td>\n",
       "      <td>10.350</td>\n",
       "      <td>5.124</td>\n",
       "      <td>4.205</td>\n",
       "      <td>5.496</td>\n",
       "      <td>7.675</td>\n",
       "      <td>4.759</td>\n",
       "      <td>4.405</td>\n",
       "      <td>8.052</td>\n",
       "      <td>3.426</td>\n",
       "      <td>...</td>\n",
       "      <td>4.281</td>\n",
       "      <td>4.362</td>\n",
       "      <td>5.307</td>\n",
       "      <td>7.484</td>\n",
       "      <td>5.152</td>\n",
       "      <td>7.114</td>\n",
       "      <td>322.0</td>\n",
       "      <td>1.0</td>\n",
       "      <td>0</td>\n",
       "      <td>10.733333</td>\n",
       "    </tr>\n",
       "    <tr>\n",
       "      <th>TCGA-02-0010-01</th>\n",
       "      <td>5.331</td>\n",
       "      <td>8.550</td>\n",
       "      <td>5.351</td>\n",
       "      <td>4.730</td>\n",
       "      <td>5.762</td>\n",
       "      <td>7.996</td>\n",
       "      <td>7.704</td>\n",
       "      <td>4.709</td>\n",
       "      <td>8.435</td>\n",
       "      <td>3.472</td>\n",
       "      <td>...</td>\n",
       "      <td>3.981</td>\n",
       "      <td>4.168</td>\n",
       "      <td>5.458</td>\n",
       "      <td>8.199</td>\n",
       "      <td>5.045</td>\n",
       "      <td>6.421</td>\n",
       "      <td>1077.0</td>\n",
       "      <td>1.0</td>\n",
       "      <td>1</td>\n",
       "      <td>35.900000</td>\n",
       "    </tr>\n",
       "    <tr>\n",
       "      <th>...</th>\n",
       "      <td>...</td>\n",
       "      <td>...</td>\n",
       "      <td>...</td>\n",
       "      <td>...</td>\n",
       "      <td>...</td>\n",
       "      <td>...</td>\n",
       "      <td>...</td>\n",
       "      <td>...</td>\n",
       "      <td>...</td>\n",
       "      <td>...</td>\n",
       "      <td>...</td>\n",
       "      <td>...</td>\n",
       "      <td>...</td>\n",
       "      <td>...</td>\n",
       "      <td>...</td>\n",
       "      <td>...</td>\n",
       "      <td>...</td>\n",
       "      <td>...</td>\n",
       "      <td>...</td>\n",
       "      <td>...</td>\n",
       "      <td>...</td>\n",
       "    </tr>\n",
       "    <tr>\n",
       "      <th>TCGA-41-2573-01</th>\n",
       "      <td>9.005</td>\n",
       "      <td>11.570</td>\n",
       "      <td>5.051</td>\n",
       "      <td>4.230</td>\n",
       "      <td>5.708</td>\n",
       "      <td>8.352</td>\n",
       "      <td>4.102</td>\n",
       "      <td>5.409</td>\n",
       "      <td>8.105</td>\n",
       "      <td>3.466</td>\n",
       "      <td>...</td>\n",
       "      <td>4.151</td>\n",
       "      <td>4.009</td>\n",
       "      <td>5.846</td>\n",
       "      <td>8.420</td>\n",
       "      <td>5.546</td>\n",
       "      <td>7.945</td>\n",
       "      <td>272.0</td>\n",
       "      <td>0.0</td>\n",
       "      <td>0</td>\n",
       "      <td>9.066667</td>\n",
       "    </tr>\n",
       "    <tr>\n",
       "      <th>TCGA-41-2575-01</th>\n",
       "      <td>5.537</td>\n",
       "      <td>10.900</td>\n",
       "      <td>4.863</td>\n",
       "      <td>4.376</td>\n",
       "      <td>6.033</td>\n",
       "      <td>7.471</td>\n",
       "      <td>4.398</td>\n",
       "      <td>4.821</td>\n",
       "      <td>8.085</td>\n",
       "      <td>3.542</td>\n",
       "      <td>...</td>\n",
       "      <td>4.364</td>\n",
       "      <td>4.058</td>\n",
       "      <td>6.305</td>\n",
       "      <td>7.439</td>\n",
       "      <td>5.585</td>\n",
       "      <td>8.421</td>\n",
       "      <td>290.0</td>\n",
       "      <td>1.0</td>\n",
       "      <td>0</td>\n",
       "      <td>9.666667</td>\n",
       "    </tr>\n",
       "    <tr>\n",
       "      <th>TCGA-41-5651-01</th>\n",
       "      <td>8.167</td>\n",
       "      <td>11.580</td>\n",
       "      <td>5.233</td>\n",
       "      <td>4.050</td>\n",
       "      <td>6.054</td>\n",
       "      <td>7.232</td>\n",
       "      <td>4.153</td>\n",
       "      <td>5.110</td>\n",
       "      <td>8.167</td>\n",
       "      <td>3.368</td>\n",
       "      <td>...</td>\n",
       "      <td>4.236</td>\n",
       "      <td>4.185</td>\n",
       "      <td>5.947</td>\n",
       "      <td>8.589</td>\n",
       "      <td>5.648</td>\n",
       "      <td>7.814</td>\n",
       "      <td>460.0</td>\n",
       "      <td>1.0</td>\n",
       "      <td>1</td>\n",
       "      <td>15.333333</td>\n",
       "    </tr>\n",
       "    <tr>\n",
       "      <th>TCGA-76-4926-01</th>\n",
       "      <td>5.295</td>\n",
       "      <td>10.650</td>\n",
       "      <td>5.041</td>\n",
       "      <td>4.227</td>\n",
       "      <td>5.928</td>\n",
       "      <td>6.483</td>\n",
       "      <td>4.499</td>\n",
       "      <td>4.327</td>\n",
       "      <td>7.550</td>\n",
       "      <td>3.558</td>\n",
       "      <td>...</td>\n",
       "      <td>4.169</td>\n",
       "      <td>4.380</td>\n",
       "      <td>5.410</td>\n",
       "      <td>9.884</td>\n",
       "      <td>5.572</td>\n",
       "      <td>6.827</td>\n",
       "      <td>138.0</td>\n",
       "      <td>1.0</td>\n",
       "      <td>0</td>\n",
       "      <td>4.600000</td>\n",
       "    </tr>\n",
       "    <tr>\n",
       "      <th>TCGA-76-4928-01</th>\n",
       "      <td>5.618</td>\n",
       "      <td>10.650</td>\n",
       "      <td>5.314</td>\n",
       "      <td>4.388</td>\n",
       "      <td>5.707</td>\n",
       "      <td>6.701</td>\n",
       "      <td>4.506</td>\n",
       "      <td>4.384</td>\n",
       "      <td>7.533</td>\n",
       "      <td>3.534</td>\n",
       "      <td>...</td>\n",
       "      <td>3.706</td>\n",
       "      <td>3.975</td>\n",
       "      <td>5.478</td>\n",
       "      <td>9.794</td>\n",
       "      <td>5.375</td>\n",
       "      <td>6.951</td>\n",
       "      <td>94.0</td>\n",
       "      <td>1.0</td>\n",
       "      <td>0</td>\n",
       "      <td>3.133333</td>\n",
       "    </tr>\n",
       "  </tbody>\n",
       "</table>\n",
       "<p>395 rows × 12044 columns</p>\n",
       "</div>"
      ],
      "text/plain": [
       "                 A2BP1     A2M  A4GALT  A4GNT   AAAS   AACS  AADAC   AAK1  \\\n",
       "TCGA-02-0001-01  5.409  10.280   5.639  5.108  5.508  6.501  4.752  4.901   \n",
       "TCGA-02-0003-01  4.972  11.470   5.276  4.349  5.478  6.539  5.885  4.564   \n",
       "TCGA-02-0007-01  5.335   4.291   5.281  4.824  6.352  7.187  4.653  4.673   \n",
       "TCGA-02-0009-01  5.055  10.350   5.124  4.205  5.496  7.675  4.759  4.405   \n",
       "TCGA-02-0010-01  5.331   8.550   5.351  4.730  5.762  7.996  7.704  4.709   \n",
       "...                ...     ...     ...    ...    ...    ...    ...    ...   \n",
       "TCGA-41-2573-01  9.005  11.570   5.051  4.230  5.708  8.352  4.102  5.409   \n",
       "TCGA-41-2575-01  5.537  10.900   4.863  4.376  6.033  7.471  4.398  4.821   \n",
       "TCGA-41-5651-01  8.167  11.580   5.233  4.050  6.054  7.232  4.153  5.110   \n",
       "TCGA-76-4926-01  5.295  10.650   5.041  4.227  5.928  6.483  4.499  4.327   \n",
       "TCGA-76-4928-01  5.618  10.650   5.314  4.388  5.707  6.701  4.506  4.384   \n",
       "\n",
       "                  AAMP  AANAT  ...   ZXDA   ZXDB   ZXDC    ZYX  ZZEF1   ZZZ3  \\\n",
       "TCGA-02-0001-01  7.236  3.474  ...  4.218  4.643  5.537  7.115  5.700  6.360   \n",
       "TCGA-02-0003-01  7.311  3.321  ...  3.777  4.008  6.327  6.888  5.446  7.456   \n",
       "TCGA-02-0007-01  7.424  3.719  ...  3.932  3.981  5.428  6.765  5.351  6.918   \n",
       "TCGA-02-0009-01  8.052  3.426  ...  4.281  4.362  5.307  7.484  5.152  7.114   \n",
       "TCGA-02-0010-01  8.435  3.472  ...  3.981  4.168  5.458  8.199  5.045  6.421   \n",
       "...                ...    ...  ...    ...    ...    ...    ...    ...    ...   \n",
       "TCGA-41-2573-01  8.105  3.466  ...  4.151  4.009  5.846  8.420  5.546  7.945   \n",
       "TCGA-41-2575-01  8.085  3.542  ...  4.364  4.058  6.305  7.439  5.585  8.421   \n",
       "TCGA-41-5651-01  8.167  3.368  ...  4.236  4.185  5.947  8.589  5.648  7.814   \n",
       "TCGA-76-4926-01  7.550  3.558  ...  4.169  4.380  5.410  9.884  5.572  6.827   \n",
       "TCGA-76-4928-01  7.533  3.534  ...  3.706  3.975  5.478  9.794  5.375  6.951   \n",
       "\n",
       "                 OS.time   OS  LHS  OS.months  \n",
       "TCGA-02-0001-01    358.0  1.0    0  11.933333  \n",
       "TCGA-02-0003-01    144.0  1.0    0   4.800000  \n",
       "TCGA-02-0007-01    705.0  1.0    1  23.500000  \n",
       "TCGA-02-0009-01    322.0  1.0    0  10.733333  \n",
       "TCGA-02-0010-01   1077.0  1.0    1  35.900000  \n",
       "...                  ...  ...  ...        ...  \n",
       "TCGA-41-2573-01    272.0  0.0    0   9.066667  \n",
       "TCGA-41-2575-01    290.0  1.0    0   9.666667  \n",
       "TCGA-41-5651-01    460.0  1.0    1  15.333333  \n",
       "TCGA-76-4926-01    138.0  1.0    0   4.600000  \n",
       "TCGA-76-4928-01     94.0  1.0    0   3.133333  \n",
       "\n",
       "[395 rows x 12044 columns]"
      ]
     },
     "execution_count": 33,
     "metadata": {},
     "output_type": "execute_result"
    }
   ],
   "source": [
    "# Remove patients that didn't receive radiation\n",
    "# Trim rows\n",
    "rt_full_df = full_df[full_df['received_rt'] != 0]\n",
    "\n",
    "# drop rt and other treatment columns\n",
    "rt_full_df = rt_full_df.drop(columns=['received_rt', 'received_chem', 'received_chemrt', 'treated'])\n",
    "rt_full_df"
   ]
  },
  {
   "cell_type": "markdown",
   "metadata": {},
   "source": [
    "#### Survival statistics in the entire database (minus patients missing data)"
   ]
  },
  {
   "cell_type": "code",
   "execution_count": 34,
   "metadata": {},
   "outputs": [
    {
     "name": "stdout",
     "output_type": "stream",
     "text": [
      "Median survival (months): 14.7\n"
     ]
    },
    {
     "data": {
      "text/plain": [
       "count     395.000000\n",
       "mean      595.729114\n",
       "std       568.007963\n",
       "min        20.000000\n",
       "25%       268.000000\n",
       "50%       441.000000\n",
       "75%       692.000000\n",
       "max      3881.000000\n",
       "Name: OS.time, dtype: float64"
      ]
     },
     "execution_count": 34,
     "metadata": {},
     "output_type": "execute_result"
    }
   ],
   "source": [
    "# Statistics\n",
    "rt_med_months = rt_full_df['OS.months'].median()\n",
    "print('Median survival (months):', rt_med_months)\n",
    "\n",
    "# How many are low/high?\n",
    "rt_low_high = rt_full_df['LHS'].value_counts()\n",
    "rt_low_high\n",
    "\n",
    "# summary for OS.time\n",
    "rt_os_sum = rt_full_df['OS.time'].describe()\n",
    "rt_os_sum\n",
    "\n",
    "# The groups are still pretty well balanced"
   ]
  },
  {
   "cell_type": "markdown",
   "metadata": {},
   "source": [
    "#### Plot of survival in the entire database (minus patients missing data)"
   ]
  },
  {
   "cell_type": "markdown",
   "metadata": {},
   "source": [
    "We don't plot Low/High survival because it doesn't truly represent survival in the tradiational way. It would be confusing to say that after 300 days, Patient X was classified as low survival, or after 1500 days, Patient Y was classified as high survival. This isn't a true \"event.\""
   ]
  },
  {
   "cell_type": "code",
   "execution_count": 35,
   "metadata": {},
   "outputs": [
    {
     "data": {
      "image/png": "[encoded data removed]",
      "text/plain": [
       "<Figure size 432x288 with 1 Axes>"
      ]
     },
     "metadata": {
      "needs_background": "light"
     },
     "output_type": "display_data"
    }
   ],
   "source": [
    "from lifelines import KaplanMeierFitter\n",
    "kmf = KaplanMeierFitter() \n",
    "\n",
    "rt_full_df['OS'] = rt_full_df['OS'].astype(float)\n",
    "rt_full_df['OS.time'] = rt_full_df['OS.time'].astype(float)\n",
    "\n",
    "durations = rt_full_df['OS.time'].tolist()\n",
    "event_observed = rt_full_df['OS'].tolist()\n",
    "\n",
    "kmf.fit(durations, event_observed,label='Kaplan Meier Estimate for the Survival Function')\n",
    "kmf.plot()\n",
    "plt.title('Overall Survival for Radiation Patients')\n",
    "plt.ylabel('Survival Probability')\n",
    "plt.xlabel('Days')\n",
    "plt.savefig('survival_rtpts.pdf', transparent=True)\n",
    "plt.savefig('survival_rtpts.png')"
   ]
  },
  {
   "cell_type": "markdown",
   "metadata": {},
   "source": [
    "#### Check distribution of genes"
   ]
  },
  {
   "cell_type": "code",
   "execution_count": 36,
   "metadata": {},
   "outputs": [
    {
     "data": {
      "image/png": "[encoded data removed]",
      "text/plain": [
       "<Figure size 432x288 with 1 Axes>"
      ]
     },
     "metadata": {
      "needs_background": "light"
     },
     "output_type": "display_data"
    }
   ],
   "source": [
    "# Histogram of three important genes with -RT patients removed\n",
    "histplot_rt = rt_full_df[['PTEN', 'IDH1', 'KRAS']].copy()\n",
    "ax = histplot_rt.plot.hist(bins=12, alpha=0.5, color=['c', 'y', 'm'])\n",
    "ax.set_xlabel('Log2_RMA')\n",
    "ax.set_title('Distribution of Cancer-Related Genes (Radiation Patients)')\n",
    "ax.set_xlabel('Log2_RMA')\n",
    "plt.savefig('genedist_rtpts.pdf', transparent=True)\n",
    "plt.savefig('genedist_rtpts.png')"
   ]
  },
  {
   "cell_type": "code",
   "execution_count": 37,
   "metadata": {},
   "outputs": [],
   "source": [
    "# Create new filtered y dataframe for OS time\n",
    "# Regression\n",
    "yr_df = [rt_full_df['OS.time']]\n",
    "yr_df = pd.DataFrame(yr_df)\n",
    "yr_df = yr_df.transpose()\n",
    "\n",
    "# create matrix\n",
    "yr = np.matrix(yr_df.to_numpy(dtype=float))"
   ]
  },
  {
   "cell_type": "code",
   "execution_count": 38,
   "metadata": {},
   "outputs": [],
   "source": [
    "# Create new filtered y dataframe for LHS\n",
    "# Classification\n",
    "yrc_df = [rt_full_df['LHS']]\n",
    "yrc_df = pd.DataFrame(yrc_df)\n",
    "yrc_df = yrc_df.transpose()\n",
    "\n",
    "# create matrix\n",
    "yrc = np.matrix(yrc_df.to_numpy(dtype=float))"
   ]
  },
  {
   "cell_type": "code",
   "execution_count": 39,
   "metadata": {},
   "outputs": [
    {
     "data": {
      "text/plain": [
       "matrix([[ 5.409, 10.28 ,  5.639, ...,  5.7  ,  6.36 ,  1.   ],\n",
       "        [ 4.972, 11.47 ,  5.276, ...,  5.446,  7.456,  1.   ],\n",
       "        [ 5.335,  4.291,  5.281, ...,  5.351,  6.918,  1.   ],\n",
       "        ...,\n",
       "        [ 8.167, 11.58 ,  5.233, ...,  5.648,  7.814,  1.   ],\n",
       "        [ 5.295, 10.65 ,  5.041, ...,  5.572,  6.827,  1.   ],\n",
       "        [ 5.618, 10.65 ,  5.314, ...,  5.375,  6.951,  1.   ]])"
      ]
     },
     "execution_count": 39,
     "metadata": {},
     "output_type": "execute_result"
    }
   ],
   "source": [
    "# Create new filtered X dataframe\n",
    "# Just drop OS\n",
    "Xr_df = rt_full_df.drop(['OS.time', 'LHS', 'OS.months'], axis=1)\n",
    "\n",
    "# create matrix\n",
    "Xr = np.matrix(Xr_df.to_numpy(dtype=float))\n",
    "Xr"
   ]
  },
  {
   "cell_type": "markdown",
   "metadata": {},
   "source": [
    "#### Split for validation (V2 treatments)"
   ]
  },
  {
   "cell_type": "markdown",
   "metadata": {},
   "source": [
    "##### Regression"
   ]
  },
  {
   "cell_type": "code",
   "execution_count": 40,
   "metadata": {},
   "outputs": [],
   "source": [
    "# Split training values for validation\n",
    "from sklearn.model_selection import train_test_split\n",
    "\n",
    "seed = 277\n",
    "test_size = 0.2\n",
    "Xr_train, Xr_test, yr_train, yr_test = train_test_split(Xr, yr, test_size=test_size, random_state=seed)"
   ]
  },
  {
   "cell_type": "markdown",
   "metadata": {},
   "source": [
    "##### Classification"
   ]
  },
  {
   "cell_type": "code",
   "execution_count": 41,
   "metadata": {},
   "outputs": [],
   "source": [
    "# Split training values for validation\n",
    "from sklearn.model_selection import train_test_split\n",
    "\n",
    "seed = 2771\n",
    "test_size = 0.2\n",
    "Xrc_train, Xrc_test, yrc_train, yrc_test = train_test_split(Xr, yrc, test_size=test_size, random_state=seed) #hiii"
   ]
  },
  {
   "cell_type": "markdown",
   "metadata": {},
   "source": [
    "#### Feature Selection (V2 treatments)"
   ]
  },
  {
   "cell_type": "markdown",
   "metadata": {},
   "source": [
    "##### Regression"
   ]
  },
  {
   "cell_type": "code",
   "execution_count": 42,
   "metadata": {},
   "outputs": [
    {
     "name": "stdout",
     "output_type": "stream",
     "text": [
      "['AEBP1', 'ARHGAP25', 'ATP2B1', 'ATP5C1', 'C13orf18', 'C1RL', 'CHL1', 'CUTL2', 'DHRS2', 'DIRAS3', 'DYNLT3', 'EFEMP2', 'FLJ11286', 'GFRA1', 'H2AFY2', 'MSN', 'MUC6', 'NSUN5', 'PLEKHQ1', 'RAC3', 'SERPING1', 'SLC24A6', 'SLC2A10', 'STEAP3', 'SWAP70']\n",
      "(316, 25)\n"
     ]
    }
   ],
   "source": [
    "from sklearn.feature_selection import SelectKBest, f_regression\n",
    "Xr_news = SelectKBest(f_regression, k=25).fit(Xr_train, yr_train)\n",
    "Xr_train2 = Xr_news.transform(Xr_train)\n",
    "\n",
    "kbestr = list(rt_full_df.columns[:-3][Xr_news._get_support_mask()])\n",
    "kbestr_scores = list(Xr_news.scores_)\n",
    "print(kbestr)\n",
    "print(np.shape(Xr_train2))"
   ]
  },
  {
   "cell_type": "markdown",
   "metadata": {},
   "source": [
    "##### Classification"
   ]
  },
  {
   "cell_type": "code",
   "execution_count": 43,
   "metadata": {},
   "outputs": [
    {
     "name": "stdout",
     "output_type": "stream",
     "text": [
      "['APOBEC3C', 'C13orf18', 'CLEC5A', 'CNIH3', 'DPM3', 'EFEMP2', 'F3', 'H2AFY2', 'HBEGF', 'HIST1H1E', 'HRASLS3', 'IGFALS', 'MAP2K7', 'MICALL2', 'NHLH2', 'NSUN5', 'PARP3', 'PCYT1A', 'RAB36', 'RNF128', 'RPS10', 'RPS21', 'SWAP70', 'TCAP', 'ZG16']\n",
      "(316, 25)\n"
     ]
    }
   ],
   "source": [
    "from sklearn.feature_selection import SelectKBest, f_classif\n",
    "Xrc_news = SelectKBest(f_classif, k=25).fit(Xrc_train, yrc_train)\n",
    "Xrc_train2 = Xrc_news.transform(Xrc_train)\n",
    "\n",
    "kbestrc = list(rt_full_df.columns[:-3][Xrc_news._get_support_mask()])\n",
    "kbestrc_scores = list(Xrc_news.scores_)\n",
    "print(kbestrc)\n",
    "print(np.shape(Xrc_train2))"
   ]
  },
  {
   "cell_type": "markdown",
   "metadata": {},
   "source": [
    "#### Chosen features for full_df and rt_full_df based on kbest"
   ]
  },
  {
   "cell_type": "code",
   "execution_count": 44,
   "metadata": {},
   "outputs": [
    {
     "data": {
      "text/html": [
       "<div>\n",
       "<style scoped>\n",
       "    .dataframe tbody tr th:only-of-type {\n",
       "        vertical-align: middle;\n",
       "    }\n",
       "\n",
       "    .dataframe tbody tr th {\n",
       "        vertical-align: top;\n",
       "    }\n",
       "\n",
       "    .dataframe thead th {\n",
       "        text-align: right;\n",
       "    }\n",
       "</style>\n",
       "<table border=\"1\" class=\"dataframe\">\n",
       "  <thead>\n",
       "    <tr style=\"text-align: right;\">\n",
       "      <th></th>\n",
       "      <th>All Patients + Treatments (regression)</th>\n",
       "      <th>All Patients + Treatments (regression) kscores</th>\n",
       "      <th>All Patients + Treatments (classifier)</th>\n",
       "      <th>All Patients + Treatments (classifier) kscores</th>\n",
       "      <th>Radiation Patients Only (regression)</th>\n",
       "      <th>Radiation Patients Only (regression) kscores</th>\n",
       "      <th>Radiation Patients Only (classifier)</th>\n",
       "      <th>Radiation Patients Only (classifier) kscores</th>\n",
       "    </tr>\n",
       "  </thead>\n",
       "  <tbody>\n",
       "    <tr>\n",
       "      <th>0</th>\n",
       "      <td>ABBA-1</td>\n",
       "      <td>3.232091</td>\n",
       "      <td>BDH1</td>\n",
       "      <td>1.010582</td>\n",
       "      <td>AEBP1</td>\n",
       "      <td>0.055992</td>\n",
       "      <td>APOBEC3C</td>\n",
       "      <td>0.268355</td>\n",
       "    </tr>\n",
       "    <tr>\n",
       "      <th>1</th>\n",
       "      <td>ATP5C1</td>\n",
       "      <td>4.737901</td>\n",
       "      <td>CCNF</td>\n",
       "      <td>2.096270</td>\n",
       "      <td>ARHGAP25</td>\n",
       "      <td>5.157783</td>\n",
       "      <td>C13orf18</td>\n",
       "      <td>3.478777</td>\n",
       "    </tr>\n",
       "    <tr>\n",
       "      <th>2</th>\n",
       "      <td>CBR1</td>\n",
       "      <td>2.257062</td>\n",
       "      <td>CLEC5A</td>\n",
       "      <td>4.366134</td>\n",
       "      <td>ATP2B1</td>\n",
       "      <td>0.023818</td>\n",
       "      <td>CLEC5A</td>\n",
       "      <td>0.463086</td>\n",
       "    </tr>\n",
       "    <tr>\n",
       "      <th>3</th>\n",
       "      <td>CHI3L1</td>\n",
       "      <td>4.476245</td>\n",
       "      <td>EFEMP2</td>\n",
       "      <td>0.015213</td>\n",
       "      <td>ATP5C1</td>\n",
       "      <td>5.827559</td>\n",
       "      <td>CNIH3</td>\n",
       "      <td>1.056562</td>\n",
       "    </tr>\n",
       "    <tr>\n",
       "      <th>4</th>\n",
       "      <td>CHL1</td>\n",
       "      <td>0.753594</td>\n",
       "      <td>EIF3E</td>\n",
       "      <td>2.410105</td>\n",
       "      <td>C13orf18</td>\n",
       "      <td>0.055631</td>\n",
       "      <td>DPM3</td>\n",
       "      <td>0.083780</td>\n",
       "    </tr>\n",
       "    <tr>\n",
       "      <th>5</th>\n",
       "      <td>DCTD</td>\n",
       "      <td>1.459525</td>\n",
       "      <td>FAM60A</td>\n",
       "      <td>0.184714</td>\n",
       "      <td>C1RL</td>\n",
       "      <td>1.497333</td>\n",
       "      <td>EFEMP2</td>\n",
       "      <td>1.090085</td>\n",
       "    </tr>\n",
       "    <tr>\n",
       "      <th>6</th>\n",
       "      <td>DHRS2</td>\n",
       "      <td>0.338829</td>\n",
       "      <td>FBXO17</td>\n",
       "      <td>0.932228</td>\n",
       "      <td>CHL1</td>\n",
       "      <td>0.020639</td>\n",
       "      <td>F3</td>\n",
       "      <td>1.588443</td>\n",
       "    </tr>\n",
       "    <tr>\n",
       "      <th>7</th>\n",
       "      <td>DIRAS3</td>\n",
       "      <td>0.035422</td>\n",
       "      <td>G0S2</td>\n",
       "      <td>0.409622</td>\n",
       "      <td>CUTL2</td>\n",
       "      <td>1.204316</td>\n",
       "      <td>H2AFY2</td>\n",
       "      <td>0.186204</td>\n",
       "    </tr>\n",
       "    <tr>\n",
       "      <th>8</th>\n",
       "      <td>DYNLT3</td>\n",
       "      <td>0.049937</td>\n",
       "      <td>H2AFY2</td>\n",
       "      <td>0.300317</td>\n",
       "      <td>DHRS2</td>\n",
       "      <td>0.036095</td>\n",
       "      <td>HBEGF</td>\n",
       "      <td>0.010008</td>\n",
       "    </tr>\n",
       "    <tr>\n",
       "      <th>9</th>\n",
       "      <td>EFEMP2</td>\n",
       "      <td>0.470479</td>\n",
       "      <td>IQCG</td>\n",
       "      <td>1.339836</td>\n",
       "      <td>DIRAS3</td>\n",
       "      <td>0.097804</td>\n",
       "      <td>HIST1H1E</td>\n",
       "      <td>2.213716</td>\n",
       "    </tr>\n",
       "    <tr>\n",
       "      <th>10</th>\n",
       "      <td>GPRASP1</td>\n",
       "      <td>0.116800</td>\n",
       "      <td>LDB1</td>\n",
       "      <td>0.316796</td>\n",
       "      <td>DYNLT3</td>\n",
       "      <td>0.662428</td>\n",
       "      <td>HRASLS3</td>\n",
       "      <td>0.323659</td>\n",
       "    </tr>\n",
       "    <tr>\n",
       "      <th>11</th>\n",
       "      <td>HCRTR2</td>\n",
       "      <td>0.028704</td>\n",
       "      <td>MAPK8</td>\n",
       "      <td>0.075927</td>\n",
       "      <td>EFEMP2</td>\n",
       "      <td>0.107116</td>\n",
       "      <td>IGFALS</td>\n",
       "      <td>0.462477</td>\n",
       "    </tr>\n",
       "    <tr>\n",
       "      <th>12</th>\n",
       "      <td>IQCG</td>\n",
       "      <td>0.220581</td>\n",
       "      <td>MOSC2</td>\n",
       "      <td>2.849863</td>\n",
       "      <td>FLJ11286</td>\n",
       "      <td>0.267130</td>\n",
       "      <td>MAP2K7</td>\n",
       "      <td>0.840360</td>\n",
       "    </tr>\n",
       "    <tr>\n",
       "      <th>13</th>\n",
       "      <td>KIAA0495</td>\n",
       "      <td>0.514068</td>\n",
       "      <td>NELL1</td>\n",
       "      <td>0.239322</td>\n",
       "      <td>GFRA1</td>\n",
       "      <td>0.923261</td>\n",
       "      <td>MICALL2</td>\n",
       "      <td>1.393518</td>\n",
       "    </tr>\n",
       "    <tr>\n",
       "      <th>14</th>\n",
       "      <td>MLNR</td>\n",
       "      <td>0.200327</td>\n",
       "      <td>NSUN5</td>\n",
       "      <td>1.571667</td>\n",
       "      <td>H2AFY2</td>\n",
       "      <td>0.003418</td>\n",
       "      <td>NHLH2</td>\n",
       "      <td>0.282087</td>\n",
       "    </tr>\n",
       "    <tr>\n",
       "      <th>15</th>\n",
       "      <td>MSN</td>\n",
       "      <td>0.286094</td>\n",
       "      <td>PCBP3</td>\n",
       "      <td>0.086357</td>\n",
       "      <td>MSN</td>\n",
       "      <td>2.328055</td>\n",
       "      <td>NSUN5</td>\n",
       "      <td>0.001558</td>\n",
       "    </tr>\n",
       "    <tr>\n",
       "      <th>16</th>\n",
       "      <td>NSUN5</td>\n",
       "      <td>1.549148</td>\n",
       "      <td>PHF16</td>\n",
       "      <td>0.026595</td>\n",
       "      <td>MUC6</td>\n",
       "      <td>1.189910</td>\n",
       "      <td>PARP3</td>\n",
       "      <td>0.198513</td>\n",
       "    </tr>\n",
       "    <tr>\n",
       "      <th>17</th>\n",
       "      <td>PDPN</td>\n",
       "      <td>27.308307</td>\n",
       "      <td>RANBP17</td>\n",
       "      <td>6.859012</td>\n",
       "      <td>NSUN5</td>\n",
       "      <td>7.772402</td>\n",
       "      <td>PCYT1A</td>\n",
       "      <td>4.541405</td>\n",
       "    </tr>\n",
       "    <tr>\n",
       "      <th>18</th>\n",
       "      <td>PRM2</td>\n",
       "      <td>13.075513</td>\n",
       "      <td>SLC25A20</td>\n",
       "      <td>4.897348</td>\n",
       "      <td>PLEKHQ1</td>\n",
       "      <td>6.271138</td>\n",
       "      <td>RAB36</td>\n",
       "      <td>5.339137</td>\n",
       "    </tr>\n",
       "    <tr>\n",
       "      <th>19</th>\n",
       "      <td>RAC3</td>\n",
       "      <td>1.586983</td>\n",
       "      <td>SUSD5</td>\n",
       "      <td>2.183028</td>\n",
       "      <td>RAC3</td>\n",
       "      <td>0.743360</td>\n",
       "      <td>RNF128</td>\n",
       "      <td>3.788189</td>\n",
       "    </tr>\n",
       "    <tr>\n",
       "      <th>20</th>\n",
       "      <td>SHANK1</td>\n",
       "      <td>1.675843</td>\n",
       "      <td>TMEM22</td>\n",
       "      <td>0.500151</td>\n",
       "      <td>SERPING1</td>\n",
       "      <td>0.050704</td>\n",
       "      <td>RPS10</td>\n",
       "      <td>0.165622</td>\n",
       "    </tr>\n",
       "    <tr>\n",
       "      <th>21</th>\n",
       "      <td>SLC25A20</td>\n",
       "      <td>0.145897</td>\n",
       "      <td>TXNRD2</td>\n",
       "      <td>0.078514</td>\n",
       "      <td>SLC24A6</td>\n",
       "      <td>0.291623</td>\n",
       "      <td>RPS21</td>\n",
       "      <td>1.601696</td>\n",
       "    </tr>\n",
       "    <tr>\n",
       "      <th>22</th>\n",
       "      <td>SLC4A3</td>\n",
       "      <td>0.186002</td>\n",
       "      <td>ZNF208</td>\n",
       "      <td>1.319777</td>\n",
       "      <td>SLC2A10</td>\n",
       "      <td>0.177744</td>\n",
       "      <td>SWAP70</td>\n",
       "      <td>0.825714</td>\n",
       "    </tr>\n",
       "    <tr>\n",
       "      <th>23</th>\n",
       "      <td>TPPP3</td>\n",
       "      <td>9.380657</td>\n",
       "      <td>received_rt</td>\n",
       "      <td>3.285331</td>\n",
       "      <td>STEAP3</td>\n",
       "      <td>6.443877</td>\n",
       "      <td>TCAP</td>\n",
       "      <td>0.876230</td>\n",
       "    </tr>\n",
       "    <tr>\n",
       "      <th>24</th>\n",
       "      <td>received_rt</td>\n",
       "      <td>2.679118</td>\n",
       "      <td>received_chem</td>\n",
       "      <td>2.609195</td>\n",
       "      <td>SWAP70</td>\n",
       "      <td>1.646140</td>\n",
       "      <td>ZG16</td>\n",
       "      <td>2.276110</td>\n",
       "    </tr>\n",
       "  </tbody>\n",
       "</table>\n",
       "</div>"
      ],
      "text/plain": [
       "   All Patients + Treatments (regression)  \\\n",
       "0                                  ABBA-1   \n",
       "1                                  ATP5C1   \n",
       "2                                    CBR1   \n",
       "3                                  CHI3L1   \n",
       "4                                    CHL1   \n",
       "5                                    DCTD   \n",
       "6                                   DHRS2   \n",
       "7                                  DIRAS3   \n",
       "8                                  DYNLT3   \n",
       "9                                  EFEMP2   \n",
       "10                                GPRASP1   \n",
       "11                                 HCRTR2   \n",
       "12                                   IQCG   \n",
       "13                               KIAA0495   \n",
       "14                                   MLNR   \n",
       "15                                    MSN   \n",
       "16                                  NSUN5   \n",
       "17                                   PDPN   \n",
       "18                                   PRM2   \n",
       "19                                   RAC3   \n",
       "20                                 SHANK1   \n",
       "21                               SLC25A20   \n",
       "22                                 SLC4A3   \n",
       "23                                  TPPP3   \n",
       "24                            received_rt   \n",
       "\n",
       "    All Patients + Treatments (regression) kscores  \\\n",
       "0                                         3.232091   \n",
       "1                                         4.737901   \n",
       "2                                         2.257062   \n",
       "3                                         4.476245   \n",
       "4                                         0.753594   \n",
       "5                                         1.459525   \n",
       "6                                         0.338829   \n",
       "7                                         0.035422   \n",
       "8                                         0.049937   \n",
       "9                                         0.470479   \n",
       "10                                        0.116800   \n",
       "11                                        0.028704   \n",
       "12                                        0.220581   \n",
       "13                                        0.514068   \n",
       "14                                        0.200327   \n",
       "15                                        0.286094   \n",
       "16                                        1.549148   \n",
       "17                                       27.308307   \n",
       "18                                       13.075513   \n",
       "19                                        1.586983   \n",
       "20                                        1.675843   \n",
       "21                                        0.145897   \n",
       "22                                        0.186002   \n",
       "23                                        9.380657   \n",
       "24                                        2.679118   \n",
       "\n",
       "   All Patients + Treatments (classifier)  \\\n",
       "0                                    BDH1   \n",
       "1                                    CCNF   \n",
       "2                                  CLEC5A   \n",
       "3                                  EFEMP2   \n",
       "4                                   EIF3E   \n",
       "5                                  FAM60A   \n",
       "6                                  FBXO17   \n",
       "7                                    G0S2   \n",
       "8                                  H2AFY2   \n",
       "9                                    IQCG   \n",
       "10                                   LDB1   \n",
       "11                                  MAPK8   \n",
       "12                                  MOSC2   \n",
       "13                                  NELL1   \n",
       "14                                  NSUN5   \n",
       "15                                  PCBP3   \n",
       "16                                  PHF16   \n",
       "17                                RANBP17   \n",
       "18                               SLC25A20   \n",
       "19                                  SUSD5   \n",
       "20                                 TMEM22   \n",
       "21                                 TXNRD2   \n",
       "22                                 ZNF208   \n",
       "23                            received_rt   \n",
       "24                          received_chem   \n",
       "\n",
       "    All Patients + Treatments (classifier) kscores  \\\n",
       "0                                         1.010582   \n",
       "1                                         2.096270   \n",
       "2                                         4.366134   \n",
       "3                                         0.015213   \n",
       "4                                         2.410105   \n",
       "5                                         0.184714   \n",
       "6                                         0.932228   \n",
       "7                                         0.409622   \n",
       "8                                         0.300317   \n",
       "9                                         1.339836   \n",
       "10                                        0.316796   \n",
       "11                                        0.075927   \n",
       "12                                        2.849863   \n",
       "13                                        0.239322   \n",
       "14                                        1.571667   \n",
       "15                                        0.086357   \n",
       "16                                        0.026595   \n",
       "17                                        6.859012   \n",
       "18                                        4.897348   \n",
       "19                                        2.183028   \n",
       "20                                        0.500151   \n",
       "21                                        0.078514   \n",
       "22                                        1.319777   \n",
       "23                                        3.285331   \n",
       "24                                        2.609195   \n",
       "\n",
       "   Radiation Patients Only (regression)  \\\n",
       "0                                 AEBP1   \n",
       "1                              ARHGAP25   \n",
       "2                                ATP2B1   \n",
       "3                                ATP5C1   \n",
       "4                              C13orf18   \n",
       "5                                  C1RL   \n",
       "6                                  CHL1   \n",
       "7                                 CUTL2   \n",
       "8                                 DHRS2   \n",
       "9                                DIRAS3   \n",
       "10                               DYNLT3   \n",
       "11                               EFEMP2   \n",
       "12                             FLJ11286   \n",
       "13                                GFRA1   \n",
       "14                               H2AFY2   \n",
       "15                                  MSN   \n",
       "16                                 MUC6   \n",
       "17                                NSUN5   \n",
       "18                              PLEKHQ1   \n",
       "19                                 RAC3   \n",
       "20                             SERPING1   \n",
       "21                              SLC24A6   \n",
       "22                              SLC2A10   \n",
       "23                               STEAP3   \n",
       "24                               SWAP70   \n",
       "\n",
       "    Radiation Patients Only (regression) kscores  \\\n",
       "0                                       0.055992   \n",
       "1                                       5.157783   \n",
       "2                                       0.023818   \n",
       "3                                       5.827559   \n",
       "4                                       0.055631   \n",
       "5                                       1.497333   \n",
       "6                                       0.020639   \n",
       "7                                       1.204316   \n",
       "8                                       0.036095   \n",
       "9                                       0.097804   \n",
       "10                                      0.662428   \n",
       "11                                      0.107116   \n",
       "12                                      0.267130   \n",
       "13                                      0.923261   \n",
       "14                                      0.003418   \n",
       "15                                      2.328055   \n",
       "16                                      1.189910   \n",
       "17                                      7.772402   \n",
       "18                                      6.271138   \n",
       "19                                      0.743360   \n",
       "20                                      0.050704   \n",
       "21                                      0.291623   \n",
       "22                                      0.177744   \n",
       "23                                      6.443877   \n",
       "24                                      1.646140   \n",
       "\n",
       "   Radiation Patients Only (classifier)  \\\n",
       "0                              APOBEC3C   \n",
       "1                              C13orf18   \n",
       "2                                CLEC5A   \n",
       "3                                 CNIH3   \n",
       "4                                  DPM3   \n",
       "5                                EFEMP2   \n",
       "6                                    F3   \n",
       "7                                H2AFY2   \n",
       "8                                 HBEGF   \n",
       "9                              HIST1H1E   \n",
       "10                              HRASLS3   \n",
       "11                               IGFALS   \n",
       "12                               MAP2K7   \n",
       "13                              MICALL2   \n",
       "14                                NHLH2   \n",
       "15                                NSUN5   \n",
       "16                                PARP3   \n",
       "17                               PCYT1A   \n",
       "18                                RAB36   \n",
       "19                               RNF128   \n",
       "20                                RPS10   \n",
       "21                                RPS21   \n",
       "22                               SWAP70   \n",
       "23                                 TCAP   \n",
       "24                                 ZG16   \n",
       "\n",
       "    Radiation Patients Only (classifier) kscores  \n",
       "0                                       0.268355  \n",
       "1                                       3.478777  \n",
       "2                                       0.463086  \n",
       "3                                       1.056562  \n",
       "4                                       0.083780  \n",
       "5                                       1.090085  \n",
       "6                                       1.588443  \n",
       "7                                       0.186204  \n",
       "8                                       0.010008  \n",
       "9                                       2.213716  \n",
       "10                                      0.323659  \n",
       "11                                      0.462477  \n",
       "12                                      0.840360  \n",
       "13                                      1.393518  \n",
       "14                                      0.282087  \n",
       "15                                      0.001558  \n",
       "16                                      0.198513  \n",
       "17                                      4.541405  \n",
       "18                                      5.339137  \n",
       "19                                      3.788189  \n",
       "20                                      0.165622  \n",
       "21                                      1.601696  \n",
       "22                                      0.825714  \n",
       "23                                      0.876230  \n",
       "24                                      2.276110  "
      ]
     },
     "execution_count": 44,
     "metadata": {},
     "output_type": "execute_result"
    }
   ],
   "source": [
    "model_selected_feats = pd.DataFrame(list(zip(kbest, kbest_scores, kbestc, kbestc_scores, kbestr, \n",
    "                                             kbestr_scores, kbestrc, kbestrc_scores)), \n",
    "                                    columns =['All Patients + Treatments (regression)', \n",
    "                                              'All Patients + Treatments (regression) kscores', \n",
    "                                              'All Patients + Treatments (classifier)',\n",
    "                                              'All Patients + Treatments (classifier) kscores',\n",
    "                                              'Radiation Patients Only (regression)',\n",
    "                                              'Radiation Patients Only (regression) kscores',\n",
    "                                              'Radiation Patients Only (classifier)',\n",
    "                                              'Radiation Patients Only (classifier) kscores'])\n",
    "model_selected_feats.to_csv('model_selected_feats.csv')\n",
    "model_selected_feats"
   ]
  },
  {
   "cell_type": "code",
   "execution_count": 45,
   "metadata": {},
   "outputs": [
    {
     "data": {
      "image/png": "[encoded data removed]",
      "text/plain": [
       "<Figure size 288x360 with 1 Axes>"
      ]
     },
     "metadata": {
      "needs_background": "light"
     },
     "output_type": "display_data"
    },
    {
     "data": {
      "image/png": "[encoded data removed]",
      "text/plain": [
       "<Figure size 288x360 with 1 Axes>"
      ]
     },
     "metadata": {
      "needs_background": "light"
     },
     "output_type": "display_data"
    },
    {
     "data": {
      "image/png": "[encoded data removed]",
      "text/plain": [
       "<Figure size 288x360 with 1 Axes>"
      ]
     },
     "metadata": {
      "needs_background": "light"
     },
     "output_type": "display_data"
    },
    {
     "data": {
      "image/png": "[encoded data removed]",
      "text/plain": [
       "<Figure size 288x360 with 1 Axes>"
      ]
     },
     "metadata": {
      "needs_background": "light"
     },
     "output_type": "display_data"
    }
   ],
   "source": [
    "msf1 = model_selected_feats.copy()\n",
    "msf1 = msf1.sort_values('All Patients + Treatments (regression) kscores')\n",
    "figsize=(4,5)\n",
    "ax = msf1.plot.barh(x='All Patients + Treatments (regression)', \n",
    "                               y='All Patients + Treatments (regression) kscores', \n",
    "                               figsize=figsize, legend=False, color=['g'])\n",
    "ax.set_title('All Patients Feature Selection (regression)')\n",
    "plt.xlabel(\"k score\")\n",
    "plt.ylabel(\"Feature\")\n",
    "plt.savefig('fig_allpts_regk.png', bbox_inches = \"tight\")\n",
    "\n",
    "\n",
    "msf2 = model_selected_feats.copy()\n",
    "msf2 = msf2.sort_values('All Patients + Treatments (classifier) kscores')\n",
    "figsize=(4,5)\n",
    "ax = msf2.plot.barh(x='All Patients + Treatments (classifier)', \n",
    "                               y='All Patients + Treatments (classifier) kscores', \n",
    "                               figsize=figsize, legend=False, color=['g'])\n",
    "ax.set_title('All Patients Feature Selection (classifier)')\n",
    "plt.xlabel(\"k score\")\n",
    "plt.ylabel(\"Feature\")\n",
    "plt.savefig('fig_allpts_classk.png', bbox_inches = \"tight\")\n",
    "\n",
    "\n",
    "msf3 = model_selected_feats.copy()\n",
    "msf3 = msf3.sort_values('Radiation Patients Only (regression) kscores')\n",
    "figsize=(4,5)\n",
    "ax = msf3.plot.barh(x='Radiation Patients Only (regression)', \n",
    "                               y='Radiation Patients Only (regression) kscores', \n",
    "                               figsize=figsize, legend=False)\n",
    "ax.set_title('Radiation Patients Feature Selection (regression)')\n",
    "plt.xlabel(\"k score\")\n",
    "plt.ylabel(\"Feature\")\n",
    "plt.savefig('fig_rtpts_regk.png', bbox_inches = \"tight\")\n",
    "\n",
    "\n",
    "msf4 = model_selected_feats.copy()\n",
    "msf4 = msf4.sort_values('Radiation Patients Only (classifier) kscores')\n",
    "figsize=(4,5)\n",
    "ax = msf4.plot.barh(x='Radiation Patients Only (classifier)', \n",
    "                               y='Radiation Patients Only (classifier) kscores', \n",
    "                               figsize=figsize, legend=False)\n",
    "ax.set_title('Radiation Patients Feature Selection (classifier)')\n",
    "plt.xlabel(\"k score\")\n",
    "plt.ylabel(\"Feature\")\n",
    "plt.savefig('fig_rtpts_classk.png', bbox_inches = \"tight\")"
   ]
  },
  {
   "cell_type": "markdown",
   "metadata": {},
   "source": [
    "#### Highest Scores:\n",
    "\n",
    "Patients/Regression: PDPN  \n",
    "PAtients/Class: PANBP17   \n",
    "Radiation/Regression: NSUN5   \n",
    "Radiation/Class: RAB36   "
   ]
  },
  {
   "cell_type": "markdown",
   "metadata": {},
   "source": [
    "## Look at some of the genes used in the models"
   ]
  },
  {
   "cell_type": "markdown",
   "metadata": {},
   "source": [
    "### Radiation"
   ]
  },
  {
   "cell_type": "code",
   "execution_count": 46,
   "metadata": {},
   "outputs": [
    {
     "data": {
      "image/png": "[encoded data removed]",
      "text/plain": [
       "<Figure size 432x288 with 1 Axes>"
      ]
     },
     "metadata": {
      "needs_background": "light"
     },
     "output_type": "display_data"
    }
   ],
   "source": [
    "# Histogram of three important genes with -RT patients removed\n",
    "val_rt = rt_full_df[['NSUN5', 'RAB36']].copy()\n",
    "ax = val_rt.plot.hist(bins=12, alpha=0.5, color=['c', 'm'])\n",
    "ax.set_xlabel('Log2_RMA')\n",
    "ax.set_title('Distribution of Genes Used in Radiation Models (High k Scores)')\n",
    "ax.set_xlabel('Log2_RMA')\n",
    "plt.savefig('genes_reg_highk.pdf', transparent=True)"
   ]
  },
  {
   "cell_type": "code",
   "execution_count": 47,
   "metadata": {},
   "outputs": [
    {
     "name": "stdout",
     "output_type": "stream",
     "text": [
      "7.204\n",
      "5.158\n"
     ]
    }
   ],
   "source": [
    "# Statistics for NSUN5\n",
    "nsun5_med = val_rt['NSUN5'].median()\n",
    "print(nsun5_med)\n",
    "\n",
    "# Statistics for RAB36\n",
    "rab36_med = val_rt['RAB36'].median()\n",
    "print(rab36_med)"
   ]
  },
  {
   "cell_type": "code",
   "execution_count": 48,
   "metadata": {},
   "outputs": [],
   "source": [
    "# NSUN5 low/high expression, based on median expression level\n",
    "val_rt['NSUN5_LHE'] = np.where(val_rt['NSUN5']>=nsun5_med, 1, 0)\n",
    "\n",
    "# RAB36 low/high expression, based on median expression level\n",
    "val_rt['RAB36_LHE'] = np.where(val_rt['RAB36']>=rab36_med, 1, 0)"
   ]
  },
  {
   "cell_type": "code",
   "execution_count": 49,
   "metadata": {},
   "outputs": [],
   "source": [
    "# Add OS\n",
    "expression_os = val_rt.merge(rt_full_df, how='inner', left_index=True, right_index=True)\n",
    "expression_os = expression_os[['NSUN5_LHE', 'RAB36_LHE', 'OS', 'OS.time']].copy()\n",
    "\n",
    "# NSUN5 high/low\n",
    "nsun5_high = expression_os[expression_os['NSUN5_LHE'] == 1]\n",
    "nsun5_low = expression_os[expression_os['NSUN5_LHE'] == 0]\n",
    "\n",
    "#RAB36 high/low\n",
    "rab36_high = expression_os[expression_os['RAB36_LHE'] == 1]\n",
    "rab36_low = expression_os[expression_os['RAB36_LHE'] == 0]"
   ]
  },
  {
   "cell_type": "code",
   "execution_count": 50,
   "metadata": {},
   "outputs": [
    {
     "data": {
      "image/png": "[encoded data removed]",
      "text/plain": [
       "<Figure size 432x288 with 1 Axes>"
      ]
     },
     "metadata": {
      "needs_background": "light"
     },
     "output_type": "display_data"
    }
   ],
   "source": [
    "# Kaplan Meier NSUN5\n",
    "kmf_low = KaplanMeierFitter() \n",
    "kmf_high = KaplanMeierFitter() \n",
    "\n",
    "durations1 = nsun5_low['OS.time'].astype(float).tolist()\n",
    "event1 = nsun5_low['OS'].astype(float).tolist()\n",
    "durations2 = nsun5_high['OS.time'].astype(float).tolist()\n",
    "event2 = nsun5_high['OS'].astype(float).tolist()\n",
    "\n",
    "kmf_low.fit(durations=durations1, event_observed=event1, label='Low NSUN5')\n",
    "kmf_high.fit(durations=durations2, event_observed=event2, label='High NSUN5')\n",
    "\n",
    "kmf_low.plot(ci_show = False)\n",
    "kmf_high.plot(ci_show = False)\n",
    "\n",
    "plt.title('Overall Survival by Expression of NSUN5')\n",
    "plt.ylabel('Survival Probability')\n",
    "plt.savefig('survival_nsun5.pdf', transparent=True)"
   ]
  },
  {
   "cell_type": "code",
   "execution_count": 51,
   "metadata": {},
   "outputs": [
    {
     "data": {
      "image/png": "[encoded data removed]",
      "text/plain": [
       "<Figure size 432x288 with 1 Axes>"
      ]
     },
     "metadata": {
      "needs_background": "light"
     },
     "output_type": "display_data"
    }
   ],
   "source": [
    "# Kaplan Meier RAB36\n",
    "kmf_low = KaplanMeierFitter() \n",
    "kmf_high = KaplanMeierFitter() \n",
    "\n",
    "durations1 = rab36_low['OS.time'].astype(float).tolist()\n",
    "event1 = rab36_low['OS'].astype(float).tolist()\n",
    "durations2 = rab36_high['OS.time'].astype(float).tolist()\n",
    "event2 = rab36_high['OS'].astype(float).tolist()\n",
    "\n",
    "kmf_low.fit(durations=durations1, event_observed=event1, label='Low RAB36')\n",
    "kmf_high.fit(durations=durations2, event_observed=event2, label='High RAB36')\n",
    "\n",
    "kmf_low.plot(ci_show = False)\n",
    "kmf_high.plot(ci_show = False)\n",
    "\n",
    "plt.title('Overall Survival by Expression of RAB36')\n",
    "plt.ylabel('Survival Probability')\n",
    "plt.savefig('survival_nsun5.pdf', transparent=True)"
   ]
  },
  {
   "cell_type": "markdown",
   "metadata": {},
   "source": [
    "### All Patients"
   ]
  },
  {
   "cell_type": "markdown",
   "metadata": {},
   "source": [
    "#### Summary of Survival data for all data splits"
   ]
  },
  {
   "cell_type": "markdown",
   "metadata": {},
   "source": [
    "Original data: data derived from TCGA    \n",
    "Treatment dataset for model: Original data + treatment/gene features - patients missing treatment/gene data    \n",
    "Radiation dataset for model: Original data + gene features - patients without radiation/gene data"
   ]
  },
  {
   "cell_type": "code",
   "execution_count": 52,
   "metadata": {},
   "outputs": [
    {
     "data": {
      "text/html": [
       "<div>\n",
       "<style scoped>\n",
       "    .dataframe tbody tr th:only-of-type {\n",
       "        vertical-align: middle;\n",
       "    }\n",
       "\n",
       "    .dataframe tbody tr th {\n",
       "        vertical-align: top;\n",
       "    }\n",
       "\n",
       "    .dataframe thead th {\n",
       "        text-align: right;\n",
       "    }\n",
       "</style>\n",
       "<table border=\"1\" class=\"dataframe\">\n",
       "  <thead>\n",
       "    <tr style=\"text-align: right;\">\n",
       "      <th></th>\n",
       "      <th>Low Survival (Classified as 0)</th>\n",
       "      <th>High Survival (Classified as 1)</th>\n",
       "      <th>Median Survival (months)</th>\n",
       "    </tr>\n",
       "  </thead>\n",
       "  <tbody>\n",
       "    <tr>\n",
       "      <th>Original</th>\n",
       "      <td>361</td>\n",
       "      <td>241</td>\n",
       "      <td>12.333333</td>\n",
       "    </tr>\n",
       "    <tr>\n",
       "      <th>All Treatments</th>\n",
       "      <td>306</td>\n",
       "      <td>212</td>\n",
       "      <td>12.583333</td>\n",
       "    </tr>\n",
       "    <tr>\n",
       "      <th>Radiation Only</th>\n",
       "      <td>203</td>\n",
       "      <td>192</td>\n",
       "      <td>14.700000</td>\n",
       "    </tr>\n",
       "  </tbody>\n",
       "</table>\n",
       "</div>"
      ],
      "text/plain": [
       "                Low Survival (Classified as 0)  \\\n",
       "Original                                   361   \n",
       "All Treatments                             306   \n",
       "Radiation Only                             203   \n",
       "\n",
       "                High Survival (Classified as 1)  Median Survival (months)  \n",
       "Original                                    241                 12.333333  \n",
       "All Treatments                              212                 12.583333  \n",
       "Radiation Only                              192                 14.700000  "
      ]
     },
     "execution_count": 52,
     "metadata": {},
     "output_type": "execute_result"
    }
   ],
   "source": [
    "# Classification stats\n",
    "survival = [original_med_months, full_med_months, rt_med_months]\n",
    "class_stats = pd.DataFrame(list(zip(original_low_high, full_low_high, rt_low_high)), \n",
    "                       columns = ['Original', 'All Treatments', 'Radiation Only'], \n",
    "                       index=['Low Survival (Classified as 0)', 'High Survival (Classified as 1)'])\n",
    "class_stats = class_stats.transpose()\n",
    "class_stats['Median Survival (months)'] = survival\n",
    "class_stats.to_csv('class_stats.csv')\n",
    "class_stats"
   ]
  },
  {
   "cell_type": "code",
   "execution_count": 53,
   "metadata": {},
   "outputs": [
    {
     "data": {
      "text/html": [
       "<div>\n",
       "<style scoped>\n",
       "    .dataframe tbody tr th:only-of-type {\n",
       "        vertical-align: middle;\n",
       "    }\n",
       "\n",
       "    .dataframe tbody tr th {\n",
       "        vertical-align: top;\n",
       "    }\n",
       "\n",
       "    .dataframe thead th {\n",
       "        text-align: right;\n",
       "    }\n",
       "</style>\n",
       "<table border=\"1\" class=\"dataframe\">\n",
       "  <thead>\n",
       "    <tr style=\"text-align: right;\">\n",
       "      <th></th>\n",
       "      <th>Mean Survival (days)</th>\n",
       "      <th>StDev (Days)</th>\n",
       "      <th>Min Survival (days)</th>\n",
       "      <th>Median Survival (days)</th>\n",
       "      <th>Max Survival (days)</th>\n",
       "    </tr>\n",
       "  </thead>\n",
       "  <tbody>\n",
       "    <tr>\n",
       "      <th>Original</th>\n",
       "      <td>500.642857</td>\n",
       "      <td>536.364905</td>\n",
       "      <td>0.0</td>\n",
       "      <td>370.0</td>\n",
       "      <td>3881.0</td>\n",
       "    </tr>\n",
       "    <tr>\n",
       "      <th>All Treatments</th>\n",
       "      <td>512.088803</td>\n",
       "      <td>541.852136</td>\n",
       "      <td>3.0</td>\n",
       "      <td>377.5</td>\n",
       "      <td>3881.0</td>\n",
       "    </tr>\n",
       "    <tr>\n",
       "      <th>Radiation Only</th>\n",
       "      <td>595.729114</td>\n",
       "      <td>568.007963</td>\n",
       "      <td>20.0</td>\n",
       "      <td>441.0</td>\n",
       "      <td>3881.0</td>\n",
       "    </tr>\n",
       "  </tbody>\n",
       "</table>\n",
       "</div>"
      ],
      "text/plain": [
       "                Mean Survival (days)  StDev (Days)  Min Survival (days)  \\\n",
       "Original                  500.642857    536.364905                  0.0   \n",
       "All Treatments            512.088803    541.852136                  3.0   \n",
       "Radiation Only            595.729114    568.007963                 20.0   \n",
       "\n",
       "                Median Survival (days)  Max Survival (days)  \n",
       "Original                         370.0               3881.0  \n",
       "All Treatments                   377.5               3881.0  \n",
       "Radiation Only                   441.0               3881.0  "
      ]
     },
     "execution_count": 53,
     "metadata": {},
     "output_type": "execute_result"
    }
   ],
   "source": [
    "# regression stats\n",
    "reg_stats = pd.DataFrame(list(zip(original_os_sum, full_os_sum, rt_os_sum)), \n",
    "                         index = ['OS Count', 'Mean Survival (days)', 'StDev (Days)', 'Min Survival (days)', \n",
    "                                  'OS 25%', 'Median Survival (days)', 'OS 75%', 'Max Survival (days)'],\n",
    "                         columns = ['Original', 'All Treatments', 'Radiation Only'])\n",
    "reg_stats = reg_stats.transpose()\n",
    "reg_stats = reg_stats.drop(columns = ['OS Count', 'OS 25%', 'OS 75%'])\n",
    "reg_stats.to_csv('reg_stats.csv')\n",
    "reg_stats"
   ]
  },
  {
   "cell_type": "markdown",
   "metadata": {},
   "source": [
    "## Quick Model Test"
   ]
  },
  {
   "cell_type": "markdown",
   "metadata": {},
   "source": [
    "Variables:  \n",
    "\n",
    "Regression (all patients): X_train, X_test, y_train, y_test, X_news, X_train2, X, y   \n",
    "Classification (all patients): Xc_train, Xc_test, yc_train, yc_test, Xc_news, Xc_train2, X, yc   \n",
    "Regression (rt patients): Xr_train, Xr_test, yr_train, yr_test, Xr_news, Xr_train2, Xr, yr   \n",
    "Classification (rt patients): Xrc_train, Xrc_test, yrc_train, yrc_test, Xrc_news, Xrc_train2, Xr, yrc   "
   ]
  },
  {
   "cell_type": "code",
   "execution_count": 54,
   "metadata": {},
   "outputs": [],
   "source": [
    "# Standard imports\n",
    "# Try maxabsscaler because data should be centered at 0 -- I actually don't think it is\n",
    "from sklearn.pipeline import make_pipeline\n",
    "from sklearn.preprocessing import StandardScaler, RobustScaler, MaxAbsScaler, MinMaxScaler, Normalizer, QuantileTransformer, PowerTransformer\n",
    "from sklearn.model_selection import GridSearchCV\n",
    "from sklearn.metrics import mean_absolute_error"
   ]
  },
  {
   "cell_type": "markdown",
   "metadata": {},
   "source": [
    "### Classification"
   ]
  },
  {
   "cell_type": "code",
   "execution_count": 55,
   "metadata": {},
   "outputs": [],
   "source": [
    "from sklearn.metrics import mean_absolute_error\n",
    "from sklearn.metrics import accuracy_score\n",
    "from sklearn.neural_network import MLPClassifier\n",
    "from sklearn.neighbors import KNeighborsClassifier\n",
    "from sklearn.svm import SVC\n",
    "from sklearn.gaussian_process import GaussianProcessClassifier\n",
    "from sklearn.gaussian_process.kernels import RBF\n",
    "from sklearn.tree import DecisionTreeClassifier\n",
    "from sklearn.ensemble import RandomForestClassifier, AdaBoostClassifier\n",
    "from sklearn.naive_bayes import GaussianNB\n",
    "from sklearn.linear_model import SGDClassifier\n",
    "from sklearn.linear_model import LogisticRegression\n",
    "from sklearn.ensemble import GradientBoostingClassifier\n",
    "from lightgbm import LGBMClassifier"
   ]
  },
  {
   "cell_type": "code",
   "execution_count": 56,
   "metadata": {
    "slideshow": {
     "slide_type": "subslide"
    }
   },
   "outputs": [],
   "source": [
    "# from https://scikit-learn.org/stable/auto_examples/classification/plot_classifier_comparison.html\n",
    "names = [\"k-Nearest Neighbors\", \"SVC\", \"Gaussian Process\",\n",
    "         \"Decision Tree\", \"Random Forest\", \"Multi-layer Perceptron\", \"AdaBoost\", \"GaussianNB\",\n",
    "         \"Stochastic Gradient Descent\", \"Logistic Regression\", \"Gradient Boost\", \"LGBM\"]\n",
    "\n",
    "classifiers = [\n",
    "    make_pipeline(QuantileTransformer(), KNeighborsClassifier()),\n",
    "    make_pipeline(QuantileTransformer(),SVC(max_iter=100000)),\n",
    "    make_pipeline(QuantileTransformer(),GaussianProcessClassifier()),\n",
    "    make_pipeline(QuantileTransformer(),DecisionTreeClassifier(max_depth=5)),\n",
    "    make_pipeline(QuantileTransformer(),RandomForestClassifier(max_depth=5)),\n",
    "    make_pipeline(QuantileTransformer(),MLPClassifier(max_iter=100)),\n",
    "    make_pipeline(QuantileTransformer(),AdaBoostClassifier()),\n",
    "    make_pipeline(QuantileTransformer(),GaussianNB()),\n",
    "    make_pipeline(QuantileTransformer(),SGDClassifier(max_iter=100000)),\n",
    "    make_pipeline(QuantileTransformer(),LogisticRegression(max_iter=100000)),\n",
    "    make_pipeline(QuantileTransformer(),GradientBoostingClassifier()),\n",
    "    make_pipeline(QuantileTransformer(),LGBMClassifier())\n",
    "    ]"
   ]
  },
  {
   "cell_type": "markdown",
   "metadata": {},
   "source": [
    "#### All Patients"
   ]
  },
  {
   "cell_type": "code",
   "execution_count": 57,
   "metadata": {
    "slideshow": {
     "slide_type": "subslide"
    }
   },
   "outputs": [
    {
     "name": "stdout",
     "output_type": "stream",
     "text": [
      "accuracy: ('k-Nearest Neighbors', 0.6057692307692307)\n",
      "accuracy: ('SVC', 0.6057692307692307)\n",
      "accuracy: ('Gaussian Process', 0.625)\n",
      "accuracy: ('Decision Tree', 0.4807692307692308)\n",
      "accuracy: ('Random Forest', 0.5576923076923077)\n",
      "accuracy: ('Multi-layer Perceptron', 0.5288461538461539)\n",
      "accuracy: ('AdaBoost', 0.5)\n",
      "accuracy: ('GaussianNB', 0.5865384615384616)\n",
      "accuracy: ('Stochastic Gradient Descent', 0.5096153846153846)\n",
      "accuracy: ('Logistic Regression', 0.5576923076923077)\n",
      "accuracy: ('Gradient Boost', 0.5865384615384616)\n",
      "accuracy: ('LGBM', 0.5384615384615384)\n"
     ]
    }
   ],
   "source": [
    "# Xc_train, Xc_test, yc_train, yc_test, Xc_news, Xc_train2, X, yc  \n",
    "\n",
    "for name, clf in zip(names, classifiers):\n",
    "    clf.fit(Xc_train2, yc_train)\n",
    "    y_pred = clf.predict(Xc_news.transform(Xc_test))\n",
    "    \n",
    "    # evaluate predictions\n",
    "    acc = accuracy_score(yc_test, y_pred)\n",
    "    print('accuracy:', (name, acc))"
   ]
  },
  {
   "cell_type": "markdown",
   "metadata": {},
   "source": [
    "#### Radiation Only"
   ]
  },
  {
   "cell_type": "code",
   "execution_count": 58,
   "metadata": {},
   "outputs": [
    {
     "name": "stdout",
     "output_type": "stream",
     "text": [
      "MAE: ('k-Nearest Neighbors', 0.5443037974683544)\n",
      "MAE: ('SVC', 0.4810126582278481)\n",
      "MAE: ('Gaussian Process', 0.4810126582278481)\n",
      "MAE: ('Decision Tree', 0.5316455696202531)\n",
      "MAE: ('Random Forest', 0.45569620253164556)\n",
      "MAE: ('Multi-layer Perceptron', 0.4936708860759494)\n",
      "MAE: ('AdaBoost', 0.569620253164557)\n",
      "MAE: ('GaussianNB', 0.5316455696202531)\n",
      "MAE: ('Stochastic Gradient Descent', 0.6075949367088608)\n",
      "MAE: ('Logistic Regression', 0.4936708860759494)\n",
      "MAE: ('Gradient Boost', 0.5063291139240507)\n",
      "MAE: ('LGBM', 0.46835443037974683)\n"
     ]
    }
   ],
   "source": [
    "# Xrc_train, Xrc_test, yrc_train, yrc_test, Xrc_news, Xrc_train2, Xr, yrc\n",
    "\n",
    "for name, clf in zip(names, classifiers):\n",
    "    clf.fit(Xrc_train2, yrc_train)\n",
    "    y_pred = clf.predict(Xrc_news.transform(Xrc_test))\n",
    "    \n",
    "    # evaluate predictions\n",
    "    acc = accuracy_score(yrc_test, y_pred)\n",
    "    print('MAE:', (name, acc))"
   ]
  },
  {
   "cell_type": "markdown",
   "metadata": {},
   "source": [
    "Try SVC, AdaBoost, KNN, SGD, Gaussian Process"
   ]
  },
  {
   "cell_type": "markdown",
   "metadata": {},
   "source": [
    "### Regression"
   ]
  },
  {
   "cell_type": "code",
   "execution_count": 59,
   "metadata": {},
   "outputs": [],
   "source": [
    "from sklearn.metrics import mean_absolute_error\n",
    "from sklearn import svm\n",
    "from sklearn.ensemble import GradientBoostingRegressor\n",
    "from xgboost.sklearn import XGBRegressor\n",
    "from sklearn.neural_network import MLPRegressor\n",
    "from sklearn.linear_model import LinearRegression\n",
    "from sklearn.linear_model import SGDRegressor\n",
    "from sklearn.kernel_ridge import KernelRidge\n",
    "from sklearn.linear_model import ElasticNet\n",
    "from sklearn.linear_model import BayesianRidge\n",
    "from lightgbm import LGBMRegressor"
   ]
  },
  {
   "cell_type": "code",
   "execution_count": 60,
   "metadata": {
    "slideshow": {
     "slide_type": "subslide"
    }
   },
   "outputs": [],
   "source": [
    "# from https://scikit-learn.org/stable/auto_examples/classification/plot_classifier_comparison.html\n",
    "names = [\"Support Vector Regression\", \"Gradient Boosting Regressor\", \"XGBoost\", \"Multi-layer Perceptron\", \n",
    "         \"Linear Regression\", \"SGD\", \"Kernel Ridge\", \"Elastic Net\", \"Bayesian Ridge\", \"LGBM\"]\n",
    "\n",
    "regressors = [\n",
    "    make_pipeline(QuantileTransformer(),svm.SVR(max_iter=100000)),\n",
    "    make_pipeline(QuantileTransformer(),GradientBoostingRegressor()),\n",
    "    make_pipeline(QuantileTransformer(),XGBRegressor()),\n",
    "    make_pipeline(QuantileTransformer(),MLPRegressor(max_iter=50)),\n",
    "    make_pipeline(QuantileTransformer(),LinearRegression()),\n",
    "    make_pipeline(QuantileTransformer(),SGDRegressor(max_iter=100000)),\n",
    "    make_pipeline(QuantileTransformer(),KernelRidge()),\n",
    "    make_pipeline(QuantileTransformer(),ElasticNet(max_iter=100000)),\n",
    "    make_pipeline(QuantileTransformer(),BayesianRidge()),\n",
    "    make_pipeline(QuantileTransformer(),LGBMRegressor())\n",
    "    ]"
   ]
  },
  {
   "cell_type": "markdown",
   "metadata": {},
   "source": [
    "#### All Patients"
   ]
  },
  {
   "cell_type": "code",
   "execution_count": 61,
   "metadata": {
    "slideshow": {
     "slide_type": "subslide"
    }
   },
   "outputs": [
    {
     "name": "stdout",
     "output_type": "stream",
     "text": [
      "MAE: ('Support Vector Regression', 332.07644885061467)\n",
      "MAE: ('Gradient Boosting Regressor', 359.55690149389676)\n",
      "MAE: ('XGBoost', 365.0645155723278)\n",
      "MAE: ('Multi-layer Perceptron', 487.7151738089809)\n",
      "MAE: ('Linear Regression', 328.3080809602359)\n",
      "MAE: ('SGD', 317.04457446286284)\n",
      "MAE: ('Kernel Ridge', 330.3531866973987)\n",
      "MAE: ('Elastic Net', 315.77942425766355)\n",
      "MAE: ('Bayesian Ridge', 314.3333675241723)\n",
      "MAE: ('LGBM', 356.127550720316)\n"
     ]
    }
   ],
   "source": [
    "# X_train, X_test, y_train, y_test, X_news, X_train2, X, y \n",
    "\n",
    "for name, regr in zip(names, regressors):\n",
    "    regr.fit(X_train2, y_train) #hiii matched using 25 reduced features in and out\n",
    "    y_pred = regr.predict(X_news.transform(X_test))\n",
    "    \n",
    "    # evaluate predictions\n",
    "    mae = mean_absolute_error(y_test, y_pred)\n",
    "    print('MAE:', (name, mae))"
   ]
  },
  {
   "cell_type": "markdown",
   "metadata": {},
   "source": [
    "#### Radiation Only"
   ]
  },
  {
   "cell_type": "code",
   "execution_count": 62,
   "metadata": {},
   "outputs": [
    {
     "name": "stdout",
     "output_type": "stream",
     "text": [
      "MAE: ('Support Vector Regression', 370.82268195910973)\n",
      "MAE: ('Gradient Boosting Regressor', 394.2055849922776)\n",
      "MAE: ('XGBoost', 389.9000035539458)\n",
      "MAE: ('Multi-layer Perceptron', 561.375036972033)\n",
      "MAE: ('Linear Regression', 380.1644283467281)\n",
      "MAE: ('SGD', 373.0150429297183)\n",
      "MAE: ('Kernel Ridge', 378.1026475307443)\n",
      "MAE: ('Elastic Net', 382.1104168091683)\n",
      "MAE: ('Bayesian Ridge', 375.9523965673847)\n",
      "MAE: ('LGBM', 354.00278030136457)\n"
     ]
    }
   ],
   "source": [
    "# Xr_train, Xr_test, yr_train, yr_test, Xr_news, Xr_train2, Xr, yr   \n",
    "\n",
    "for name, regr in zip(names, regressors):\n",
    "    regr.fit(Xr_train2, yr_train)\n",
    "    y_pred = regr.predict(Xr_news.transform(Xr_test))\n",
    "    \n",
    "    # evaluate predictions\n",
    "    mae = mean_absolute_error(yr_test, y_pred)\n",
    "    print('MAE:', (name, mae))"
   ]
  },
  {
   "cell_type": "markdown",
   "metadata": {},
   "source": [
    "Try SVR, Linear Regression, Gradient Boost, XGB, MLP"
   ]
  },
  {
   "cell_type": "markdown",
   "metadata": {},
   "source": [
    "# Models"
   ]
  },
  {
   "cell_type": "markdown",
   "metadata": {},
   "source": [
    "Variables:  \n",
    "\n",
    "Regression (all patients): X_train, X_test, y_train, y_test, X_news, X_train2, X, y   \n",
    "Classification (all patients): Xc_train, Xc_test, yc_train, yc_test, Xc_news, Xc_train2, X, yc   \n",
    "Regression (rt patients): Xr_train, Xr_test, yr_train, yr_test, Xr_news, Xr_train2, Xr, yr   \n",
    "Classification (rt patients): Xrc_train, Xrc_test, yrc_train, yrc_test, Xrc_news, Xrc_train2, Xr, yrc  \n",
    "\n",
    "Choose 5 models each for classification/regression based on initial performance"
   ]
  },
  {
   "cell_type": "markdown",
   "metadata": {},
   "source": [
    "# Regression Models (All Patients/Treatments)"
   ]
  },
  {
   "cell_type": "markdown",
   "metadata": {},
   "source": [
    "### Model 1: Support Vector Regression (SVR) Model - All patients with treatment data trained"
   ]
  },
  {
   "cell_type": "markdown",
   "metadata": {},
   "source": [
    "Include all features from full_df. Here, we want to include treatments as features.  \n",
    "X_train, X_test, y_train, y_test, X_news, X_train2, X, y  "
   ]
  },
  {
   "cell_type": "code",
   "execution_count": 63,
   "metadata": {},
   "outputs": [],
   "source": [
    "from sklearn import svm\n",
    "\n",
    "param_grid = {\n",
    "                 'svr__kernel': ('rbf', 'sigmoid', 'linear', 'poly'),\n",
    "                 'svr__gamma': [0.001, 0.01, 0.1],\n",
    "                 'svr__C': [0.1, 1, 10, 100],\n",
    "                 'svr__tol': [.0001, .001, .01],\n",
    "             }"
   ]
  },
  {
   "cell_type": "code",
   "execution_count": 64,
   "metadata": {},
   "outputs": [
    {
     "data": {
      "text/plain": [
       "{'svr__C': 100, 'svr__gamma': 0.1, 'svr__kernel': 'rbf', 'svr__tol': 0.01}"
      ]
     },
     "execution_count": 64,
     "metadata": {},
     "output_type": "execute_result"
    }
   ],
   "source": [
    "clf = make_pipeline(QuantileTransformer(), svm.SVR(max_iter=50000))\n",
    "grid_model = GridSearchCV(clf, param_grid=param_grid, refit=True)\n",
    "grid_model.fit(X_train2, y_train)\n",
    "grid_model.best_params_"
   ]
  },
  {
   "cell_type": "markdown",
   "metadata": {},
   "source": [
    "### Model 2: Gradient Boosting Regressor"
   ]
  },
  {
   "cell_type": "code",
   "execution_count": 65,
   "metadata": {},
   "outputs": [],
   "source": [
    "from sklearn.ensemble import GradientBoostingRegressor\n",
    "\n",
    "# print(reg.get_params())\n",
    "param_grid = {\n",
    "                 'gradientboostingregressor__loss': ('squared_error', 'absolute_error', 'huber', 'quantile'),\n",
    "                 'gradientboostingregressor__learning_rate': [0.001, 0.01, 0.1],\n",
    "                 'gradientboostingregressor__n_estimators': [1, 10, 100, 1000],\n",
    "             }"
   ]
  },
  {
   "cell_type": "code",
   "execution_count": 66,
   "metadata": {},
   "outputs": [
    {
     "data": {
      "text/plain": [
       "{'gradientboostingregressor__learning_rate': 0.01,\n",
       " 'gradientboostingregressor__loss': 'huber',\n",
       " 'gradientboostingregressor__n_estimators': 1000}"
      ]
     },
     "execution_count": 66,
     "metadata": {},
     "output_type": "execute_result"
    }
   ],
   "source": [
    "reg = make_pipeline(QuantileTransformer(), GradientBoostingRegressor())\n",
    "grid_model = GridSearchCV(reg, param_grid=param_grid, refit=True)\n",
    "grid_model.fit(X_train2, y_train)\n",
    "grid_model.best_params_"
   ]
  },
  {
   "cell_type": "markdown",
   "metadata": {},
   "source": [
    "### Model 3: XGB Regression"
   ]
  },
  {
   "cell_type": "code",
   "execution_count": 67,
   "metadata": {},
   "outputs": [],
   "source": [
    "from xgboost.sklearn import XGBRegressor\n",
    "\n",
    "param_grid = {  \n",
    "            \"xgbregressor__n_estimators\": [50, 100, 250],\n",
    "            \"xgbregressor__max_depth\": [1, 3, 10, 25],\n",
    "            \"xgbregressor__learning_rate\": [0.001, 0.01, 0.1]\n",
    "        }"
   ]
  },
  {
   "cell_type": "code",
   "execution_count": 68,
   "metadata": {},
   "outputs": [
    {
     "data": {
      "text/plain": [
       "{'xgbregressor__learning_rate': 0.1,\n",
       " 'xgbregressor__max_depth': 1,\n",
       " 'xgbregressor__n_estimators': 100}"
      ]
     },
     "execution_count": 68,
     "metadata": {},
     "output_type": "execute_result"
    }
   ],
   "source": [
    "xgb = make_pipeline(QuantileTransformer(), XGBRegressor())\n",
    "grid_model = GridSearchCV(xgb, param_grid=param_grid, refit=True)\n",
    "grid_model.fit(X_train2, y_train)\n",
    "grid_model.best_params_"
   ]
  },
  {
   "cell_type": "markdown",
   "metadata": {},
   "source": [
    "### Model 4: MLP Regressor"
   ]
  },
  {
   "cell_type": "markdown",
   "metadata": {},
   "source": [
    "Only radiation parents from rt_full_df"
   ]
  },
  {
   "cell_type": "code",
   "execution_count": 69,
   "metadata": {},
   "outputs": [],
   "source": [
    "from sklearn.neural_network import MLPRegressor\n",
    "\n",
    "param_grid = {\n",
    "                 'mlpregressor__hidden_layer_sizes': [(100,), (100,100)],\n",
    "                 'mlpregressor__activation': [('relu')], # 'identity', 'logistic', 'tanh', \n",
    "                 'mlpregressor__solver': [('adam')],# 'sgd', 'adam'), lbfgs, \n",
    "                 'mlpregressor__alpha': [0.00001, 0.0001, 0.001],\n",
    "                 'mlpregressor__learning_rate': ('constant', 'invscaling',  'adaptive'), # 'constant', \n",
    "                 'mlpregressor__tol': [0.0001, 0.001, 0.01]\n",
    "             }"
   ]
  },
  {
   "cell_type": "code",
   "execution_count": 70,
   "metadata": {},
   "outputs": [
    {
     "data": {
      "text/plain": [
       "{'mlpregressor__activation': 'relu',\n",
       " 'mlpregressor__alpha': 1e-05,\n",
       " 'mlpregressor__hidden_layer_sizes': (100, 100),\n",
       " 'mlpregressor__learning_rate': 'invscaling',\n",
       " 'mlpregressor__solver': 'adam',\n",
       " 'mlpregressor__tol': 0.01}"
      ]
     },
     "execution_count": 70,
     "metadata": {},
     "output_type": "execute_result"
    }
   ],
   "source": [
    "regr = make_pipeline(QuantileTransformer(), MLPRegressor(max_iter=50))\n",
    "grid_model = GridSearchCV(regr, param_grid=param_grid, refit=True)\n",
    "grid_model.fit(X_train2, y_train)\n",
    "grid_model.best_params_"
   ]
  },
  {
   "cell_type": "markdown",
   "metadata": {},
   "source": [
    "### Model 5: Linear Regression"
   ]
  },
  {
   "cell_type": "markdown",
   "metadata": {},
   "source": [
    "Only radiation parents from rt_full_df"
   ]
  },
  {
   "cell_type": "code",
   "execution_count": 71,
   "metadata": {},
   "outputs": [],
   "source": [
    "from sklearn.linear_model import LinearRegression\n",
    "\n",
    "param_grid = {\n",
    "                 'linearregression__n_jobs': [1, 2, 5, 10, 100],\n",
    "             }"
   ]
  },
  {
   "cell_type": "code",
   "execution_count": 72,
   "metadata": {},
   "outputs": [
    {
     "data": {
      "text/plain": [
       "{'linearregression__n_jobs': 1}"
      ]
     },
     "execution_count": 72,
     "metadata": {},
     "output_type": "execute_result"
    }
   ],
   "source": [
    "regr = make_pipeline(QuantileTransformer(), LinearRegression())\n",
    "grid_model = GridSearchCV(regr, param_grid=param_grid, refit=True)\n",
    "grid_model.fit(X_train2, y_train)\n",
    "grid_model.best_params_"
   ]
  },
  {
   "cell_type": "markdown",
   "metadata": {},
   "source": [
    "# Classification Models (All Patients/Treatments)"
   ]
  },
  {
   "cell_type": "markdown",
   "metadata": {},
   "source": [
    "Try the classifier to narrow things down -- survival time vs. low/high survival   \n",
    "Xc_train, Xc_test, yc_train, yc_test, Xc_news, Xc_train2, X, yc   "
   ]
  },
  {
   "cell_type": "markdown",
   "metadata": {},
   "source": [
    "### Model 1: Gaussian Process"
   ]
  },
  {
   "cell_type": "markdown",
   "metadata": {},
   "source": [
    "Include all features from full_df. Here, we want to include treatments as features."
   ]
  },
  {
   "cell_type": "code",
   "execution_count": 73,
   "metadata": {},
   "outputs": [],
   "source": [
    "from sklearn.gaussian_process import GaussianProcessClassifier\n",
    "\n",
    "param_grid = {\n",
    "                 'gaussianprocessclassifier__multi_class': ('one_vs_rest', 'one_vs_one'),\n",
    "                 'gaussianprocessclassifier__max_iter_predict': [10, 25, 100, 500],\n",
    "             }"
   ]
  },
  {
   "cell_type": "code",
   "execution_count": 74,
   "metadata": {},
   "outputs": [
    {
     "data": {
      "text/plain": [
       "{'gaussianprocessclassifier__max_iter_predict': 10,\n",
       " 'gaussianprocessclassifier__multi_class': 'one_vs_rest'}"
      ]
     },
     "execution_count": 74,
     "metadata": {},
     "output_type": "execute_result"
    }
   ],
   "source": [
    "clf = make_pipeline(QuantileTransformer(), GaussianProcessClassifier())\n",
    "grid_model = GridSearchCV(clf, param_grid=param_grid, refit=True)\n",
    "grid_model.fit(Xc_train2, yc_train)\n",
    "grid_model.best_params_"
   ]
  },
  {
   "cell_type": "markdown",
   "metadata": {},
   "source": [
    "### Model 2: SGD Classifier"
   ]
  },
  {
   "cell_type": "code",
   "execution_count": 75,
   "metadata": {},
   "outputs": [],
   "source": [
    "from sklearn.linear_model import SGDClassifier\n",
    "\n",
    "param_grid = {\n",
    "                 'sgdclassifier__loss': ('hinge', 'log', 'modified_huber', 'squared_hinge', 'perceptron'),\n",
    "                 'sgdclassifier__penalty': ('l2', 'l1', 'elasticnet'),\n",
    "                 'sgdclassifier__alpha': [0.00001, 0.0001, 0.001],\n",
    "#                  'sgdclassifier__learning_rate': ('constant', 'optimal', 'invscaling', 'adaptive'),\n",
    "             }"
   ]
  },
  {
   "cell_type": "code",
   "execution_count": 76,
   "metadata": {},
   "outputs": [
    {
     "data": {
      "text/plain": [
       "{'sgdclassifier__alpha': 0.001,\n",
       " 'sgdclassifier__loss': 'log',\n",
       " 'sgdclassifier__penalty': 'l1'}"
      ]
     },
     "execution_count": 76,
     "metadata": {},
     "output_type": "execute_result"
    }
   ],
   "source": [
    "clf = make_pipeline(QuantileTransformer(), SGDClassifier(max_iter=50000))\n",
    "grid_model = GridSearchCV(clf, param_grid=param_grid, refit=True)\n",
    "grid_model.fit(Xc_train2, yc_train)\n",
    "grid_model.best_params_"
   ]
  },
  {
   "cell_type": "markdown",
   "metadata": {},
   "source": [
    "### Model 3: MLP Classifier"
   ]
  },
  {
   "cell_type": "code",
   "execution_count": 77,
   "metadata": {},
   "outputs": [],
   "source": [
    "from sklearn.neural_network import MLPClassifier\n",
    "\n",
    "param_grid = {\n",
    "                 'mlpclassifier__hidden_layer_sizes': [(100,), (100,100)],\n",
    "                 'mlpclassifier__activation': ('identity', 'logistic', 'tanh', 'relu'),\n",
    "                 'mlpclassifier__solver': [('lbfgs')],# 'sgd', 'adam'),\n",
    "                 'mlpclassifier__alpha': [0.00001, 0.0001, 0.001],\n",
    "                 'mlpclassifier__learning_rate': ('invscaling',  'adaptive'), # 'constant', \n",
    "                 'mlpclassifier__tol': [0.0001, 0.001, 0.01]\n",
    "             }"
   ]
  },
  {
   "cell_type": "code",
   "execution_count": 78,
   "metadata": {},
   "outputs": [
    {
     "data": {
      "text/plain": [
       "{'mlpclassifier__activation': 'logistic',\n",
       " 'mlpclassifier__alpha': 1e-05,\n",
       " 'mlpclassifier__hidden_layer_sizes': (100,),\n",
       " 'mlpclassifier__learning_rate': 'adaptive',\n",
       " 'mlpclassifier__solver': 'lbfgs',\n",
       " 'mlpclassifier__tol': 0.0001}"
      ]
     },
     "execution_count": 78,
     "metadata": {},
     "output_type": "execute_result"
    }
   ],
   "source": [
    "clf = make_pipeline(QuantileTransformer(), MLPClassifier(max_iter=50))\n",
    "grid_model = GridSearchCV(clf, param_grid=param_grid, refit=True)\n",
    "grid_model.fit(Xc_train2, yc_train)\n",
    "grid_model.best_params_"
   ]
  },
  {
   "cell_type": "markdown",
   "metadata": {},
   "source": [
    "### Model 4: KNN"
   ]
  },
  {
   "cell_type": "code",
   "execution_count": 79,
   "metadata": {},
   "outputs": [],
   "source": [
    "from sklearn.neighbors import KNeighborsClassifier\n",
    "\n",
    "param_grid = {\n",
    "                 'kneighborsclassifier__n_neighbors': [2, 3, 5, 7, 10, 15],\n",
    "                 'kneighborsclassifier__weights': ('uniform', 'distance'),\n",
    "                 'kneighborsclassifier__algorithm': ('auto', 'ball_tree', 'kd_tree', 'brute'),\n",
    "             }"
   ]
  },
  {
   "cell_type": "code",
   "execution_count": 80,
   "metadata": {},
   "outputs": [
    {
     "data": {
      "text/plain": [
       "{'kneighborsclassifier__algorithm': 'auto',\n",
       " 'kneighborsclassifier__n_neighbors': 10,\n",
       " 'kneighborsclassifier__weights': 'uniform'}"
      ]
     },
     "execution_count": 80,
     "metadata": {},
     "output_type": "execute_result"
    }
   ],
   "source": [
    "neigh = make_pipeline(QuantileTransformer(), KNeighborsClassifier())\n",
    "grid_model = GridSearchCV(neigh, param_grid=param_grid, refit=True)\n",
    "grid_model.fit(Xc_train2, yc_train)\n",
    "grid_model.best_params_"
   ]
  },
  {
   "cell_type": "markdown",
   "metadata": {},
   "source": [
    "### Model 5: AdaBoost"
   ]
  },
  {
   "cell_type": "code",
   "execution_count": 81,
   "metadata": {},
   "outputs": [],
   "source": [
    "from sklearn.ensemble import AdaBoostClassifier\n",
    "\n",
    "param_grid = {\n",
    "                 'adaboostclassifier__n_estimators': [5, 10, 25, 50, 100],\n",
    "                 'adaboostclassifier__learning_rate': [0.1, 0.5, 1.0, 5.0, 10.0],\n",
    "                 'adaboostclassifier__algorithm': ('SAMME', 'SAMME.R'),\n",
    "             }"
   ]
  },
  {
   "cell_type": "code",
   "execution_count": 82,
   "metadata": {},
   "outputs": [
    {
     "data": {
      "text/plain": [
       "{'adaboostclassifier__algorithm': 'SAMME.R',\n",
       " 'adaboostclassifier__learning_rate': 0.5,\n",
       " 'adaboostclassifier__n_estimators': 50}"
      ]
     },
     "execution_count": 82,
     "metadata": {},
     "output_type": "execute_result"
    }
   ],
   "source": [
    "clf = make_pipeline(QuantileTransformer(), AdaBoostClassifier())\n",
    "grid_model = GridSearchCV(clf, param_grid=param_grid, refit=True)\n",
    "grid_model.fit(Xc_train2, yc_train)\n",
    "grid_model.best_params_"
   ]
  },
  {
   "cell_type": "markdown",
   "metadata": {},
   "source": [
    "# Regression Models (Radiation Patients Only)"
   ]
  },
  {
   "cell_type": "markdown",
   "metadata": {},
   "source": [
    "Xr_train, Xr_test, yr_train, yr_test, Xr_news, Xr_train2, Xr, yr   "
   ]
  },
  {
   "cell_type": "markdown",
   "metadata": {},
   "source": [
    "### Model 1: Support Vector Regression (SVR) Model"
   ]
  },
  {
   "cell_type": "markdown",
   "metadata": {},
   "source": [
    "Only radiation patients from rt_full_df. Treatments are not included as features. "
   ]
  },
  {
   "cell_type": "code",
   "execution_count": 83,
   "metadata": {},
   "outputs": [],
   "source": [
    "from sklearn import svm\n",
    "\n",
    "param_grid = {\n",
    "                 'svr__kernel': ('rbf', 'sigmoid', 'linear', 'poly'),\n",
    "                 'svr__gamma': [0.001, 0.01, 0.1],\n",
    "                 'svr__C': [0.1, 1, 10, 100],\n",
    "                 'svr__tol': [.0001, .001, .01],\n",
    "             }"
   ]
  },
  {
   "cell_type": "code",
   "execution_count": 84,
   "metadata": {},
   "outputs": [
    {
     "data": {
      "text/plain": [
       "{'svr__C': 100, 'svr__gamma': 0.001, 'svr__kernel': 'linear', 'svr__tol': 0.01}"
      ]
     },
     "execution_count": 84,
     "metadata": {},
     "output_type": "execute_result"
    }
   ],
   "source": [
    "clf = make_pipeline(QuantileTransformer(), svm.SVR(max_iter=50000))\n",
    "grid_model = GridSearchCV(clf, param_grid=param_grid, refit=True)\n",
    "grid_model.fit(Xr_train2, yr_train)\n",
    "grid_model.best_params_"
   ]
  },
  {
   "cell_type": "markdown",
   "metadata": {},
   "source": [
    "### Model 2: Gradient Boosting Regressor"
   ]
  },
  {
   "cell_type": "code",
   "execution_count": 85,
   "metadata": {},
   "outputs": [],
   "source": [
    "from sklearn.ensemble import GradientBoostingRegressor\n",
    "\n",
    "# print(reg.get_params())\n",
    "param_grid = {\n",
    "                 'gradientboostingregressor__loss': ('squared_error', 'absolute_error', 'huber', 'quantile'),\n",
    "                 'gradientboostingregressor__learning_rate': [0.001, 0.01, 0.1],\n",
    "                 'gradientboostingregressor__n_estimators': [1, 10, 100, 1000],\n",
    "             }"
   ]
  },
  {
   "cell_type": "code",
   "execution_count": 86,
   "metadata": {},
   "outputs": [
    {
     "data": {
      "text/plain": [
       "{'gradientboostingregressor__learning_rate': 0.1,\n",
       " 'gradientboostingregressor__loss': 'huber',\n",
       " 'gradientboostingregressor__n_estimators': 100}"
      ]
     },
     "execution_count": 86,
     "metadata": {},
     "output_type": "execute_result"
    }
   ],
   "source": [
    "reg = make_pipeline(QuantileTransformer(), GradientBoostingRegressor())\n",
    "grid_model = GridSearchCV(reg, param_grid=param_grid, refit=True)\n",
    "grid_model.fit(Xr_train2, yr_train)\n",
    "grid_model.best_params_"
   ]
  },
  {
   "cell_type": "markdown",
   "metadata": {},
   "source": [
    "### Model 3: XGB Regression"
   ]
  },
  {
   "cell_type": "code",
   "execution_count": 87,
   "metadata": {},
   "outputs": [],
   "source": [
    "from xgboost.sklearn import XGBRegressor\n",
    "\n",
    "param_grid = {  \n",
    "            \"xgbregressor__n_estimators\": [50, 100, 250],\n",
    "            \"xgbregressor__max_depth\": [1, 3, 10, 25],\n",
    "            \"xgbregressor__learning_rate\": [0.001, 0.01, 0.1]\n",
    "        }"
   ]
  },
  {
   "cell_type": "code",
   "execution_count": 88,
   "metadata": {},
   "outputs": [
    {
     "data": {
      "text/plain": [
       "{'xgbregressor__learning_rate': 0.1,\n",
       " 'xgbregressor__max_depth': 1,\n",
       " 'xgbregressor__n_estimators': 50}"
      ]
     },
     "execution_count": 88,
     "metadata": {},
     "output_type": "execute_result"
    }
   ],
   "source": [
    "xgb = make_pipeline(QuantileTransformer(), XGBRegressor())\n",
    "grid_model = GridSearchCV(xgb, param_grid=param_grid, refit=True)\n",
    "grid_model.fit(Xr_train2, yr_train)\n",
    "grid_model.best_params_"
   ]
  },
  {
   "cell_type": "markdown",
   "metadata": {},
   "source": [
    "### Model 4: MLP Regressor"
   ]
  },
  {
   "cell_type": "markdown",
   "metadata": {},
   "source": [
    "Only radiation parents from rt_full_df"
   ]
  },
  {
   "cell_type": "code",
   "execution_count": 89,
   "metadata": {},
   "outputs": [],
   "source": [
    "from sklearn.neural_network import MLPRegressor\n",
    "\n",
    "param_grid = {\n",
    "                 'mlpregressor__hidden_layer_sizes': [(100,), (100,100)],\n",
    "                 'mlpregressor__activation': [('relu')], # 'identity', 'logistic', 'tanh', \n",
    "                 'mlpregressor__solver': [('adam')],# 'sgd', 'adam'), lbfgs, \n",
    "                 'mlpregressor__alpha': [0.00001, 0.0001, 0.001],\n",
    "                 'mlpregressor__learning_rate': ('constant', 'invscaling',  'adaptive'), # 'constant', \n",
    "                 'mlpregressor__tol': [0.0001, 0.001, 0.01]\n",
    "             }"
   ]
  },
  {
   "cell_type": "code",
   "execution_count": 90,
   "metadata": {},
   "outputs": [
    {
     "data": {
      "text/plain": [
       "{'mlpregressor__activation': 'relu',\n",
       " 'mlpregressor__alpha': 0.001,\n",
       " 'mlpregressor__hidden_layer_sizes': (100, 100),\n",
       " 'mlpregressor__learning_rate': 'adaptive',\n",
       " 'mlpregressor__solver': 'adam',\n",
       " 'mlpregressor__tol': 0.0001}"
      ]
     },
     "execution_count": 90,
     "metadata": {},
     "output_type": "execute_result"
    }
   ],
   "source": [
    "regr = make_pipeline(QuantileTransformer(), MLPRegressor(max_iter=50))\n",
    "grid_model = GridSearchCV(regr, param_grid=param_grid, refit=True)\n",
    "grid_model.fit(Xr_train2, yr_train)\n",
    "grid_model.best_params_"
   ]
  },
  {
   "cell_type": "markdown",
   "metadata": {},
   "source": [
    "### Model 5: Linear Regression"
   ]
  },
  {
   "cell_type": "markdown",
   "metadata": {},
   "source": [
    "Only radiation parents from rt_full_df"
   ]
  },
  {
   "cell_type": "code",
   "execution_count": 91,
   "metadata": {},
   "outputs": [],
   "source": [
    "from sklearn.linear_model import LinearRegression\n",
    "\n",
    "param_grid = {\n",
    "                 'linearregression__n_jobs': [1, 2, 5, 10, 100],\n",
    "             }"
   ]
  },
  {
   "cell_type": "code",
   "execution_count": 92,
   "metadata": {},
   "outputs": [
    {
     "data": {
      "text/plain": [
       "{'linearregression__n_jobs': 1}"
      ]
     },
     "execution_count": 92,
     "metadata": {},
     "output_type": "execute_result"
    }
   ],
   "source": [
    "regr = make_pipeline(QuantileTransformer(), LinearRegression())\n",
    "grid_model = GridSearchCV(regr, param_grid=param_grid, refit=True)\n",
    "grid_model.fit(Xr_train2, yr_train)\n",
    "grid_model.best_params_"
   ]
  },
  {
   "cell_type": "markdown",
   "metadata": {},
   "source": [
    "# Classification Models using High/Low Survival Groups (Radiation Patients Only)"
   ]
  },
  {
   "cell_type": "markdown",
   "metadata": {},
   "source": [
    "Xrc_train, Xrc_test, yrc_train, yrc_test, Xrc_news, Xrc_train2, Xr, yrc "
   ]
  },
  {
   "cell_type": "markdown",
   "metadata": {},
   "source": [
    "### Model 1: Gaussian Process"
   ]
  },
  {
   "cell_type": "markdown",
   "metadata": {},
   "source": [
    "Include all features from full_df. Here, we want to include treatments as features."
   ]
  },
  {
   "cell_type": "code",
   "execution_count": 93,
   "metadata": {},
   "outputs": [],
   "source": [
    "from sklearn.gaussian_process import GaussianProcessClassifier\n",
    "\n",
    "param_grid = {\n",
    "                 'gaussianprocessclassifier__multi_class': ('one_vs_rest', 'one_vs_one'),\n",
    "                 'gaussianprocessclassifier__max_iter_predict': [10, 25, 100, 500],\n",
    "             }"
   ]
  },
  {
   "cell_type": "code",
   "execution_count": 94,
   "metadata": {},
   "outputs": [
    {
     "data": {
      "text/plain": [
       "{'gaussianprocessclassifier__max_iter_predict': 10,\n",
       " 'gaussianprocessclassifier__multi_class': 'one_vs_rest'}"
      ]
     },
     "execution_count": 94,
     "metadata": {},
     "output_type": "execute_result"
    }
   ],
   "source": [
    "clf = make_pipeline(QuantileTransformer(), GaussianProcessClassifier())\n",
    "grid_model = GridSearchCV(clf, param_grid=param_grid, refit=True)\n",
    "grid_model.fit(Xrc_train2, yrc_train)\n",
    "grid_model.best_params_"
   ]
  },
  {
   "cell_type": "markdown",
   "metadata": {},
   "source": [
    "### Model 2: SGD Classifier"
   ]
  },
  {
   "cell_type": "code",
   "execution_count": 95,
   "metadata": {},
   "outputs": [],
   "source": [
    "from sklearn.linear_model import SGDClassifier\n",
    "\n",
    "param_grid = {\n",
    "                 'sgdclassifier__loss': ('hinge', 'log', 'modified_huber', 'squared_hinge', 'perceptron'),\n",
    "                 'sgdclassifier__penalty': ('l2', 'l1', 'elasticnet'),\n",
    "                 'sgdclassifier__alpha': [0.00001, 0.0001, 0.001],\n",
    "#                  'sgdclassifier__learning_rate': ('constant', 'optimal', 'invscaling', 'adaptive'),\n",
    "             }"
   ]
  },
  {
   "cell_type": "code",
   "execution_count": 96,
   "metadata": {},
   "outputs": [
    {
     "data": {
      "text/plain": [
       "{'sgdclassifier__alpha': 1e-05,\n",
       " 'sgdclassifier__loss': 'squared_hinge',\n",
       " 'sgdclassifier__penalty': 'l1'}"
      ]
     },
     "execution_count": 96,
     "metadata": {},
     "output_type": "execute_result"
    }
   ],
   "source": [
    "clf = make_pipeline(QuantileTransformer(), SGDClassifier(max_iter=50000))\n",
    "grid_model = GridSearchCV(clf, param_grid=param_grid, refit=True)\n",
    "grid_model.fit(Xrc_train2, yrc_train)\n",
    "grid_model.best_params_"
   ]
  },
  {
   "cell_type": "markdown",
   "metadata": {},
   "source": [
    "### Model 3: MLP Classifier"
   ]
  },
  {
   "cell_type": "code",
   "execution_count": 97,
   "metadata": {},
   "outputs": [],
   "source": [
    "from sklearn.neural_network import MLPClassifier\n",
    "\n",
    "param_grid = {\n",
    "                 'mlpclassifier__hidden_layer_sizes': [(100,), (100,100)],\n",
    "                 'mlpclassifier__activation': ('identity', 'logistic', 'tanh', 'relu'),\n",
    "                 'mlpclassifier__solver': [('lbfgs')],# 'sgd', 'adam'),\n",
    "                 'mlpclassifier__alpha': [0.00001, 0.0001, 0.001],\n",
    "                 'mlpclassifier__learning_rate': ('invscaling',  'adaptive'), # 'constant', \n",
    "                 'mlpclassifier__tol': [0.0001, 0.001, 0.01]\n",
    "             }"
   ]
  },
  {
   "cell_type": "code",
   "execution_count": 98,
   "metadata": {},
   "outputs": [
    {
     "data": {
      "text/plain": [
       "{'mlpclassifier__activation': 'identity',\n",
       " 'mlpclassifier__alpha': 1e-05,\n",
       " 'mlpclassifier__hidden_layer_sizes': (100,),\n",
       " 'mlpclassifier__learning_rate': 'adaptive',\n",
       " 'mlpclassifier__solver': 'lbfgs',\n",
       " 'mlpclassifier__tol': 0.0001}"
      ]
     },
     "execution_count": 98,
     "metadata": {},
     "output_type": "execute_result"
    }
   ],
   "source": [
    "clf = make_pipeline(QuantileTransformer(), MLPClassifier(max_iter=50))\n",
    "grid_model = GridSearchCV(clf, param_grid=param_grid, refit=True)\n",
    "grid_model.fit(Xrc_train2, yrc_train)\n",
    "grid_model.best_params_"
   ]
  },
  {
   "cell_type": "markdown",
   "metadata": {},
   "source": [
    "### Model 4: KNN"
   ]
  },
  {
   "cell_type": "code",
   "execution_count": 99,
   "metadata": {},
   "outputs": [],
   "source": [
    "from sklearn.neighbors import KNeighborsClassifier\n",
    "\n",
    "param_grid = {\n",
    "                 'kneighborsclassifier__n_neighbors': [2, 3, 5, 7, 10, 15],\n",
    "                 'kneighborsclassifier__weights': ('uniform', 'distance'),\n",
    "                 'kneighborsclassifier__algorithm': ('auto', 'ball_tree', 'kd_tree', 'brute'),\n",
    "             }"
   ]
  },
  {
   "cell_type": "code",
   "execution_count": 100,
   "metadata": {},
   "outputs": [
    {
     "data": {
      "text/plain": [
       "{'kneighborsclassifier__algorithm': 'auto',\n",
       " 'kneighborsclassifier__n_neighbors': 10,\n",
       " 'kneighborsclassifier__weights': 'uniform'}"
      ]
     },
     "execution_count": 100,
     "metadata": {},
     "output_type": "execute_result"
    }
   ],
   "source": [
    "neigh = make_pipeline(QuantileTransformer(), KNeighborsClassifier())\n",
    "grid_model = GridSearchCV(neigh, param_grid=param_grid, refit=True)\n",
    "grid_model.fit(Xrc_train2, yrc_train)\n",
    "grid_model.best_params_"
   ]
  },
  {
   "cell_type": "markdown",
   "metadata": {},
   "source": [
    "### Model 5: AdaBoost"
   ]
  },
  {
   "cell_type": "code",
   "execution_count": 101,
   "metadata": {},
   "outputs": [],
   "source": [
    "from sklearn.ensemble import AdaBoostClassifier\n",
    "\n",
    "# First exploration of parameters\n",
    "param_grid = {\n",
    "                 'adaboostclassifier__n_estimators': [5, 10, 25, 50, 100],\n",
    "                 'adaboostclassifier__learning_rate': [0.1, 0.5, 1.0, 5.0, 10.0],\n",
    "                 'adaboostclassifier__algorithm': ('SAMME', 'SAMME.R'),\n",
    "             }"
   ]
  },
  {
   "cell_type": "code",
   "execution_count": 102,
   "metadata": {},
   "outputs": [
    {
     "data": {
      "text/plain": [
       "{'adaboostclassifier__algorithm': 'SAMME',\n",
       " 'adaboostclassifier__learning_rate': 0.5,\n",
       " 'adaboostclassifier__n_estimators': 100}"
      ]
     },
     "execution_count": 102,
     "metadata": {},
     "output_type": "execute_result"
    }
   ],
   "source": [
    "clf = make_pipeline(QuantileTransformer(), AdaBoostClassifier())\n",
    "grid_model = GridSearchCV(clf, param_grid=param_grid, refit=True)\n",
    "grid_model.fit(Xrc_train2, yrc_train)\n",
    "grid_model.best_params_"
   ]
  },
  {
   "cell_type": "markdown",
   "metadata": {},
   "source": [
    "## Final Model Test with updated params"
   ]
  },
  {
   "cell_type": "markdown",
   "metadata": {},
   "source": [
    "Variables:  \n",
    "\n",
    "Regression (all patients): X_train, X_test, y_train, y_test, X_news, X_train2, X, y   \n",
    "Classification (all patients): Xc_train, Xc_test, yc_train, yc_test, Xc_news, Xc_train2, X, yc   \n",
    "Regression (rt patients): Xr_train, Xr_test, yr_train, yr_test, Xr_news, Xr_train2, Xr, yr   \n",
    "Classification (rt patients): Xrc_train, Xrc_test, yrc_train, yrc_test, Xrc_news, Xrc_train2, Xr, yrc   "
   ]
  },
  {
   "cell_type": "markdown",
   "metadata": {},
   "source": [
    "### Classification"
   ]
  },
  {
   "cell_type": "markdown",
   "metadata": {},
   "source": [
    "#### All Patients"
   ]
  },
  {
   "cell_type": "code",
   "execution_count": 103,
   "metadata": {
    "slideshow": {
     "slide_type": "subslide"
    }
   },
   "outputs": [],
   "source": [
    "# All patients -- tuned\n",
    "# from https://scikit-learn.org/stable/auto_examples/classification/plot_classifier_comparison.html\n",
    "names = [\"Gaussian Process\", \"Stochastic Gradient Descent\", \"Multi-layer Perceptron\", \"k-Nearest Neighbors\", \"AdaBoost\"]\n",
    "\n",
    "classifiers = [\n",
    "    make_pipeline(QuantileTransformer(), GaussianProcessClassifier(multi_class='one_vs_rest', max_iter_predict=10)),\n",
    "    make_pipeline(QuantileTransformer(), SGDClassifier(loss='log', penalty='elasticnet', alpha=0.001, max_iter=100000)),\n",
    "    make_pipeline(QuantileTransformer(), MLPClassifier(hidden_layer_sizes=(100,), activation='tanh', learning_rate='invscaling', \n",
    "                                                       solver='lbfgs', alpha=0.00001, tol=0.01, max_iter=100)),\n",
    "    make_pipeline(QuantileTransformer(), KNeighborsClassifier(algorithm='auto', weights='uniform', n_neighbors=10)),\n",
    "    make_pipeline(QuantileTransformer(), AdaBoostClassifier(algorithm='SAMME.R', learning_rate=0.5, n_estimators=50)),\n",
    "    ]"
   ]
  },
  {
   "cell_type": "code",
   "execution_count": 104,
   "metadata": {
    "slideshow": {
     "slide_type": "subslide"
    }
   },
   "outputs": [
    {
     "name": "stdout",
     "output_type": "stream",
     "text": [
      "MAE: ('Gaussian Process', 0.625)\n",
      "MAE: ('Stochastic Gradient Descent', 0.5480769230769231)\n",
      "MAE: ('Multi-layer Perceptron', 0.5576923076923077)\n",
      "MAE: ('k-Nearest Neighbors', 0.6346153846153846)\n",
      "MAE: ('AdaBoost', 0.5288461538461539)\n"
     ]
    },
    {
     "data": {
      "image/png": "[encoded data removed]",
      "text/plain": [
       "<Figure size 432x288 with 1 Axes>"
      ]
     },
     "metadata": {
      "needs_background": "light"
     },
     "output_type": "display_data"
    }
   ],
   "source": [
    "# Xc_train, Xc_test, yc_train, yc_test, Xc_news, Xc_train2, X, yc  \n",
    "\n",
    "accs = []\n",
    "\n",
    "for name, clf in zip(names, classifiers):\n",
    "    clf.fit(Xc_train2, yc_train)\n",
    "    y_pred = clf.predict(Xc_news.transform(Xc_test))\n",
    "    \n",
    "    # evaluate predictions\n",
    "    acc = accuracy_score(yc_test, y_pred)\n",
    "    accs.append(acc)\n",
    "    print('MAE:', (name, acc))\n",
    "\n",
    "fig,ax = plt.subplots()\n",
    "ax.bar(names, accs, color=['g'])\n",
    "ax.set_title('All Patients/Treatments (Classification)')\n",
    "plt.xticks(rotation=45, ha='right')\n",
    "plt.ylabel('Accuracy Score')\n",
    "fig.savefig('allpts_class.pdf', transparent=True, bbox_inches = \"tight\")\n",
    "fig.savefig('allpts_class.png', bbox_inches = \"tight\")"
   ]
  },
  {
   "cell_type": "markdown",
   "metadata": {},
   "source": [
    "#### Radiation Only"
   ]
  },
  {
   "cell_type": "code",
   "execution_count": 105,
   "metadata": {
    "slideshow": {
     "slide_type": "subslide"
    }
   },
   "outputs": [],
   "source": [
    "# radiation patients -- tuned\n",
    "# from https://scikit-learn.org/stable/auto_examples/classification/plot_classifier_comparison.html\n",
    "names = [\"Gaussian Process\", \"Stochastic Gradient Descent\", \"Multi-layer Perceptron\", \"k-Nearest Neighbors\", \"AdaBoost\"]\n",
    "\n",
    "classifiers = [\n",
    "    make_pipeline(QuantileTransformer(), GaussianProcessClassifier(multi_class='one_vs_rest', max_iter_predict=10)),\n",
    "    make_pipeline(QuantileTransformer(), SGDClassifier(loss='log', penalty='l2', alpha=0.001, max_iter=100000)),\n",
    "    make_pipeline(QuantileTransformer(), MLPClassifier(hidden_layer_sizes=(100,), activation='identity', learning_rate='adaptive', \n",
    "                                                  solver='lbfgs', alpha=0.0001, tol=0.0001, max_iter=100)),\n",
    "    make_pipeline(QuantileTransformer(), KNeighborsClassifier(algorithm='auto', weights='uniform', n_neighbors=10)),\n",
    "    make_pipeline(QuantileTransformer(), AdaBoostClassifier(algorithm='SAMME', learning_rate=0.5, n_estimators=100))\n",
    "    ]"
   ]
  },
  {
   "cell_type": "code",
   "execution_count": 106,
   "metadata": {},
   "outputs": [
    {
     "name": "stdout",
     "output_type": "stream",
     "text": [
      "MAE: ('Gaussian Process', 0.4810126582278481)\n",
      "MAE: ('Stochastic Gradient Descent', 0.43037974683544306)\n",
      "MAE: ('Multi-layer Perceptron', 0.4936708860759494)\n",
      "MAE: ('k-Nearest Neighbors', 0.5316455696202531)\n",
      "MAE: ('AdaBoost', 0.5316455696202531)\n"
     ]
    },
    {
     "data": {
      "image/png": "[encoded data removed]",
      "text/plain": [
       "<Figure size 432x288 with 1 Axes>"
      ]
     },
     "metadata": {
      "needs_background": "light"
     },
     "output_type": "display_data"
    }
   ],
   "source": [
    "# Xrc_train, Xrc_test, yrc_train, yrc_test, Xrc_news, Xrc_train2, Xr, yrc\n",
    "\n",
    "accs = []\n",
    "\n",
    "for name, clf in zip(names, classifiers):\n",
    "    clf.fit(Xrc_train2, yrc_train)\n",
    "    y_pred = clf.predict(Xrc_news.transform(Xrc_test))\n",
    "    \n",
    "    # evaluate predictions\n",
    "    acc = accuracy_score(yrc_test, y_pred)\n",
    "    accs.append(acc)\n",
    "    print('MAE:', (name, acc))\n",
    "    \n",
    "fig,ax = plt.subplots()\n",
    "ax.bar(names,accs)\n",
    "ax.set_title('Radiation Patients (Classification)')\n",
    "plt.xticks(rotation=45, ha='right')\n",
    "plt.ylabel('Accuracy Score')\n",
    "fig.savefig('rtpts_class.pdf', transparent=True, bbox_inches = \"tight\")\n",
    "fig.savefig('rtpts_class.png', bbox_inches = \"tight\")"
   ]
  },
  {
   "cell_type": "markdown",
   "metadata": {},
   "source": [
    "### Regression"
   ]
  },
  {
   "cell_type": "markdown",
   "metadata": {},
   "source": [
    "#### All Patients"
   ]
  },
  {
   "cell_type": "code",
   "execution_count": 107,
   "metadata": {
    "slideshow": {
     "slide_type": "subslide"
    }
   },
   "outputs": [],
   "source": [
    "# from https://scikit-learn.org/stable/auto_examples/classification/plot_classifier_comparison.html\n",
    "names = [\"Support Vector Regression\", \"Gradient Boosting Regressor\", \"XGBoost\",  \"Multi-layer Perceptron\", \"Linear Regression\"]\n",
    "\n",
    "regressors = [\n",
    "    make_pipeline(QuantileTransformer(), svm.SVR(kernel='rbf', C=100, tol=0.01, gamma = 0.1, max_iter=100000)),\n",
    "    make_pipeline(QuantileTransformer(), GradientBoostingRegressor(loss='huber', learning_rate=0.01, n_estimators=1000)),\n",
    "    make_pipeline(QuantileTransformer(), XGBRegressor(n_estimators=100, max_depth=1, learning_rate=0.1)),\n",
    "    make_pipeline(QuantileTransformer(), MLPRegressor(hidden_layer_sizes=(100,100), activation='relu', learning_rate='invscaling', \n",
    "                                                  solver='adam', alpha=0.00001, tol=0.01, max_iter=100)),\n",
    "    make_pipeline(QuantileTransformer(), LinearRegression(n_jobs=1))\n",
    "    ]"
   ]
  },
  {
   "cell_type": "code",
   "execution_count": 108,
   "metadata": {
    "slideshow": {
     "slide_type": "subslide"
    }
   },
   "outputs": [
    {
     "name": "stdout",
     "output_type": "stream",
     "text": [
      "MAE: ('Support Vector Regression', 297.96063410798087)\n",
      "MAE: ('Gradient Boosting Regressor', 337.0200673735622)\n",
      "MAE: ('XGBoost', 337.0278220543495)\n",
      "MAE: ('Multi-layer Perceptron', 321.23727250308065)\n",
      "MAE: ('Linear Regression', 328.3080809602359)\n"
     ]
    },
    {
     "data": {
      "image/png": "[encoded data removed]",
      "text/plain": [
       "<Figure size 432x288 with 1 Axes>"
      ]
     },
     "metadata": {
      "needs_background": "light"
     },
     "output_type": "display_data"
    }
   ],
   "source": [
    "# All patients -- tuned\n",
    "# X_train, X_test, y_train, y_test, X_news, X_train2, X, y \n",
    "\n",
    "maes = []\n",
    "\n",
    "for name, regr in zip(names, regressors):\n",
    "    regr.fit(X_train2, y_train)   #hiii fixed input and output dimension to 25\n",
    "    y_pred = regr.predict(X_news.transform(X_test))\n",
    "    \n",
    "    # evaluate predictions\n",
    "    mae = mean_absolute_error(y_test, y_pred)\n",
    "    maes.append(mae)\n",
    "    print('MAE:', (name, mae))\n",
    "    \n",
    "fig,ax = plt.subplots()\n",
    "ax.bar(names,maes, color=['g'])\n",
    "ax.set_title('All Patients/Treatments (Regression)')\n",
    "plt.xticks(rotation=45, ha='right')\n",
    "plt.ylabel('MAE')\n",
    "fig.savefig('allpts_reg.pdf', transparent=True, bbox_inches = \"tight\")\n",
    "fig.savefig('allpts_reg.png', bbox_inches = \"tight\")"
   ]
  },
  {
   "cell_type": "markdown",
   "metadata": {},
   "source": [
    "#### Radiation Only"
   ]
  },
  {
   "cell_type": "code",
   "execution_count": 109,
   "metadata": {
    "slideshow": {
     "slide_type": "subslide"
    }
   },
   "outputs": [],
   "source": [
    "# Radiation -- tuned\n",
    "# from https://scikit-learn.org/stable/auto_examples/classification/plot_classifier_comparison.html\n",
    "names = [\"Support Vector Regression\", \"Gradient Boosting Regressor\", \"XGBoost\",  \"Multi-layer Perceptron\", \"Linear Regression\"]\n",
    "\n",
    "regressors = [\n",
    "    make_pipeline(QuantileTransformer(), svm.SVR(kernel='linear', C=100, tol=0.01, gamma = 0.001, max_iter=100000)),\n",
    "    make_pipeline(QuantileTransformer(), GradientBoostingRegressor(loss='huber', learning_rate=0.01, n_estimators=1000)),\n",
    "    make_pipeline(QuantileTransformer(), XGBRegressor(n_estimators=50, max_depth=1, learning_rate=0.1)),\n",
    "    make_pipeline(QuantileTransformer(), MLPRegressor(hidden_layer_sizes=(100,100), activation='relu', learning_rate='constant', \n",
    "                                                  solver='adam', alpha=0.001, tol=0.001, max_iter=100)),\n",
    "    make_pipeline(QuantileTransformer(), LinearRegression(n_jobs=1))\n",
    "    ]"
   ]
  },
  {
   "cell_type": "code",
   "execution_count": 110,
   "metadata": {},
   "outputs": [
    {
     "name": "stdout",
     "output_type": "stream",
     "text": [
      "MAE: ('Support Vector Regression', 470.7063661417211)\n",
      "MAE: ('Gradient Boosting Regressor', 574.0557853629814)\n",
      "MAE: ('XGBoost', 577.7544914921627)\n",
      "MAE: ('Multi-layer Perceptron', 552.4415683536431)\n",
      "MAE: ('Linear Regression', 591.0370869722302)\n"
     ]
    },
    {
     "data": {
      "image/png": "[encoded data removed]",
      "text/plain": [
       "<Figure size 432x288 with 1 Axes>"
      ]
     },
     "metadata": {
      "needs_background": "light"
     },
     "output_type": "display_data"
    }
   ],
   "source": [
    "# Xr_train, Xr_test, yr_train, yr_test, Xr_news, Xr_train2, Xr, yr   \n",
    "\n",
    "maes = []\n",
    "\n",
    "for name, regr in zip(names, regressors):\n",
    "    regr.fit(Xr_train2, yr_train)\n",
    "    y_pred = regr.predict(Xr_news.transform(Xr_test))\n",
    "    \n",
    "    # evaluate predictions\n",
    "    mae = mean_absolute_error(yrc_test, y_pred)\n",
    "    maes.append(mae)\n",
    "    print('MAE:', (name, mae))\n",
    "\n",
    "fig,ax = plt.subplots()\n",
    "ax.bar(names,maes)\n",
    "ax.set_title('Radiation Patients (Regression)')\n",
    "plt.xticks(rotation=45, ha='right')\n",
    "plt.ylabel('MAE')\n",
    "fig.savefig('rtpts_reg.pdf', transparent=True, bbox_inches = \"tight\")\n",
    "fig.savefig('rtpts_reg.png', bbox_inches = \"tight\")"
   ]
  },
  {
   "cell_type": "markdown",
   "metadata": {},
   "source": [
    "## Models used"
   ]
  },
  {
   "cell_type": "code",
   "execution_count": 111,
   "metadata": {},
   "outputs": [],
   "source": [
    "names1 = [\"k-Nearest Neighbors\", \"SVC\", \"Gaussian Process\",\n",
    "         \"Decision Tree\", \"Random Forest\", \"Multi-layer Perceptron\", \"AdaBoost\", \"GaussianNB\",\n",
    "         \"Stochastic Gradient Descent\", \"Logistic Regression\", \"Gradient Boost\", \"LGBM\"]\n",
    "names2 = [\"Gaussian Process\", \"Stochastic Gradient Descent\", \"Multi-layer Perceptron\", \"k-Nearest Neighbors\", \"AdaBoost\"]\n",
    "names3 = [\"Support Vector Regression\", \"Gradient Boosting Regressor\", \"XGBoost\", \"Multi-layer Perceptron\", \n",
    "         \"Linear Regression\", \"SGD\", \"Kernel Ridge\", \"Elastic Net\", \"Bayesian Ridge\", \"LGBM\"]\n",
    "\n",
    "names4 = [\"Support Vector Regression\", \"Gradient Boosting Regressor\", \"XGBoost\",  \"Multi-layer Perceptron\", \"Linear Regression\"]"
   ]
  }
 ],
 "metadata": {
  "kernelspec": {
   "display_name": "Python 3",
   "language": "python",
   "name": "python3"
  },
  "language_info": {
   "codemirror_mode": {
    "name": "ipython",
    "version": 3
   },
   "file_extension": ".py",
   "mimetype": "text/x-python",
   "name": "python",
   "nbconvert_exporter": "python",
   "pygments_lexer": "ipython3",
   "version": "3.8.5"
  }
 },
 "nbformat": 4,
 "nbformat_minor": 4
}
